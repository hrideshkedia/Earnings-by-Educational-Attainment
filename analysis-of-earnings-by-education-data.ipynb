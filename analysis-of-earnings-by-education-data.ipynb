{
 "cells": [
  {
   "cell_type": "code",
   "execution_count": 1,
   "metadata": {
    "_cell_guid": "b1076dfc-b9ad-4769-8c92-a6c4dae69d19",
    "_uuid": "8f2839f25d086af736a60e9eeb907d3b93b6e0e5",
    "execution": {
     "iopub.execute_input": "2021-11-22T05:03:57.171915Z",
     "iopub.status.busy": "2021-11-22T05:03:57.171308Z",
     "iopub.status.idle": "2021-11-22T05:03:57.224106Z",
     "shell.execute_reply": "2021-11-22T05:03:57.222894Z",
     "shell.execute_reply.started": "2021-11-22T05:03:57.171778Z"
    }
   },
   "outputs": [],
   "source": [
    "# This Python 3 environment comes with many helpful analytics libraries installed\n",
    "# It is defined by the kaggle/python Docker image: https://github.com/kaggle/docker-python\n",
    "\n",
    "import numpy as np # linear algebra\n",
    "import pandas as pd # data processing, CSV file I/O (e.g. pd.read_csv)\n",
    "\n",
    "import os\n",
    "for dirname, _, filenames in os.walk(os.path.expanduser('~/Documents/GitHub/Earnings-by-Educational-Attainment')):\n",
    "    for filename in filenames:\n",
    "        if '.csv' in filename:\n",
    "            print(os.path.join(dirname, filename))        \n",
    "            full_df = pd.read_csv(os.path.join(dirname, filename))"
   ]
  },
  {
   "cell_type": "markdown",
   "metadata": {},
   "source": [
    "A look at the columns of the data set:"
   ]
  },
  {
   "cell_type": "code",
   "execution_count": 2,
   "metadata": {
    "execution": {
     "iopub.execute_input": "2021-11-22T05:03:57.227013Z",
     "iopub.status.busy": "2021-11-22T05:03:57.226401Z",
     "iopub.status.idle": "2021-11-22T05:03:57.270063Z",
     "shell.execute_reply": "2021-11-22T05:03:57.269283Z",
     "shell.execute_reply.started": "2021-11-22T05:03:57.226966Z"
    }
   },
   "outputs": [],
   "source": [
    "full_df.head()"
   ]
  },
  {
   "cell_type": "code",
   "execution_count": 3,
   "metadata": {
    "execution": {
     "iopub.execute_input": "2021-11-22T05:03:57.271965Z",
     "iopub.status.busy": "2021-11-22T05:03:57.271635Z",
     "iopub.status.idle": "2021-11-22T05:03:57.294465Z",
     "shell.execute_reply": "2021-11-22T05:03:57.293374Z",
     "shell.execute_reply.started": "2021-11-22T05:03:57.271924Z"
    }
   },
   "outputs": [],
   "source": [
    "print(full_df.info())"
   ]
  },
  {
   "cell_type": "markdown",
   "metadata": {},
   "source": [
    "As described in the dataset,\n",
    "\n",
    "> This is data collated from the Bureau of Labor Statistics and Census websites, about the labor force levels and median weekly earnings in constant 2020 dollars, for persons aged 25 and higher, from 1960 onwards.\n",
    "> \n",
    "> Educational attainment levels are categorized as follows: \n",
    ">\n",
    "> LHS: Less than a High School Diploma, \n",
    "> \n",
    "> HSG: High School Graduation or passing GED or equivalent, \n",
    "> \n",
    "> CAD: Some College or Associates Degree, \n",
    "> \n",
    "> BHD: Bachelors or Higher Degree.\n",
    "> \n",
    "> The median weekly earnings data by educational attainment is available from 1979 onwards, while the labor force data by educational attainment is available from 1992 onwards. However, the overall labor force and median weekly earnings data, and the percentage of population with high school graduation and with a bachelors degree or higher is available from 1960 onwards.\n",
    "\n",
    "The rows for labor force data are unavailable for years 1960-1991, while the median weekly earnings data are unavailable for years 1960-1978, as stated above. However, overall labor force data and overall median weekly earnings (for ages 15 and above) are available."
   ]
  },
  {
   "cell_type": "code",
   "execution_count": 4,
   "metadata": {
    "execution": {
     "iopub.execute_input": "2021-11-22T05:03:57.296589Z",
     "iopub.status.busy": "2021-11-22T05:03:57.296033Z",
     "iopub.status.idle": "2021-11-22T05:03:57.338633Z",
     "shell.execute_reply": "2021-11-22T05:03:57.337831Z",
     "shell.execute_reply.started": "2021-11-22T05:03:57.296549Z"
    }
   },
   "outputs": [],
   "source": [
    "truncated_df = full_df.dropna()\n",
    "truncated_df.head()"
   ]
  },
  {
   "cell_type": "code",
   "execution_count": 5,
   "metadata": {
    "execution": {
     "iopub.execute_input": "2021-11-22T05:03:57.342014Z",
     "iopub.status.busy": "2021-11-22T05:03:57.341444Z",
     "iopub.status.idle": "2021-11-22T05:03:58.245748Z",
     "shell.execute_reply": "2021-11-22T05:03:58.244846Z",
     "shell.execute_reply.started": "2021-11-22T05:03:57.341972Z"
    }
   },
   "outputs": [],
   "source": [
    "%matplotlib inline  \n",
    "\n",
    "# some imports to set up plotting\n",
    "import matplotlib.pyplot as plt\n",
    "# pip install seaborn\n",
    "import seaborn as sns\n",
    "\n",
    "# Set Matplotlib defaults\n",
    "plt.style.use(\"seaborn-whitegrid\")\n",
    "plt.rc(\"figure\", autolayout=True, figsize=(11, 5))\n",
    "plt.rc(\n",
    "    \"axes\",\n",
    "    labelweight=\"bold\",\n",
    "    labelsize=\"large\",\n",
    "    titleweight=\"bold\",\n",
    "    titlesize=16,\n",
    "    titlepad=10,\n",
    ")\n",
    "plot_params = dict(\n",
    "    color=\"0.75\",\n",
    "    style=\".-\",\n",
    "    markeredgecolor=\"0.25\",\n",
    "    markerfacecolor=\"0.25\",\n",
    "    legend=False,\n",
    ")\n",
    "\n",
    "# Graphics in retina format are more sharp and legible\n",
    "%config InlineBackend.figure_format = 'retina'"
   ]
  },
  {
   "cell_type": "code",
   "execution_count": 6,
   "metadata": {
    "execution": {
     "iopub.execute_input": "2021-11-22T05:03:58.247517Z",
     "iopub.status.busy": "2021-11-22T05:03:58.246990Z",
     "iopub.status.idle": "2021-11-22T05:03:58.811672Z",
     "shell.execute_reply": "2021-11-22T05:03:58.811055Z",
     "shell.execute_reply.started": "2021-11-22T05:03:58.247480Z"
    }
   },
   "outputs": [],
   "source": [
    "color_dict = {'LHS': 'peru', 'HSG': 'darkorange', 'CAD': 'olivedrab', 'BHD': 'teal', 'overall': 'grey'}\n",
    "### plotting Median Weekly Earnings ###\n",
    "# plt.plot(full_df['YEAR'], full_df['OVERALL WEEKLY MEDIAN EARNINGS (AGES 15 AND ABOVE)'],\n",
    "#          marker='o',linestyle='None', color=color_dict['overall'], label='overall')\n",
    "plt.plot(full_df['YEAR'], full_df['LHS MEDIAN WEEKLY EARNING (IN 2020 DOLLARS)'],\n",
    "         marker='o',linestyle='None', color=color_dict['LHS'], label='LHS')\n",
    "plt.hlines(full_df['LHS MEDIAN WEEKLY EARNING (IN 2020 DOLLARS)'].to_numpy()[19],\n",
    "           full_df['YEAR'].to_numpy()[19], full_df['YEAR'].to_numpy()[-1], linestyle='dashed', \n",
    "           color=color_dict['LHS'])\n",
    "plt.plot(full_df['YEAR'], full_df['HSG MEDIAN WEEKLY EARNING (IN 2020 DOLLARS)'],\n",
    "         marker='o',linestyle='None', color=color_dict['HSG'], label='HSG')\n",
    "plt.hlines(full_df['HSG MEDIAN WEEKLY EARNING (IN 2020 DOLLARS)'].to_numpy()[19],\n",
    "           full_df['YEAR'].to_numpy()[19], full_df['YEAR'].to_numpy()[-1], linestyle='dashed', \n",
    "           color=color_dict['HSG'])\n",
    "plt.plot(full_df['YEAR'], full_df['CAD MEDIAN WEEKLY EARNING (IN 2020 DOLLARS)'],\n",
    "         marker='o',linestyle='None', color=color_dict['CAD'], label='CAD')\n",
    "plt.hlines(full_df['CAD MEDIAN WEEKLY EARNING (IN 2020 DOLLARS)'].to_numpy()[19],\n",
    "           full_df['YEAR'].to_numpy()[19], full_df['YEAR'].to_numpy()[-1], linestyle='dashed', \n",
    "           color=color_dict['CAD'])\n",
    "\n",
    "plt.plot(full_df['YEAR'], full_df['BHD MEDIAN WEEKLY EARNING (IN 2020 DOLLARS)'],\n",
    "         marker='o',linestyle='None', color=color_dict['BHD'], label='BHD')\n",
    "plt.hlines(full_df['BHD MEDIAN WEEKLY EARNING (IN 2020 DOLLARS)'].to_numpy()[19],\n",
    "           full_df['YEAR'].to_numpy()[19], full_df['YEAR'].to_numpy()[-1], linestyle='dashed', \n",
    "           color=color_dict['BHD'])\n",
    "\n",
    "plt.plot(full_df['YEAR'], full_df['OVERALL WEEKLY MEDIAN EARNINGS (AGES 15 AND ABOVE)'],\n",
    "         marker='o',linestyle='None', color=color_dict['overall'], label='overall')\n",
    "\n",
    "plt.legend()\n",
    "plt.ylabel('Median Weekly Earnings (in 2020 dollars)')\n",
    "plt.xlabel('Year')\n",
    "plt.show()"
   ]
  },
  {
   "cell_type": "markdown",
   "metadata": {},
   "source": [
    "The above plots provide the motivation for the dataset and this notebook.\n",
    "We notice that for almost all educational attainment categories except BHD (Bachelors or Higher Degree), the median weekly income has stayed stagnant or decreased since 1979.\n",
    "\n",
    "The second plot shows the percentage of population that are High School Graduates (HSG), and the percentage of population with a Bachelors or Higher Degree (BHD). Notice the large gap between the HSG percentage and BHD percentage which has widened over the years.\n",
    "\n",
    "Given the low rates of college graduation in the country, the stagnation/decrease of median weekly incomes for people without a Bachelors or Higher Degree is an alarming trend, suggesting that majority of the country's labor force has seen a stagnation or decrease in their weekly incomes since the 1980s.\n",
    "\n",
    "We want to predict the future trend for the labor force statistics and median weekly incomes by educational attainment categories.\n",
    "\n",
    "Our goals are: \n",
    "(i) to estimate the labor force data for the future years 2020 to 2030 from past labor force data\n",
    "(ii) to estimate the median weekly earnings by highest educational attainment for the future years 2020 to 2030 from past earnings data and past and predicted labor force data.\n",
    "\n",
    "We note from the median weekly earnings plot above, that there is a \"seasonal\"/ periodic behavior in which we expect appears because of the financial crises that occur every 5-7 years in addition to a local linear trend for each of the categories.\n",
    "\n",
    "We will begin our exploratory data analysis of this dataset by examining the seasonal trends in the median weekly earnings data for each category using a periodogram."
   ]
  },
  {
   "cell_type": "code",
   "execution_count": 7,
   "metadata": {
    "execution": {
     "iopub.execute_input": "2021-11-22T05:03:58.813217Z",
     "iopub.status.busy": "2021-11-22T05:03:58.812872Z",
     "iopub.status.idle": "2021-11-22T05:04:00.626468Z",
     "shell.execute_reply": "2021-11-22T05:04:00.625683Z",
     "shell.execute_reply.started": "2021-11-22T05:03:58.813188Z"
    }
   },
   "outputs": [],
   "source": [
    "### plotting the periodogram for Median Weekly Earnings ###\n",
    "from pathlib import Path\n",
    "from warnings import simplefilter\n",
    "\n",
    "import seaborn as sns\n",
    "from sklearn.linear_model import LinearRegression\n",
    "from statsmodels.tsa.deterministic import CalendarFourier, DeterministicProcess\n",
    "\n",
    "simplefilter(\"ignore\")\n",
    "\n",
    "def plot_periodogram(ts, title_str=''):\n",
    "    from scipy.signal import periodogram\n",
    "    freqencies, spectrum = periodogram(\n",
    "        ts,\n",
    "        detrend='linear',\n",
    "        scaling='spectrum',\n",
    "    )\n",
    "    _, ax = plt.subplots()\n",
    "    ax.stem(freqencies, spectrum, linefmt='m-', markerfmt='mo' ) # color=\"purple\", ls='None', marker='o' \n",
    "#     ax.set_xscale(\"log\")\n",
    "    ax.set_xticks(np.arange(0.025, 0.5, 0.025))\n",
    "    ax.set_xticklabels([f'{xt:.3f}' for xt in np.arange(0.025, .5, 0.025)])\n",
    "    ax.set_xlabel('Frequency (Inverse Yrs)')\n",
    "    ax.set_ylabel('Power Spectral Density')\n",
    "    ax.set_title(f'Periodogram for {title_str}')\n",
    "#     return ax\n",
    "    plt.show()\n",
    "    \n",
    "plot_periodogram(full_df['LHS MEDIAN WEEKLY EARNING (IN 2020 DOLLARS)'][19:-10],\n",
    "                title_str='LHS MWE')\n",
    "plot_periodogram(full_df['HSG MEDIAN WEEKLY EARNING (IN 2020 DOLLARS)'][19:-10],\n",
    "                title_str='HSG MWE')\n",
    "plot_periodogram(full_df['CAD MEDIAN WEEKLY EARNING (IN 2020 DOLLARS)'][19:-10],\n",
    "                title_str='CAD MWE')\n",
    "plot_periodogram(full_df['BHD MEDIAN WEEKLY EARNING (IN 2020 DOLLARS)'][19:-10],\n",
    "                title_str='BHD MWE')\n"
   ]
  },
  {
   "cell_type": "markdown",
   "metadata": {},
   "source": [
    "Since the length of the time series is approximately 30 years, we will neglect the peaks in the periodogram that are close to 1/30, and only attempt to capture the next prominent peak through a seasonal trend component in our models. \n",
    "\n",
    "The LHS MWE (Median Weekly Earnings), HSG MWE, CAD MWE and BHD MWE periodograms show prominent peaks at approximately 1/10 years, 1/16 years, 1/16 years and 1/10 years respectively. We will use a seasonal trend model to capture these trends with the number of seasons set to two, and number of years per season set to half the period corresponding to the peak of the periodogram.\n",
    "\n",
    "For the LHS, CAD and BHD Median Weekly Earnings, we will use a seasonal trend with 2 seasons of 5 years each, while for the HSG Median Weekly Earnings we will use a seasonal trend with 2 seasons of 8 years each. \n",
    "\n",
    "***We will forecast the median weekly earnings for each educational attainment category by two methods: (i) based only on historical MWE data for that category, and (ii) based on historical MWE data for that category, and the labor force data forecasts for that category.***\n",
    "\n",
    "***Since we want to forecast values of the median earnings and the labor force variables a decade into the future and not just one year into the future, we  will use Structural Time Series models from the Tensor Flow Probability package instead of other machine learning methods which require much more data to fit, and often involve errors that accumulate quickly for future predictions. We will use [this fantastic example notebook from TensorFlow Probability](https://colab.research.google.com/github/tensorflow/probability/blob/main/tensorflow_probability/examples/jupyter_notebooks/Structural_Time_Series_Modeling_Case_Studies_Atmospheric_CO2_and_Electricity_Demand.ipynb#scrollTo=ULm_Z8Oe0Lhd) as our guide.\n",
    "We will build an STS model with a semi-local linear trend (to keep the variance bounded), and a seasonal component to forecast the values for the years 2021-2030.***"
   ]
  },
  {
   "cell_type": "code",
   "execution_count": 8,
   "metadata": {
    "execution": {
     "iopub.execute_input": "2021-11-22T05:04:00.628784Z",
     "iopub.status.busy": "2021-11-22T05:04:00.628008Z",
     "iopub.status.idle": "2021-11-22T05:04:07.461552Z",
     "shell.execute_reply": "2021-11-22T05:04:07.460955Z",
     "shell.execute_reply.started": "2021-11-22T05:04:00.628736Z"
    }
   },
   "outputs": [],
   "source": [
    "import collections\n",
    "\n",
    "import tensorflow.compat.v2 as tf\n",
    "import tensorflow_probability as tfp\n",
    "\n",
    "from tensorflow_probability import distributions as tfd\n",
    "from tensorflow_probability import sts\n",
    "\n",
    "tf.enable_v2_behavior()\n",
    "\n",
    "def plot_forecast(x, y,\n",
    "                  forecast_mean, forecast_scale, forecast_samples,\n",
    "                  title):\n",
    "    colors = sns.color_palette()\n",
    "    c1, c2 = colors[0], colors[1]\n",
    "    fig = plt.figure(figsize=(12, 6))\n",
    "    ax = fig.add_subplot(1, 1, 1)\n",
    "\n",
    "    num_steps = len(y)\n",
    "    num_steps_forecast = forecast_mean.shape[-1]\n",
    "    num_steps_train = num_steps - num_steps_forecast\n",
    "        \n",
    "    ax.plot(x, y, lw=2, color=c1, label='ground truth')\n",
    "\n",
    "    forecast_steps = np.arange(\n",
    "      x[num_steps_train],\n",
    "      x[num_steps_train]+num_steps_forecast,\n",
    "      dtype=x.dtype)\n",
    "    \n",
    "    mape = 100.*np.mean(np.abs(forecast_mean - \n",
    "                         y[-num_steps_forecast:])/y[-num_steps_forecast:])\n",
    "    print(f\"MAPE is {mape:.2f}%\")\n",
    "    ax.plot(forecast_steps, (forecast_samples.T), lw=1, color=c2, alpha=0.4)\n",
    "    \n",
    "    ax.plot(forecast_steps, forecast_mean, lw=2, ls='--', color=c2,\n",
    "           label='forecast')\n",
    "    ax.fill_between(forecast_steps,\n",
    "                   forecast_mean-2*forecast_scale,\n",
    "                   forecast_mean+2*forecast_scale, color=c2, alpha=0.2)\n",
    "\n",
    "    ymin, ymax = min(np.min(forecast_samples), np.min(y)), max(np.max(forecast_samples), np.max(y))\n",
    "    yrange = ymax-ymin\n",
    "    ax.set_ylim([ymin - yrange*0.1, ymax + yrange*0.1])\n",
    "    ax.set_title(\"{}\".format(title))\n",
    "    ax.legend()\n",
    "\n",
    "    return fig, ax\n",
    "\n",
    "def plot_components(dates,\n",
    "                    component_means_dict,\n",
    "                    component_stddevs_dict):\n",
    "    colors = sns.color_palette()\n",
    "    c1, c2 = colors[0], colors[1]\n",
    "\n",
    "    axes_dict = collections.OrderedDict()\n",
    "    num_components = len(component_means_dict)\n",
    "    fig = plt.figure(figsize=(12, 2.5 * num_components))\n",
    "    for i, component_name in enumerate(component_means_dict.keys()):\n",
    "        component_mean = component_means_dict[component_name]\n",
    "        component_stddev = component_stddevs_dict[component_name]\n",
    "\n",
    "    ax = fig.add_subplot(num_components,1,1+i)\n",
    "    ax.plot(dates, component_mean, lw=2)\n",
    "    ax.fill_between(dates,\n",
    "                     component_mean-2*component_stddev,\n",
    "                     component_mean+2*component_stddev,\n",
    "                     color=c2, alpha=0.5)\n",
    "    ax.set_title(component_name)\n",
    "    axes_dict[component_name] = ax\n",
    "    fig.tight_layout()\n",
    "    return fig, axes_dict"
   ]
  },
  {
   "cell_type": "markdown",
   "metadata": {},
   "source": [
    "Defining the model building, model fitting and forecasting functions."
   ]
  },
  {
   "cell_type": "code",
   "execution_count": 9,
   "metadata": {
    "execution": {
     "iopub.execute_input": "2021-11-22T05:04:07.463196Z",
     "iopub.status.busy": "2021-11-22T05:04:07.462865Z",
     "iopub.status.idle": "2021-11-22T05:04:07.494178Z",
     "shell.execute_reply": "2021-11-22T05:04:07.491229Z",
     "shell.execute_reply.started": "2021-11-22T05:04:07.463168Z"
    }
   },
   "outputs": [],
   "source": [
    "def build_linear_trend_model(observed_time_series):\n",
    "    semilocal_linear_trend = sts.SemiLocalLinearTrend(\n",
    "                                observed_time_series=observed_time_series,\n",
    "                                name='semilocal_linear_trend')    \n",
    "\n",
    "    model = sts.Sum([semilocal_linear_trend],\n",
    "                   observed_time_series=observed_time_series)\n",
    "\n",
    "    return model\n",
    "\n",
    "def build_linear_trend_seasonal_model(observed_time_series, steps_per_season=1, \n",
    "                                     num_seasons=2):\n",
    "    semilocal_linear_trend = sts.SemiLocalLinearTrend(\n",
    "                                observed_time_series=observed_time_series,\n",
    "                                name='semilocal_linear_trend')    \n",
    "\n",
    "    seasonal_trend = sts.Seasonal(\n",
    "            num_seasons=num_seasons, num_steps_per_season=steps_per_season, \n",
    "            observed_time_series=observed_time_series)\n",
    "\n",
    "    model = sts.Sum([semilocal_linear_trend, seasonal_trend],\n",
    "                   observed_time_series=observed_time_series)\n",
    "\n",
    "    return model\n",
    "\n",
    "def build_linear_trend_multiseason_model(observed_time_series, \n",
    "                                     steps_per_season_list=[1,1], \n",
    "                                     num_seasonal_trends=2,\n",
    "                                     num_seasons=2):\n",
    "    semilocal_linear_trend = sts.SemiLocalLinearTrend(\n",
    "                                observed_time_series=observed_time_series,\n",
    "                                name='semilocal_linear_trend')    \n",
    "\n",
    "    trend_list = [semilocal_linear_trend]\n",
    "    for i in range(num_seasonal_trends):\n",
    "        trend_list.append(sts.Seasonal(\n",
    "                num_seasons=num_seasons, \n",
    "                num_steps_per_season=steps_per_season_list[i], \n",
    "                observed_time_series=observed_time_series,\n",
    "                name=f'seasonal_trend_{i}'))\n",
    "                \n",
    "    model = sts.Sum(trend_list,\n",
    "                   observed_time_series=observed_time_series)\n",
    "\n",
    "    return model\n",
    "\n",
    "def fit_model_generate_forecast(model, train_time_series, num_forecast_steps, \n",
    "                                num_variational_steps=200):\n",
    "# Build the variational surrogate posteriors `qs`.\n",
    "    np.random.seed(101)\n",
    "    high = np.iinfo(np.int32).max\n",
    "    seed = np.random.randint(high)\n",
    "    variational_posteriors = tfp.sts.build_factored_surrogate_posterior(model=model, \n",
    "                                                                        seed=seed)\n",
    "\n",
    "# Build and optimize the variational loss function.\n",
    "    elbo_loss_curve = tfp.vi.fit_surrogate_posterior(\n",
    "        target_log_prob_fn=model.joint_log_prob(\n",
    "            observed_time_series=train_time_series),\n",
    "        surrogate_posterior=variational_posteriors,\n",
    "        optimizer=tf.optimizers.Adam(learning_rate=0.1),\n",
    "        num_steps=num_variational_steps,\n",
    "        jit_compile=True, seed=seed)\n",
    "    plt.plot(elbo_loss_curve)\n",
    "    plt.show()\n",
    "\n",
    "    q_samples_ = variational_posteriors.sample(100)\n",
    "    forecast_dist = tfp.sts.forecast(\n",
    "        model=model,\n",
    "        observed_time_series=train_time_series,\n",
    "        parameter_samples=q_samples_,\n",
    "        num_steps_forecast=num_forecast_steps)\n",
    "    \n",
    "    return (variational_posteriors, forecast_dist)\n",
    "\n",
    "def print_fit_params(variational_posteriors, model):\n",
    "        # # Draw samples from the variational posterior.\n",
    "    q_samples_ = variational_posteriors.sample(100)\n",
    "\n",
    "    print(\"Inferred parameters:\")\n",
    "    for param in model.parameters:\n",
    "      print(\"{}: {} +- {}\".format(param.name,\n",
    "                                  np.mean(q_samples_[param.name], axis=0),\n",
    "                                  np.std(q_samples_[param.name], axis=0)))\n",
    "\n",
    "def plot_forecast_results(forecast_dist, x_axis_data, train_data, title_str, \n",
    "                          num_samples=10):\n",
    "    (\n",
    "        forecast_mean,\n",
    "        forecast_scale,\n",
    "        forecast_samples\n",
    "    ) = (\n",
    "        forecast_dist.mean().numpy()[..., 0],\n",
    "        forecast_dist.stddev().numpy()[..., 0],\n",
    "        forecast_dist.sample(num_samples).numpy()[..., 0]\n",
    "        )\n",
    "\n",
    "    fig, ax = plot_forecast(x_axis_data, train_data,\n",
    "                        forecast_mean,\n",
    "                        forecast_scale,\n",
    "                        forecast_samples,\n",
    "                        title=title_str)\n",
    "    \n",
    "    \n",
    "    fig.tight_layout()\n",
    "    plt.show()\n",
    "    \n",
    "#### Functions for generating forecasts from predefined models \n",
    "#### and variational posteriors\n",
    "\n",
    "def generate_forecast(model, var_post, observed_time_series, num_forecast_steps):\n",
    "    q_samples_ = var_post.sample(100)\n",
    "    forecast_dist = tfp.sts.forecast(\n",
    "        model=model,\n",
    "        observed_time_series=observed_time_series,\n",
    "        parameter_samples=q_samples_,\n",
    "        num_steps_forecast=num_forecast_steps)\n",
    "    forecast_mean = forecast_dist.mean().numpy()[..., 0]\n",
    "    \n",
    "    return (forecast_mean, forecast_dist)\n",
    "\n",
    "def plot_forecast_future(forecast_dist, x, y, title_str, \n",
    "                          num_samples=10):\n",
    "    (\n",
    "        forecast_mean,\n",
    "        forecast_scale,\n",
    "        forecast_samples\n",
    "    ) = (\n",
    "        forecast_dist.mean().numpy()[..., 0],\n",
    "        forecast_dist.stddev().numpy()[..., 0],\n",
    "        forecast_dist.sample(num_samples).numpy()[..., 0]\n",
    "        )\n",
    "\n",
    "    colors = sns.color_palette()\n",
    "    c1, c2 = colors[0], colors[1]\n",
    "    fig = plt.figure(figsize=(12, 6))\n",
    "    ax = fig.add_subplot(1, 1, 1)\n",
    "\n",
    "    num_steps_train = len(y)\n",
    "    num_steps_forecast = forecast_mean.shape[-1]\n",
    "\n",
    "    ax.plot(x[:num_steps_train], y, lw=2, color=c1, label='observed')\n",
    "\n",
    "    forecast_steps = np.arange(\n",
    "      x[num_steps_train],\n",
    "      x[num_steps_train]+num_steps_forecast,\n",
    "      dtype=x.dtype)\n",
    "    \n",
    "    ax.plot(forecast_steps, (forecast_samples.T), lw=1, color=c2, alpha=0.4)\n",
    "    \n",
    "    ax.plot(forecast_steps, forecast_mean, lw=2, ls='--', color=c2,\n",
    "           label='forecast')\n",
    "    ax.plot(x[num_steps_train-1:num_steps_train+1], np.array([y[-1],forecast_mean[0]]), \n",
    "            lw=2, ls='--', color=c1)\n",
    "    \n",
    "    ax.fill_between(forecast_steps,\n",
    "                   forecast_mean-2*forecast_scale,\n",
    "                   forecast_mean+2*forecast_scale, color=c2, alpha=0.2)\n",
    "\n",
    "    ymin, ymax = min(np.min(forecast_samples), np.min(y)), max(np.max(forecast_samples), np.max(y))\n",
    "    yrange = ymax-ymin\n",
    "    ax.set_ylim([ymin - yrange*0.1, ymax + yrange*0.1])\n",
    "    ax.set_title(\"{}\".format(title_str))\n",
    "    ax.legend()\n",
    "    \n",
    "    fig.tight_layout()\n",
    "    plt.show()"
   ]
  },
  {
   "cell_type": "code",
   "execution_count": 10,
   "metadata": {
    "execution": {
     "iopub.execute_input": "2021-11-22T05:04:07.495778Z",
     "iopub.status.busy": "2021-11-22T05:04:07.495293Z",
     "iopub.status.idle": "2021-11-22T05:04:07.532171Z",
     "shell.execute_reply": "2021-11-22T05:04:07.531329Z",
     "shell.execute_reply.started": "2021-11-22T05:04:07.495739Z"
    }
   },
   "outputs": [],
   "source": [
    "### defining the series variables ###\n",
    "lhs_mwe_full = (full_df['LHS MEDIAN WEEKLY EARNING (IN 2020 DOLLARS)'].dropna()\n",
    "               ).to_numpy()\n",
    "hsg_mwe_full = (full_df['HSG MEDIAN WEEKLY EARNING (IN 2020 DOLLARS)'].dropna()\n",
    "               ).to_numpy()\n",
    "cad_mwe_full = (full_df['CAD MEDIAN WEEKLY EARNING (IN 2020 DOLLARS)'].dropna()\n",
    "               ).to_numpy()\n",
    "bhd_mwe_full = (full_df['BHD MEDIAN WEEKLY EARNING (IN 2020 DOLLARS)'].dropna()\n",
    "               ).to_numpy()\n",
    "full_mwe_years = (full_df['YEAR'].to_numpy())[-lhs_mwe_full.size:]\n",
    "\n",
    "\n",
    "lhs_mwe_trunc = truncated_df['LHS MEDIAN WEEKLY EARNING (IN 2020 DOLLARS)'].to_numpy()\n",
    "hsg_mwe_trunc = truncated_df['HSG MEDIAN WEEKLY EARNING (IN 2020 DOLLARS)'].to_numpy()\n",
    "cad_mwe_trunc = truncated_df['CAD MEDIAN WEEKLY EARNING (IN 2020 DOLLARS)'].to_numpy()\n",
    "bhd_mwe_trunc = truncated_df['BHD MEDIAN WEEKLY EARNING (IN 2020 DOLLARS)'].to_numpy()"
   ]
  },
  {
   "cell_type": "code",
   "execution_count": 11,
   "metadata": {
    "execution": {
     "iopub.execute_input": "2021-11-22T05:04:07.535005Z",
     "iopub.status.busy": "2021-11-22T05:04:07.534786Z",
     "iopub.status.idle": "2021-11-22T05:05:38.776584Z",
     "shell.execute_reply": "2021-11-22T05:05:38.775656Z",
     "shell.execute_reply.started": "2021-11-22T05:04:07.534980Z"
    }
   },
   "outputs": [],
   "source": [
    "num_forecast_steps = 10\n",
    "### LHS MWE ###\n",
    "lhs_mwe_model = build_linear_trend_seasonal_model(lhs_mwe_full[:-num_forecast_steps],\n",
    "                                                steps_per_season=5, num_seasons=2)\n",
    "(lhs_mwe_var_post, \n",
    " lhs_mwe_forecast_dist) = fit_model_generate_forecast(lhs_mwe_model, \n",
    "                        lhs_mwe_full[:-num_forecast_steps], num_forecast_steps, \n",
    "                        num_variational_steps=200)\n",
    "\n",
    "plot_forecast_results(lhs_mwe_forecast_dist, full_mwe_years, lhs_mwe_full, \n",
    "                      'LHS MWE', num_samples=10)\n",
    "\n",
    "### HSG MWE ###\n",
    "hsg_mwe_model = build_linear_trend_seasonal_model(hsg_mwe_full[:-num_forecast_steps],\n",
    "                                                steps_per_season=8, num_seasons=2)\n",
    "(hsg_mwe_var_post, \n",
    " hsg_mwe_forecast_dist) = fit_model_generate_forecast(hsg_mwe_model, \n",
    "                        hsg_mwe_full[:-num_forecast_steps], num_forecast_steps, \n",
    "                        num_variational_steps=200)\n",
    "\n",
    "plot_forecast_results(hsg_mwe_forecast_dist, full_mwe_years, hsg_mwe_full, \n",
    "                      'HSG MWE', num_samples=10)\n",
    "\n",
    "### CAD MWE ###\n",
    "cad_mwe_model = build_linear_trend_seasonal_model(cad_mwe_full[:-num_forecast_steps],\n",
    "                                                steps_per_season=8, num_seasons=2)\n",
    "(cad_mwe_var_post, \n",
    " cad_mwe_forecast_dist) = fit_model_generate_forecast(cad_mwe_model, \n",
    "                        cad_mwe_full[:-num_forecast_steps], num_forecast_steps, \n",
    "                        num_variational_steps=200)\n",
    "\n",
    "plot_forecast_results(cad_mwe_forecast_dist, full_mwe_years, cad_mwe_full, \n",
    "                      'CAD MWE', num_samples=10)\n",
    "\n",
    "### BHD MWE ###\n",
    "bhd_mwe_model = build_linear_trend_seasonal_model(bhd_mwe_full[:-num_forecast_steps],\n",
    "                                                steps_per_season=5, num_seasons=2)\n",
    "(bhd_mwe_var_post, \n",
    " bhd_mwe_forecast_dist) = fit_model_generate_forecast(bhd_mwe_model, \n",
    "                        bhd_mwe_full[:-num_forecast_steps], num_forecast_steps, \n",
    "                        num_variational_steps=200)\n",
    "\n",
    "plot_forecast_results(bhd_mwe_forecast_dist, full_mwe_years, bhd_mwe_full, \n",
    "                      'BHD MWE', num_samples=10)"
   ]
  },
  {
   "cell_type": "markdown",
   "metadata": {},
   "source": [
    "The model is unable to predict the recent upward trend in the median weekly earnings for persons with less than a high school diploma.\n",
    "\n",
    "We will now use the above trained models which use only the past MWE data for that category to generate forecasts for the years 2021-2030."
   ]
  },
  {
   "cell_type": "code",
   "execution_count": 12,
   "metadata": {
    "execution": {
     "iopub.execute_input": "2021-11-22T05:05:38.778728Z",
     "iopub.status.busy": "2021-11-22T05:05:38.778024Z",
     "iopub.status.idle": "2021-11-22T05:05:55.760306Z",
     "shell.execute_reply": "2021-11-22T05:05:55.759723Z",
     "shell.execute_reply.started": "2021-11-22T05:05:38.778681Z"
    }
   },
   "outputs": [],
   "source": [
    "#### METHOD (I) ####\n",
    "forecast_years = np.array(range(2021,2031))\n",
    "mwe_forecast_yrs = np.hstack((full_mwe_years, forecast_years))\n",
    "num_forecast_steps = 10\n",
    "\n",
    "lhs_mwe_mean, lhs_mwe_dist = generate_forecast(lhs_mwe_model, \n",
    "                                                       lhs_mwe_var_post,\n",
    "                                                       lhs_mwe_full,\n",
    "                                                       num_forecast_steps)\n",
    "plot_forecast_future(lhs_mwe_dist, mwe_forecast_yrs, lhs_mwe_full, \n",
    "                     'LHS Median Weekly Earnings')\n",
    "\n",
    "\n",
    "hsg_mwe_mean, hsg_mwe_dist = generate_forecast(hsg_mwe_model, \n",
    "                                                       hsg_mwe_var_post,\n",
    "                                                       hsg_mwe_full,\n",
    "                                                       num_forecast_steps)\n",
    "plot_forecast_future(hsg_mwe_dist, mwe_forecast_yrs, hsg_mwe_full, \n",
    "                     'HSG Median Weekly Earnings')\n",
    "\n",
    "\n",
    "cad_mwe_mean, cad_mwe_dist = generate_forecast(cad_mwe_model, \n",
    "                                                       cad_mwe_var_post,\n",
    "                                                       cad_mwe_full,\n",
    "                                                       num_forecast_steps)\n",
    "plot_forecast_future(cad_mwe_dist, mwe_forecast_yrs, cad_mwe_full, \n",
    "                     'CAD Median Weekly Earnings')\n",
    "\n",
    "\n",
    "bhd_mwe_mean, bhd_mwe_dist = generate_forecast(bhd_mwe_model, \n",
    "                                                       bhd_mwe_var_post,\n",
    "                                                       bhd_mwe_full,\n",
    "                                                       num_forecast_steps)\n",
    "plot_forecast_future(bhd_mwe_dist, mwe_forecast_yrs, bhd_mwe_full, \n",
    "                     'BHD Median Weekly Earnings')"
   ]
  },
  {
   "cell_type": "markdown",
   "metadata": {},
   "source": [
    "***We see that based only on the past data, the Median Weekly Earnings for the BHD category are predicted to rise steadily, while the Median Weekly Earnings forecasts for the other categories have high variance and are expected to saturate.***"
   ]
  },
  {
   "cell_type": "markdown",
   "metadata": {},
   "source": [
    "***We will now build a forecasting model for the category-wise Median Weekly Earnings using the available labor force data in addition to the median weekly earnings data.***\n",
    "\n",
    "***Since the overall labor force data is available for a longer period of time (1960 onwards), we will begin by building models to generate forecasts for the overall labor force data. We will then build models for the category-wise labor force data, using the overall labor force data forecasts multiplied by the HSG and BHD population percentages as a regressor. Finally we will build models for the category-wise median weekly earnings data using the category-wise labor force data forecasts as regressors, and compare our forecasts to the forecast based purely on the historical trend shown above.***\n",
    "\n",
    "Plotting the overall labor force data, and building models to generate forecasts for it:"
   ]
  },
  {
   "cell_type": "code",
   "execution_count": 13,
   "metadata": {
    "execution": {
     "iopub.execute_input": "2021-11-22T05:05:55.761941Z",
     "iopub.status.busy": "2021-11-22T05:05:55.761499Z",
     "iopub.status.idle": "2021-11-22T05:05:57.163542Z",
     "shell.execute_reply": "2021-11-22T05:05:57.162831Z",
     "shell.execute_reply.started": "2021-11-22T05:05:55.761908Z"
    }
   },
   "outputs": [],
   "source": [
    "plt.plot(full_df['YEAR'], full_df['OVERALL PERCENT HSG'],          \n",
    "         marker='o',linestyle='None', color=color_dict['overall'], label='overall HSG')\n",
    "plt.plot(full_df['YEAR'], full_df['OVERALL PERCENT BHD'],          \n",
    "         marker='o',linestyle='None', color='c', label='overall BHD')\n",
    "plt.legend()\n",
    "plt.ylabel('Population Level Percentages')\n",
    "plt.xlabel('Year')\n",
    "plt.show()\n",
    "\n",
    "### plotting Labor Force Levels ###\n",
    "plt.plot(truncated_df['YEAR'], truncated_df['LHS LABOR FORCE LEVEL (IN THOUSANDS)'],\n",
    "         marker='o',linestyle='None', color=color_dict['LHS'], label='LHS')\n",
    "plt.plot(truncated_df['YEAR'], truncated_df['HSG LABOR FORCE LEVEL (IN THOUSANDS)'],\n",
    "         marker='o',linestyle='None', color=color_dict['HSG'], label='HSG')\n",
    "plt.plot(truncated_df['YEAR'], truncated_df['CAD LABOR FORCE LEVEL (IN THOUSANDS)'],\n",
    "         marker='o',linestyle='None', color=color_dict['CAD'], label='CAD')\n",
    "plt.plot(truncated_df['YEAR'], truncated_df['BHD LABOR FORCE LEVEL (IN THOUSANDS)'],\n",
    "         marker='o',linestyle='None', color=color_dict['BHD'], label='BHD')\n",
    "plt.plot(full_df['YEAR'], full_df['OVERALL LABOR FORCE LEVEL (IN THOUSANDS)']/4.,\n",
    "         marker='o',linestyle='None', color=color_dict['overall'], label='overall/4')\n",
    "plt.legend()\n",
    "plt.ylabel('Labor Force Level (in Thousands)')\n",
    "plt.xlabel('Year')\n",
    "plt.show()\n",
    "\n",
    "### plotting Labor Force Participation Rates ###\n",
    "plt.plot(truncated_df['YEAR'], truncated_df['LHS LABOR FORCE PARTICIPATION RATE (IN PERCENT)'],\n",
    "         marker='o',linestyle='None', color=color_dict['LHS'], label='LHS')\n",
    "plt.plot(truncated_df['YEAR'], truncated_df['HSG LABOR FORCE PARTICIPATION RATE (IN PERCENT)'],\n",
    "         marker='o',linestyle='None', color=color_dict['HSG'], label='HSG')\n",
    "plt.plot(truncated_df['YEAR'], truncated_df['CAD LABOR FORCE PARTICIPATION RATE (IN PERCENT)'],\n",
    "         marker='o',linestyle='None', color=color_dict['CAD'], label='CAD')\n",
    "plt.plot(truncated_df['YEAR'], truncated_df['BHD LABOR FORCE PARTICIPATION RATE (IN PERCENT)'],\n",
    "         marker='o',linestyle='None', color=color_dict['BHD'], label='BHD')\n",
    "plt.plot(full_df['YEAR'], full_df['OVERALL LABOR FORCE PARTICIPATION RATE (IN PERCENT)'],\n",
    "         marker='o',linestyle='None', color=color_dict['overall'], label='overall')\n",
    "plt.legend()\n",
    "plt.xlabel('Year')\n",
    "plt.ylabel('Labor Force Participation Rate (in Percent)')\n",
    "plt.show()\n",
    "\n",
    "### plotting Employment Levels ###\n",
    "plt.plot(truncated_df['YEAR'], truncated_df['LHS EMPLOYMENT LEVEL (IN THOUSANDS)'],\n",
    "         marker='o',linestyle='None', color=color_dict['LHS'], label='LHS')\n",
    "plt.plot(truncated_df['YEAR'], truncated_df['HSG EMPLOYMENT LEVEL (IN THOUSANDS)'],\n",
    "         marker='o',linestyle='None', color=color_dict['HSG'], label='HSG')\n",
    "plt.plot(truncated_df['YEAR'], truncated_df['CAD EMPLOYMENT LEVEL (IN THOUSANDS)'],\n",
    "         marker='o',linestyle='None', color=color_dict['CAD'], label='CAD')\n",
    "plt.plot(truncated_df['YEAR'], truncated_df['BHD EMPLOYMENT LEVEL (IN THOUSANDS)'],\n",
    "         marker='o',linestyle='None', color=color_dict['BHD'], label='BHD')\n",
    "plt.plot(full_df['YEAR'], full_df['OVERALL EMPLOYMENT LEVEL (IN THOUSANDS)']/4.,\n",
    "         marker='o',linestyle='None', color=color_dict['overall'], label='overall/4')\n",
    "plt.legend()\n",
    "plt.ylabel('Employment Level (in Thousands)')\n",
    "plt.xlabel('Year')\n",
    "plt.show()"
   ]
  },
  {
   "cell_type": "markdown",
   "metadata": {},
   "source": [
    "It looks like for each of plots above, the overall quantity behaves like a weighted average of the corresponding quantity for LHS, HSG, CAD and BHD categories, as we might expect. Since the overall quantities have more historical data available, their forecasts may be more reliable, and could be used in generating forecasts for the category-wise labor force variables.\n",
    "\n",
    "We would like to predict for the future years, for each of categories (LHS, HSG, CAD, BHD), the independent Labor force variables: Labor Force Level, Labor Force Participation Rate, and the Labor Force Employment Level. "
   ]
  },
  {
   "cell_type": "markdown",
   "metadata": {},
   "source": [
    "For each category and the labor force variables, we will now build a BSTS model that has a seasonal component and a semi-local linear trend component, to estimate the values for the years 2021-2030.\n",
    "\n",
    "We begin by collating the overall and category-wise data."
   ]
  },
  {
   "cell_type": "code",
   "execution_count": 14,
   "metadata": {
    "execution": {
     "iopub.execute_input": "2021-11-22T05:05:57.168509Z",
     "iopub.status.busy": "2021-11-22T05:05:57.168324Z",
     "iopub.status.idle": "2021-11-22T05:05:57.182861Z",
     "shell.execute_reply": "2021-11-22T05:05:57.182234Z",
     "shell.execute_reply.started": "2021-11-22T05:05:57.168487Z"
    }
   },
   "outputs": [],
   "source": [
    "### Since overall_hsg_percent and overall_bhd_percent are missing data \n",
    "### for the years 1961 and 1963, we will begin by filling in those values with the\n",
    "### average of the preceding and succeeding values.\n",
    "full_df['OVERALL PERCENT HSG'][1] = (full_df['OVERALL PERCENT HSG'][0]+\n",
    "                                     full_df['OVERALL PERCENT HSG'][2])/2.\n",
    "full_df['OVERALL PERCENT HSG'][3] = (full_df['OVERALL PERCENT HSG'][2]+\n",
    "                                     full_df['OVERALL PERCENT HSG'][4])/2.\n",
    "\n",
    "full_df['OVERALL PERCENT BHD'][1] = (full_df['OVERALL PERCENT BHD'][0]+\n",
    "                                     full_df['OVERALL PERCENT BHD'][2])/2.\n",
    "full_df['OVERALL PERCENT BHD'][3] = (full_df['OVERALL PERCENT BHD'][2]+\n",
    "                                     full_df['OVERALL PERCENT BHD'][4])/2.\n",
    "\n",
    "overall_hsg_percent = full_df['OVERALL PERCENT HSG'].to_numpy()\n",
    "overall_bhd_percent = full_df['OVERALL PERCENT BHD'].to_numpy()\n",
    "\n",
    "overall_lf_level = 1.*full_df['OVERALL LABOR FORCE LEVEL (IN THOUSANDS)'].to_numpy()\n",
    "lhs_lf_level = 1.*truncated_df['LHS LABOR FORCE LEVEL (IN THOUSANDS)'].to_numpy()\n",
    "hsg_lf_level = 1.*truncated_df['HSG LABOR FORCE LEVEL (IN THOUSANDS)'].to_numpy()\n",
    "cad_lf_level = 1.*truncated_df['CAD LABOR FORCE LEVEL (IN THOUSANDS)'].to_numpy()\n",
    "bhd_lf_level = 1.*truncated_df['BHD LABOR FORCE LEVEL (IN THOUSANDS)'].to_numpy()\n",
    "\n",
    "overall_emp_level = 1.*full_df['OVERALL EMPLOYMENT LEVEL (IN THOUSANDS)'].to_numpy()\n",
    "lhs_emp_level = 1.*truncated_df['LHS EMPLOYMENT LEVEL (IN THOUSANDS)'].to_numpy()\n",
    "hsg_emp_level = 1.*truncated_df['HSG EMPLOYMENT LEVEL (IN THOUSANDS)'].to_numpy()\n",
    "cad_emp_level = 1.*truncated_df['CAD EMPLOYMENT LEVEL (IN THOUSANDS)'].to_numpy()\n",
    "bhd_emp_level = 1.*truncated_df['BHD EMPLOYMENT LEVEL (IN THOUSANDS)'].to_numpy()\n",
    "\n",
    "lhs_lf_pr = 1.*truncated_df['LHS LABOR FORCE PARTICIPATION RATE (IN PERCENT)'].to_numpy()\n",
    "hsg_lf_pr = 1.*truncated_df['HSG LABOR FORCE PARTICIPATION RATE (IN PERCENT)'].to_numpy()\n",
    "cad_lf_pr = 1.*truncated_df['CAD LABOR FORCE PARTICIPATION RATE (IN PERCENT)'].to_numpy()\n",
    "bhd_lf_pr = 1.*truncated_df['BHD LABOR FORCE PARTICIPATION RATE (IN PERCENT)'].to_numpy()\n",
    "overall_lf_pr = 1.*full_df['OVERALL LABOR FORCE PARTICIPATION RATE (IN PERCENT)'].to_numpy()\n",
    "\n",
    "full_df_years = full_df.YEAR.to_numpy()"
   ]
  },
  {
   "cell_type": "markdown",
   "metadata": {},
   "source": [
    "Applying the above machinery to forecast values of Overall HSG percent, Overall BHD percent, Overall Labor Force Level, Overall Labor Force Participation Rate, and the Overall Employment Level. "
   ]
  },
  {
   "cell_type": "code",
   "execution_count": 15,
   "metadata": {
    "execution": {
     "iopub.execute_input": "2021-11-22T05:05:57.183932Z",
     "iopub.status.busy": "2021-11-22T05:05:57.183715Z",
     "iopub.status.idle": "2021-11-22T05:05:58.695217Z",
     "shell.execute_reply": "2021-11-22T05:05:58.694481Z",
     "shell.execute_reply.started": "2021-11-22T05:05:57.183907Z"
    }
   },
   "outputs": [],
   "source": [
    "### To estimate the seasonal/oscillating component of the variables ###\n",
    "\n",
    "plot_periodogram(overall_hsg_percent[:-num_forecast_steps], title_str='Overall HSG %')\n",
    "\n",
    "plot_periodogram(overall_bhd_percent[:-num_forecast_steps], title_str='Overall BHD %')\n",
    "\n",
    "plot_periodogram(overall_lf_level[:-num_forecast_steps], title_str='Overall LF Level')\n",
    "\n",
    "plot_periodogram(overall_emp_level[:-num_forecast_steps], \n",
    "                 title_str='Overall Employment Level')\n",
    "\n",
    "plot_periodogram(overall_lf_pr[:-num_forecast_steps], \n",
    "                 title_str='Overall LF Participation Rate')"
   ]
  },
  {
   "cell_type": "markdown",
   "metadata": {},
   "source": [
    "Since the data length is approximately 50 years, we will neglect the peaks close to 1/50 years, and look at the next prominent peak in the periodogram to model with a seasonal trend. \n",
    "\n",
    "The periodogram for the overall BHD %, the Overall LF Level, the Overall LF participation rate, and the Overall Employment Level, all show a peak at approximately 1/24 years, suggesting using a seasonal trend with two seasons with a length of 12 years each. The periodogram for the overall HSG % shows no prominent peaks except for the peak at close to 1/50 years, which we neglect. We will model the overall HSG % by a local linear trend without any seasonal component."
   ]
  },
  {
   "cell_type": "code",
   "execution_count": 16,
   "metadata": {
    "execution": {
     "iopub.execute_input": "2021-11-22T05:05:58.696704Z",
     "iopub.status.busy": "2021-11-22T05:05:58.696507Z",
     "iopub.status.idle": "2021-11-22T05:06:15.412747Z",
     "shell.execute_reply": "2021-11-22T05:06:15.412180Z",
     "shell.execute_reply.started": "2021-11-22T05:05:58.696679Z"
    }
   },
   "outputs": [],
   "source": [
    "### Overall HSG percent ###\n",
    "hsg_percent_model = build_linear_trend_model(overall_hsg_percent[:-num_forecast_steps])\n",
    "\n",
    "(hsg_percent_var_post, \n",
    " hsg_percent_forecast_dist) = fit_model_generate_forecast(hsg_percent_model,\n",
    "                                overall_hsg_percent[:-num_forecast_steps], \n",
    "                                num_forecast_steps)\n",
    "\n",
    "# print_fit_params(hsg_percent_var_post, hsg_percent_model)\n",
    "\n",
    "plot_forecast_results(hsg_percent_forecast_dist, full_df_years, overall_hsg_percent, \n",
    "                      'Overall HSG percent', num_samples=10)"
   ]
  },
  {
   "cell_type": "markdown",
   "metadata": {},
   "source": [
    "It looks like the Semi-local linear trend model does a good job of forecasting the percent of persons with high school graduation over the last decade. "
   ]
  },
  {
   "cell_type": "code",
   "execution_count": 17,
   "metadata": {
    "execution": {
     "iopub.execute_input": "2021-11-22T05:06:15.414527Z",
     "iopub.status.busy": "2021-11-22T05:06:15.413728Z",
     "iopub.status.idle": "2021-11-22T05:06:36.712318Z",
     "shell.execute_reply": "2021-11-22T05:06:36.711717Z",
     "shell.execute_reply.started": "2021-11-22T05:06:15.414492Z"
    }
   },
   "outputs": [],
   "source": [
    "### Overall BHD percent ###\n",
    "bhd_percent_model = build_linear_trend_seasonal_model(overall_bhd_percent[:-num_forecast_steps],\n",
    "                                            steps_per_season=12)\n",
    "(bhd_percent_var_post, \n",
    " bhd_percent_forecast_dist) = fit_model_generate_forecast( bhd_percent_model,\n",
    "                overall_bhd_percent[:-num_forecast_steps], num_forecast_steps)\n",
    "\n",
    "# print_fit_params(bhd_percent_var_post, bhd_percent_model)\n",
    "\n",
    "plot_forecast_results(bhd_percent_forecast_dist, full_df_years, overall_bhd_percent, \n",
    "                      'Overall BHD percent', num_samples=10)"
   ]
  },
  {
   "cell_type": "markdown",
   "metadata": {},
   "source": [
    "It looks like the percentage of persons with a Bachelors Degree or Higher has increased considerably in the last decade compared to past decades, and the model is unable to forecast that."
   ]
  },
  {
   "cell_type": "code",
   "execution_count": 18,
   "metadata": {
    "execution": {
     "iopub.execute_input": "2021-11-22T05:06:36.713832Z",
     "iopub.status.busy": "2021-11-22T05:06:36.713271Z",
     "iopub.status.idle": "2021-11-22T05:06:58.522526Z",
     "shell.execute_reply": "2021-11-22T05:06:58.521943Z",
     "shell.execute_reply.started": "2021-11-22T05:06:36.713792Z"
    }
   },
   "outputs": [],
   "source": [
    "### Overall Labor Force Level ###\n",
    "### We use a linear trend combined with a seasonal trend here ###\n",
    "lf_level_model = build_linear_trend_seasonal_model(overall_lf_level[:-num_forecast_steps],\n",
    "                                                  steps_per_season=12)\n",
    "(lf_level_var_post, \n",
    " lf_level_forecast_dist) = fit_model_generate_forecast( lf_level_model,\n",
    "                        overall_lf_level[:-num_forecast_steps], num_forecast_steps)\n",
    "\n",
    "# print_fit_params(lf_level_var_post, lf_level_model)\n",
    "\n",
    "plot_forecast_results(lf_level_forecast_dist, full_df_years, overall_lf_level, \n",
    "                      'Overall Labor Force Level', num_samples=10)"
   ]
  },
  {
   "cell_type": "markdown",
   "metadata": {},
   "source": [
    "It appears that the labor force levels have also shown an uptick which the model is unable to predict. The dip at the end is probably because of Covid, and is again absent in the forecast. Yet, the forecast is only a few percent off from the actual statistics."
   ]
  },
  {
   "cell_type": "code",
   "execution_count": 19,
   "metadata": {
    "execution": {
     "iopub.execute_input": "2021-11-22T05:06:58.524016Z",
     "iopub.status.busy": "2021-11-22T05:06:58.523668Z",
     "iopub.status.idle": "2021-11-22T05:07:20.047467Z",
     "shell.execute_reply": "2021-11-22T05:07:20.046258Z",
     "shell.execute_reply.started": "2021-11-22T05:06:58.523976Z"
    }
   },
   "outputs": [],
   "source": [
    "### Overall Employment Level ###\n",
    "### We use a linear trend \n",
    "emp_level_model = build_linear_trend_seasonal_model(overall_emp_level[:-num_forecast_steps],\n",
    "                                                   steps_per_season=12)\n",
    "(emp_level_var_post, \n",
    " emp_level_forecast_dist) = fit_model_generate_forecast(emp_level_model,\n",
    "                        overall_emp_level[:-num_forecast_steps], num_forecast_steps)\n",
    "\n",
    "# print_fit_params(emp_level_var_post, emp_level_model)\n",
    "\n",
    "plot_forecast_results(emp_level_forecast_dist, full_df_years, overall_emp_level, \n",
    "                      'Overall Employment Level', num_samples=10)"
   ]
  },
  {
   "cell_type": "markdown",
   "metadata": {},
   "source": [
    "Here, the model is unable to account for the upward trend in employment levels at the beginning of the last decade, and the late dip likely due to the pandemic."
   ]
  },
  {
   "cell_type": "code",
   "execution_count": 20,
   "metadata": {
    "execution": {
     "iopub.execute_input": "2021-11-22T05:07:20.048698Z",
     "iopub.status.busy": "2021-11-22T05:07:20.048488Z",
     "iopub.status.idle": "2021-11-22T05:07:42.505010Z",
     "shell.execute_reply": "2021-11-22T05:07:42.503729Z",
     "shell.execute_reply.started": "2021-11-22T05:07:20.048665Z"
    }
   },
   "outputs": [],
   "source": [
    "### Overall Labor Force Participation Rate ###\n",
    "lf_pr_model = build_linear_trend_seasonal_model(overall_lf_pr[:-num_forecast_steps],\n",
    "                                               steps_per_season=12)  \n",
    "(lf_pr_var_post, \n",
    " lf_pr_forecast_dist) = fit_model_generate_forecast( lf_pr_model,\n",
    "                            overall_lf_pr[:-num_forecast_steps], num_forecast_steps)\n",
    "\n",
    "# print_fit_params(lf_pr_var_post, lf_pr_model)\n",
    "\n",
    "plot_forecast_results(lf_pr_forecast_dist, full_df_years, overall_lf_pr, \n",
    "                      'Overall Labor Force Participation Rate', num_samples=10)"
   ]
  },
  {
   "cell_type": "markdown",
   "metadata": {},
   "source": [
    "Here the rise before the pandemic and the dip due to the pandemic is not captured by the model.\n",
    "\n",
    "We will now use the above models to forecast the Overall Labor Force Variables: HSG Percent, BHD Percent, Labor Force Level, Employment Level, Labor Force Participation Rate, for the years 2021-2030."
   ]
  },
  {
   "cell_type": "code",
   "execution_count": 21,
   "metadata": {
    "execution": {
     "iopub.execute_input": "2021-11-22T05:07:42.507715Z",
     "iopub.status.busy": "2021-11-22T05:07:42.507389Z",
     "iopub.status.idle": "2021-11-22T05:07:45.621851Z",
     "shell.execute_reply": "2021-11-22T05:07:45.620865Z",
     "shell.execute_reply.started": "2021-11-22T05:07:42.507637Z"
    }
   },
   "outputs": [],
   "source": [
    "forecast_years = np.array(range(2021,2031))\n",
    "num_forecast_steps = 10\n",
    "hsg_percent_mean, hsg_percent_dist = generate_forecast(hsg_percent_model, \n",
    "                                                       hsg_percent_var_post,\n",
    "                                                       overall_hsg_percent,\n",
    "                                                       num_forecast_steps)\n",
    "\n",
    "full_df_forecast_yrs = np.hstack((full_df_years, forecast_years))\n",
    "plot_forecast_future(hsg_percent_dist, full_df_forecast_yrs, overall_hsg_percent, \n",
    "                     'HSG percent')\n",
    "hsg_percent_forecast = np.hstack((overall_hsg_percent, hsg_percent_mean))"
   ]
  },
  {
   "cell_type": "code",
   "execution_count": 22,
   "metadata": {
    "execution": {
     "iopub.execute_input": "2021-11-22T05:07:45.623726Z",
     "iopub.status.busy": "2021-11-22T05:07:45.623360Z",
     "iopub.status.idle": "2021-11-22T05:07:50.344594Z",
     "shell.execute_reply": "2021-11-22T05:07:50.343751Z",
     "shell.execute_reply.started": "2021-11-22T05:07:45.623678Z"
    }
   },
   "outputs": [],
   "source": [
    "bhd_percent_mean, bhd_percent_dist = generate_forecast(bhd_percent_model, \n",
    "                                                       bhd_percent_var_post,\n",
    "                                                       overall_bhd_percent,\n",
    "                                                       num_forecast_steps)\n",
    "plot_forecast_future(bhd_percent_dist, full_df_forecast_yrs, overall_bhd_percent, \n",
    "                     'BHD percent')\n",
    "bhd_percent_forecast = np.hstack((overall_bhd_percent, bhd_percent_mean))"
   ]
  },
  {
   "cell_type": "markdown",
   "metadata": {},
   "source": [
    "The percentage of persons with a Bachelors or Higher Degree is expected to come close to 50 % over the next decade."
   ]
  },
  {
   "cell_type": "code",
   "execution_count": 23,
   "metadata": {
    "execution": {
     "iopub.execute_input": "2021-11-22T05:07:50.346675Z",
     "iopub.status.busy": "2021-11-22T05:07:50.346036Z",
     "iopub.status.idle": "2021-11-22T05:07:54.563854Z",
     "shell.execute_reply": "2021-11-22T05:07:54.562995Z",
     "shell.execute_reply.started": "2021-11-22T05:07:50.346636Z"
    }
   },
   "outputs": [],
   "source": [
    "lf_level_mean, lf_level_dist = generate_forecast(lf_level_model, \n",
    "                                               lf_level_var_post,\n",
    "                                               overall_lf_level,\n",
    "                                               num_forecast_steps)\n",
    "plot_forecast_future(lf_level_dist, full_df_forecast_yrs, overall_lf_level, \n",
    "                     'Overall LF Level')\n",
    "lf_level_forecast = np.hstack((overall_lf_level, lf_level_mean))"
   ]
  },
  {
   "cell_type": "code",
   "execution_count": 24,
   "metadata": {
    "execution": {
     "iopub.execute_input": "2021-11-22T05:07:54.565546Z",
     "iopub.status.busy": "2021-11-22T05:07:54.565255Z",
     "iopub.status.idle": "2021-11-22T05:07:58.638565Z",
     "shell.execute_reply": "2021-11-22T05:07:58.637751Z",
     "shell.execute_reply.started": "2021-11-22T05:07:54.565509Z"
    }
   },
   "outputs": [],
   "source": [
    "emp_level_mean, emp_level_dist = generate_forecast(emp_level_model, \n",
    "                                               emp_level_var_post,\n",
    "                                               overall_emp_level,\n",
    "                                               num_forecast_steps)\n",
    "plot_forecast_future(emp_level_dist, full_df_forecast_yrs, overall_emp_level, \n",
    "                     'Overall Employment Level')\n",
    "emp_level_forecast = np.hstack((overall_emp_level, emp_level_mean))"
   ]
  },
  {
   "cell_type": "code",
   "execution_count": 25,
   "metadata": {
    "execution": {
     "iopub.execute_input": "2021-11-22T05:07:58.639859Z",
     "iopub.status.busy": "2021-11-22T05:07:58.639618Z",
     "iopub.status.idle": "2021-11-22T05:08:02.752921Z",
     "shell.execute_reply": "2021-11-22T05:08:02.751968Z",
     "shell.execute_reply.started": "2021-11-22T05:07:58.639823Z"
    }
   },
   "outputs": [],
   "source": [
    "lf_pr_mean, lf_pr_dist = generate_forecast(lf_pr_model, \n",
    "                                               lf_pr_var_post,\n",
    "                                               overall_lf_pr,\n",
    "                                               num_forecast_steps)\n",
    "plot_forecast_future(lf_pr_dist, full_df_forecast_yrs, overall_lf_pr, \n",
    "                     'Overall LF Participation Rate')\n",
    "lf_pr_forecast = np.hstack((overall_lf_pr, lf_pr_mean))"
   ]
  },
  {
   "cell_type": "markdown",
   "metadata": {},
   "source": [
    "The HSG percent and the BHD percent forecasts show a clear upward trend, while the labor force forecasts have high variance with either saturation or a downward trend."
   ]
  },
  {
   "cell_type": "markdown",
   "metadata": {},
   "source": [
    "***We are interested in forecasting the educational category-wise labor force variables and the educational category-wise median weekly earnings. For this, we will forecast the category-wise data for the labor force variables in two ways: (i) using only the past category-wise data for that variable, and (ii) using the past category-wise data and the overall data along with the population fractions of HSG and BHD multipied with the overall data for that variable as a regression variable. We will use a semilocal linear trend and a seasonal trend with a seasonal duration determined from a periodogram of the data.***\n",
    "\n",
    "***Finally we will use these forecasts of the category-wise labor force variables and the past data for the category-wise median weekly earnings to forecast the category-wise median weekly earnings.***"
   ]
  },
  {
   "cell_type": "code",
   "execution_count": 26,
   "metadata": {
    "execution": {
     "iopub.execute_input": "2021-11-22T05:08:02.754572Z",
     "iopub.status.busy": "2021-11-22T05:08:02.754358Z",
     "iopub.status.idle": "2021-11-22T05:08:04.401393Z",
     "shell.execute_reply": "2021-11-22T05:08:04.400548Z",
     "shell.execute_reply.started": "2021-11-22T05:08:02.754546Z"
    }
   },
   "outputs": [],
   "source": [
    "### To estimate the seasonal/oscillating component of the variables ###\n",
    "num_forecast_steps = 6 ### since we have lesser data available \n",
    "\n",
    "trunc_df_years = truncated_df['YEAR'].to_numpy()\n",
    "\n",
    "### plotting Labor Force Levels ###\n",
    "plt.plot(truncated_df['YEAR'], truncated_df['LHS LABOR FORCE LEVEL (IN THOUSANDS)'],\n",
    "         marker='o',linestyle=':', color=color_dict['LHS'], label='LHS')\n",
    "plt.plot(truncated_df['YEAR'], truncated_df['HSG LABOR FORCE LEVEL (IN THOUSANDS)'],\n",
    "         marker='o',linestyle=':', color=color_dict['HSG'], label='HSG')\n",
    "plt.plot(truncated_df['YEAR'], truncated_df['CAD LABOR FORCE LEVEL (IN THOUSANDS)'],\n",
    "         marker='o',linestyle=':', color=color_dict['CAD'], label='CAD')\n",
    "plt.plot(truncated_df['YEAR'], truncated_df['BHD LABOR FORCE LEVEL (IN THOUSANDS)'],\n",
    "         marker='o',linestyle=':', color=color_dict['BHD'], label='BHD')\n",
    "plt.legend()\n",
    "plt.ylabel('Labor Force Level (in Thousands)')\n",
    "plt.xlabel('Year')\n",
    "plt.show()\n",
    "\n",
    "plot_periodogram(lhs_lf_level[:-num_forecast_steps], \n",
    "                 title_str='LHS LF Level')\n",
    "plot_periodogram(hsg_lf_level[:-num_forecast_steps], \n",
    "                 title_str='HSG LF Level')\n",
    "plot_periodogram(cad_lf_level[:-num_forecast_steps], \n",
    "                 title_str='CAD LF Level')\n",
    "plot_periodogram(bhd_lf_level[:-num_forecast_steps], \n",
    "                 title_str='BHD LF Level')"
   ]
  },
  {
   "cell_type": "markdown",
   "metadata": {},
   "source": [
    "We see that the periodograms for all the category-wise LF Levels have multiple peaks. Since the duration of the data is close to 20 years, we will neglect the peaks close to 1/20 years (~0.05), and only attempt to capture the next highest peak.  \n",
    "For the LHS, HSG, CAD and BHD LF Levels we see peaks at 1/4, 1/12, 1/12, and 1/8 years."
   ]
  },
  {
   "cell_type": "code",
   "execution_count": 27,
   "metadata": {
    "execution": {
     "iopub.execute_input": "2021-11-22T05:08:04.402952Z",
     "iopub.status.busy": "2021-11-22T05:08:04.402691Z",
     "iopub.status.idle": "2021-11-22T05:09:38.086345Z",
     "shell.execute_reply": "2021-11-22T05:09:38.085591Z",
     "shell.execute_reply.started": "2021-11-22T05:08:04.402922Z"
    }
   },
   "outputs": [],
   "source": [
    "### LHS Labor Force Level ###\n",
    "lhs_lf_model = build_linear_trend_seasonal_model(lhs_lf_level[:-num_forecast_steps],\n",
    "                                                steps_per_season=2)\n",
    "\n",
    "(lhs_lf_var_post, \n",
    " lhs_lf_forecast_dist) = fit_model_generate_forecast(lhs_lf_model, \n",
    "                        lhs_lf_level[:-num_forecast_steps], num_forecast_steps, \n",
    "                        num_variational_steps=200)\n",
    "\n",
    "plot_forecast_results(lhs_lf_forecast_dist, trunc_df_years, lhs_lf_level, \n",
    "                      'LHS LF Level', num_samples=10)\n",
    "\n",
    "### HSG Labor Force Level ###\n",
    "hsg_lf_model = build_linear_trend_seasonal_model(hsg_lf_level[:-num_forecast_steps],\n",
    "                                                steps_per_season=6)\n",
    "\n",
    "(hsg_lf_var_post, \n",
    " hsg_lf_forecast_dist) = fit_model_generate_forecast(hsg_lf_model, \n",
    "                        hsg_lf_level[:-num_forecast_steps], num_forecast_steps, \n",
    "                        num_variational_steps=200)\n",
    "\n",
    "plot_forecast_results(hsg_lf_forecast_dist, trunc_df_years, hsg_lf_level, \n",
    "                      'HSG LF Level', num_samples=10)\n",
    "\n",
    "### CAD Labor Force Level ###\n",
    "cad_lf_model = build_linear_trend_seasonal_model(cad_lf_level[:-num_forecast_steps],\n",
    "                                                steps_per_season=6)\n",
    "(cad_lf_var_post, \n",
    " cad_lf_forecast_dist) = fit_model_generate_forecast(cad_lf_model, \n",
    "                        cad_lf_level[:-num_forecast_steps], num_forecast_steps, \n",
    "                        num_variational_steps=200)\n",
    "\n",
    "plot_forecast_results(cad_lf_forecast_dist, trunc_df_years, cad_lf_level, \n",
    "                      'CAD LF Level', num_samples=10)\n",
    "\n",
    "### BHD Labor Force Level ###\n",
    "bhd_lf_model = build_linear_trend_seasonal_model(bhd_lf_level[:-num_forecast_steps],\n",
    "                                                steps_per_season=4)\n",
    "(bhd_lf_var_post, \n",
    " bhd_lf_forecast_dist) = fit_model_generate_forecast(bhd_lf_model, \n",
    "                        bhd_lf_level[:-num_forecast_steps], num_forecast_steps, \n",
    "                        num_variational_steps=200)\n",
    "\n",
    "plot_forecast_results(bhd_lf_forecast_dist, trunc_df_years, bhd_lf_level, \n",
    "                      'BHD LF Level', num_samples=10)"
   ]
  },
  {
   "cell_type": "markdown",
   "metadata": {},
   "source": [
    "The model is unable to forecast the increase in the BHD Labor Force level over the past six years. "
   ]
  },
  {
   "cell_type": "markdown",
   "metadata": {},
   "source": [
    "We will now try the other more involved method, using past category-wise data, along with overall data. For this we will construct an estimate of the category-wise data using the overall data for the concerned variable and multiplying it with the population fractions for HSG and BHD, which are known."
   ]
  },
  {
   "cell_type": "markdown",
   "metadata": {},
   "source": [
    "While the LHS and BHD population fractions are accurately determined by 1 - HSG and BHD population fractions, the HSG and CAD (as highest educational attainment) population fractions are not so clear. So we use both multiplied by the Overall Labor Force Level along with the BHD - HSG population fraction multiplied by the Overall Labor Force Level as regression variables for the HSG and CAD data."
   ]
  },
  {
   "cell_type": "code",
   "execution_count": 28,
   "metadata": {
    "execution": {
     "iopub.execute_input": "2021-11-22T05:09:38.088035Z",
     "iopub.status.busy": "2021-11-22T05:09:38.087633Z",
     "iopub.status.idle": "2021-11-22T05:09:38.100677Z",
     "shell.execute_reply": "2021-11-22T05:09:38.099776Z",
     "shell.execute_reply.started": "2021-11-22T05:09:38.087984Z"
    }
   },
   "outputs": [],
   "source": [
    "lhs_lf_level_est = (1-hsg_percent_forecast/100.)*lf_level_forecast\n",
    "lhs_lf_level_est = np.round(\n",
    "    lhs_lf_level_est[overall_lf_level.size-lhs_lf_level.size:])\n",
    "\n",
    "hsg_lf_level_est = ((hsg_percent_forecast - bhd_percent_forecast)/100.\n",
    "                   )*lf_level_forecast\n",
    "hsg_lf_level_est = np.round(\n",
    "    hsg_lf_level_est[overall_lf_level.size-lhs_lf_level.size:])\n",
    "\n",
    "bhd_lf_level_est = (bhd_percent_forecast/100.)*lf_level_forecast\n",
    "bhd_lf_level_est = np.round(\n",
    "    bhd_lf_level_est[overall_lf_level.size-lhs_lf_level.size:])\n",
    "\n",
    "### for the cad level est, we will use a linear combination of \n",
    "### hsg_lf_level_est and bhd_lf_level_est. we will use the same for hsg.\n",
    "cad_lf_level_est = np.transpose(np.vstack((lhs_lf_level_est, \n",
    "                                            hsg_lf_level_est, \n",
    "                                            bhd_lf_level_est)))\n",
    "\n",
    "lhs_lf_level_est = tf.reshape(lhs_lf_level_est, (-1,1))\n",
    "hsg_lf_level_est = tf.reshape(cad_lf_level_est, (-1, 3))\n",
    "cad_lf_level_est = tf.reshape(cad_lf_level_est, (-1, 3))\n",
    "bhd_lf_level_est = tf.reshape(bhd_lf_level_est, (-1,1))\n",
    "\n",
    "def build_linear_seasonal_regression_model(observed_time_series, \n",
    "                                           auxilliary_time_series,\n",
    "                                           steps_per_season=1):\n",
    "\n",
    "    local_linear_trend = sts.SemiLocalLinearTrend(\n",
    "                                observed_time_series=observed_time_series)    \n",
    "\n",
    "    seasonal_trend = sts.Seasonal(\n",
    "            num_seasons=2, num_steps_per_season=steps_per_season, \n",
    "            observed_time_series=observed_time_series)    \n",
    "    \n",
    "    regression_effect = sts.LinearRegression(\n",
    "      design_matrix=auxilliary_time_series, name='regression_effect')\n",
    "\n",
    "    model = sts.Sum([local_linear_trend, seasonal_trend, regression_effect],\n",
    "                   observed_time_series=observed_time_series)\n",
    "    return model"
   ]
  },
  {
   "cell_type": "code",
   "execution_count": 29,
   "metadata": {
    "execution": {
     "iopub.execute_input": "2021-11-22T05:09:38.102953Z",
     "iopub.status.busy": "2021-11-22T05:09:38.102402Z",
     "iopub.status.idle": "2021-11-22T05:11:29.440372Z",
     "shell.execute_reply": "2021-11-22T05:11:29.439785Z",
     "shell.execute_reply.started": "2021-11-22T05:09:38.102871Z"
    }
   },
   "outputs": [],
   "source": [
    " ### since we have a smaller dataset for the category-wise variables ###\n",
    "### LHS Labor Force Level ###\n",
    "lhs_lf_model_reg = build_linear_seasonal_regression_model(\n",
    "                    lhs_lf_level[:-num_forecast_steps], lhs_lf_level_est, \n",
    "                    steps_per_season=2)\n",
    "(lhs_lf_var_post_reg, \n",
    " lhs_lf_forecast_dist_reg) = fit_model_generate_forecast(lhs_lf_model_reg, \n",
    "                        lhs_lf_level[:-num_forecast_steps], num_forecast_steps, \n",
    "                        num_variational_steps=200)\n",
    "\n",
    "plot_forecast_results(lhs_lf_forecast_dist_reg, trunc_df_years, lhs_lf_level, \n",
    "                      'LHS LF Level', num_samples=10)\n",
    "\n",
    "### HSG Labor Force Level ###\n",
    "hsg_lf_model_reg = build_linear_seasonal_regression_model(\n",
    "                    hsg_lf_level[:-num_forecast_steps], hsg_lf_level_est, \n",
    "                    steps_per_season=6)\n",
    "(hsg_lf_var_post_reg, \n",
    " hsg_lf_forecast_dist_reg) = fit_model_generate_forecast(hsg_lf_model_reg, \n",
    "                        hsg_lf_level[:-num_forecast_steps], num_forecast_steps, \n",
    "                        num_variational_steps=200)\n",
    "\n",
    "plot_forecast_results(hsg_lf_forecast_dist_reg, trunc_df_years, hsg_lf_level, \n",
    "                      'HSG LF Level', num_samples=10)\n",
    "\n",
    "### CAD Labor Force Level ###\n",
    "cad_lf_model_reg = build_linear_seasonal_regression_model(\n",
    "                    cad_lf_level[:-num_forecast_steps], cad_lf_level_est, \n",
    "                    steps_per_season=6)\n",
    "(cad_lf_var_post_reg, \n",
    " cad_lf_forecast_dist_reg) = fit_model_generate_forecast(cad_lf_model_reg, \n",
    "                        cad_lf_level[:-num_forecast_steps], num_forecast_steps, \n",
    "                        num_variational_steps=200)\n",
    "\n",
    "plot_forecast_results(cad_lf_forecast_dist_reg, trunc_df_years, cad_lf_level, \n",
    "                      'CAD LF Level', num_samples=10)\n",
    "\n",
    "### BHD Labor Force Level ###\n",
    "bhd_lf_model_reg = build_linear_seasonal_regression_model(\n",
    "                    bhd_lf_level[:-num_forecast_steps], bhd_lf_level_est, \n",
    "                    steps_per_season=4)\n",
    "(bhd_lf_var_post_reg, \n",
    " bhd_lf_forecast_dist_reg) = fit_model_generate_forecast(bhd_lf_model_reg, \n",
    "                        bhd_lf_level[:-num_forecast_steps], num_forecast_steps, \n",
    "                        num_variational_steps=200)\n",
    "\n",
    "plot_forecast_results(bhd_lf_forecast_dist_reg, trunc_df_years, bhd_lf_level, \n",
    "                      'BHD LF Level', num_samples=10)"
   ]
  },
  {
   "cell_type": "markdown",
   "metadata": {},
   "source": [
    "We see that while the forecasts for the BHD and CAD Labor Force Levels has improved,  the forecasts for the LHS Labor Force Level has deteriorated and that for the HSG Labor Force Levels has remained the same. This suggests using the regressor variables for the  CAD and BHD LF Level forecast, and using only the past data for the LHS, and HSG LF Level forecasts.\n",
    "\n",
    "We will now compare these two methods for the Employment Levels."
   ]
  },
  {
   "cell_type": "code",
   "execution_count": 30,
   "metadata": {
    "execution": {
     "iopub.execute_input": "2021-11-22T05:11:29.441941Z",
     "iopub.status.busy": "2021-11-22T05:11:29.441421Z",
     "iopub.status.idle": "2021-11-22T05:11:31.141168Z",
     "shell.execute_reply": "2021-11-22T05:11:31.140294Z",
     "shell.execute_reply.started": "2021-11-22T05:11:29.441910Z"
    }
   },
   "outputs": [],
   "source": [
    "### To estimate the seasonal/oscillating component of the variable ###\n",
    "num_forecast_steps = 6\n",
    "\n",
    "### plotting Labor Force Levels ###\n",
    "plt.plot(truncated_df['YEAR'], truncated_df['LHS EMPLOYMENT LEVEL (IN THOUSANDS)'],\n",
    "         marker='o',linestyle=':', color=color_dict['LHS'], label='LHS')\n",
    "plt.plot(truncated_df['YEAR'], truncated_df['HSG EMPLOYMENT LEVEL (IN THOUSANDS)'],\n",
    "         marker='o',linestyle=':', color=color_dict['HSG'], label='HSG')\n",
    "plt.plot(truncated_df['YEAR'], truncated_df['CAD EMPLOYMENT LEVEL (IN THOUSANDS)'],\n",
    "         marker='o',linestyle=':', color=color_dict['CAD'], label='CAD')\n",
    "plt.plot(truncated_df['YEAR'], truncated_df['BHD EMPLOYMENT LEVEL (IN THOUSANDS)'],\n",
    "         marker='o',linestyle=':', color=color_dict['BHD'], label='BHD')\n",
    "plt.legend()\n",
    "plt.ylabel('Employment Level (in Thousands)')\n",
    "plt.xlabel('Year')\n",
    "plt.show()\n",
    "\n",
    "plot_periodogram(lhs_emp_level[:-num_forecast_steps], \n",
    "                 title_str='LHS Employment Level')\n",
    "plot_periodogram(hsg_emp_level[:-num_forecast_steps], \n",
    "                 title_str='HSG Employment Level')\n",
    "plot_periodogram(cad_emp_level[:-num_forecast_steps], \n",
    "                 title_str='CAD Employment Level')\n",
    "plot_periodogram(bhd_emp_level[:-num_forecast_steps], \n",
    "                 title_str='BHD Employment Level')"
   ]
  },
  {
   "cell_type": "markdown",
   "metadata": {},
   "source": [
    "Neglecting the peak at ~1/ 20 years, the LHS, HSG, CAD and BHD employment levels show peaks at 1/8, 1/8, 1/6, and 1/8 years respectively. We will set the number of steps per season accordingly at 4, 4, 3, and 4 years with 2 seasons for the seasonal trend components of the LHS, HSG, CAD and BHD employment level models. "
   ]
  },
  {
   "cell_type": "code",
   "execution_count": 31,
   "metadata": {
    "execution": {
     "iopub.execute_input": "2021-11-22T05:11:31.142525Z",
     "iopub.status.busy": "2021-11-22T05:11:31.142314Z",
     "iopub.status.idle": "2021-11-22T05:12:57.911559Z",
     "shell.execute_reply": "2021-11-22T05:12:57.910692Z",
     "shell.execute_reply.started": "2021-11-22T05:11:31.142500Z"
    }
   },
   "outputs": [],
   "source": [
    "### since we have a smaller dataset for the category-wise variables ###\n",
    "### LHS Employment Level ###\n",
    "lhs_emp_model = build_linear_trend_seasonal_model(lhs_emp_level[:-num_forecast_steps],\n",
    "                                                steps_per_season=4)\n",
    "(lhs_emp_var_post, \n",
    " lhs_emp_forecast_dist) = fit_model_generate_forecast(lhs_emp_model, \n",
    "                        lhs_emp_level[:-num_forecast_steps], num_forecast_steps, \n",
    "                        num_variational_steps=200)\n",
    "\n",
    "plot_forecast_results(lhs_emp_forecast_dist, trunc_df_years, lhs_emp_level, \n",
    "                      'LHS Employment Level', num_samples=10)\n",
    "\n",
    "### HSG Employment Level ###\n",
    "hsg_emp_model = build_linear_trend_seasonal_model(hsg_emp_level[:-num_forecast_steps],\n",
    "                                                steps_per_season=4)\n",
    "(hsg_emp_var_post, \n",
    " hsg_emp_forecast_dist) = fit_model_generate_forecast(hsg_emp_model, \n",
    "                        hsg_emp_level[:-num_forecast_steps], num_forecast_steps, \n",
    "                        num_variational_steps=200)\n",
    "\n",
    "plot_forecast_results(hsg_emp_forecast_dist, trunc_df_years, hsg_emp_level, \n",
    "                      'HSG Employment Level', num_samples=10)\n",
    "\n",
    "### CAD Employment Level ###\n",
    "cad_emp_model = build_linear_trend_seasonal_model(cad_emp_level[:-num_forecast_steps],\n",
    "                                                steps_per_season=3)\n",
    "(cad_emp_var_post, \n",
    " cad_emp_forecast_dist) = fit_model_generate_forecast(cad_emp_model, \n",
    "                        cad_emp_level[:-num_forecast_steps], num_forecast_steps, \n",
    "                        num_variational_steps=200)\n",
    "\n",
    "plot_forecast_results(cad_emp_forecast_dist, trunc_df_years, cad_emp_level, \n",
    "                      'CAD Employment Level', num_samples=10)\n",
    "\n",
    "### BHD Employment Level ###\n",
    "bhd_emp_model = build_linear_trend_seasonal_model(bhd_emp_level[:-num_forecast_steps],\n",
    "                                                steps_per_season=4)\n",
    "(bhd_emp_var_post, \n",
    " bhd_emp_forecast_dist) = fit_model_generate_forecast(bhd_emp_model, \n",
    "                        bhd_emp_level[:-num_forecast_steps], num_forecast_steps, \n",
    "                        num_variational_steps=200)\n",
    "\n",
    "plot_forecast_results(bhd_emp_forecast_dist, trunc_df_years, bhd_emp_level, \n",
    "                      'BHD Employment Level', num_samples=10)"
   ]
  },
  {
   "cell_type": "markdown",
   "metadata": {},
   "source": [
    "We now try using the overall data as regressors in addition to the past data trends for the employment level. "
   ]
  },
  {
   "cell_type": "code",
   "execution_count": 32,
   "metadata": {
    "execution": {
     "iopub.execute_input": "2021-11-22T05:12:57.913139Z",
     "iopub.status.busy": "2021-11-22T05:12:57.912881Z",
     "iopub.status.idle": "2021-11-22T05:12:57.923824Z",
     "shell.execute_reply": "2021-11-22T05:12:57.922864Z",
     "shell.execute_reply.started": "2021-11-22T05:12:57.913112Z"
    }
   },
   "outputs": [],
   "source": [
    "lhs_emp_level_est = (1-hsg_percent_forecast/100.)*emp_level_forecast\n",
    "lhs_emp_level_est = np.round(\n",
    "    lhs_emp_level_est[overall_emp_level.size-lhs_emp_level.size:])\n",
    "\n",
    "hsg_emp_level_est = ((hsg_percent_forecast - bhd_percent_forecast)/100.\n",
    "                   )*emp_level_forecast\n",
    "hsg_emp_level_est = np.round(\n",
    "    hsg_emp_level_est[overall_emp_level.size-lhs_emp_level.size:])\n",
    "\n",
    "bhd_emp_level_est = (bhd_percent_forecast/100.)*emp_level_forecast\n",
    "bhd_emp_level_est = np.round(\n",
    "    bhd_emp_level_est[overall_emp_level.size-lhs_emp_level.size:])\n",
    "\n",
    "### for the cad level est, we will use a linear combination of \n",
    "### hsg_lf_level_est and bhd_lf_level_est. we will use the same for hsg.\n",
    "cad_emp_level_est = np.transpose(np.vstack((lhs_emp_level_est, \n",
    "                                            hsg_emp_level_est, \n",
    "                                            bhd_emp_level_est)))\n",
    "\n",
    "lhs_emp_level_est = tf.reshape(lhs_emp_level_est, (-1,1))\n",
    "hsg_emp_level_est = tf.reshape(cad_emp_level_est, (-1, 3))\n",
    "cad_emp_level_est = tf.reshape(cad_emp_level_est, (-1, 3))\n",
    "bhd_emp_level_est = tf.reshape(bhd_emp_level_est, (-1,1))"
   ]
  },
  {
   "cell_type": "code",
   "execution_count": 33,
   "metadata": {
    "execution": {
     "iopub.execute_input": "2021-11-22T05:12:57.925163Z",
     "iopub.status.busy": "2021-11-22T05:12:57.924957Z",
     "iopub.status.idle": "2021-11-22T05:14:47.989479Z",
     "shell.execute_reply": "2021-11-22T05:14:47.988677Z",
     "shell.execute_reply.started": "2021-11-22T05:12:57.925137Z"
    }
   },
   "outputs": [],
   "source": [
    " ### since we have a smaller dataset for the category-wise variables ###\n",
    "### LHS Employment Level ###\n",
    "lhs_emp_model_reg = build_linear_seasonal_regression_model(\n",
    "                    lhs_emp_level[:-num_forecast_steps], lhs_emp_level_est, \n",
    "                    steps_per_season=4)\n",
    "(lhs_emp_var_post_reg, \n",
    " lhs_emp_forecast_dist_reg) = fit_model_generate_forecast(lhs_emp_model_reg, \n",
    "                        lhs_emp_level[:-num_forecast_steps], num_forecast_steps, \n",
    "                        num_variational_steps=200)\n",
    "\n",
    "plot_forecast_results(lhs_emp_forecast_dist_reg, trunc_df_years, lhs_emp_level, \n",
    "                      'LHS Employment Level', num_samples=10)\n",
    "\n",
    "### HSG Employment Level ###\n",
    "hsg_emp_model_reg = build_linear_seasonal_regression_model(\n",
    "                    hsg_emp_level[:-num_forecast_steps], hsg_emp_level_est, \n",
    "                    steps_per_season=4)\n",
    "(hsg_emp_var_post_reg, \n",
    " hsg_emp_forecast_dist_reg) = fit_model_generate_forecast(hsg_emp_model_reg, \n",
    "                        hsg_emp_level[:-num_forecast_steps], num_forecast_steps, \n",
    "                        num_variational_steps=200)\n",
    "\n",
    "plot_forecast_results(hsg_emp_forecast_dist_reg, trunc_df_years, hsg_emp_level, \n",
    "                      'HSG Employment Level', num_samples=10)\n",
    "\n",
    "### CAD Employment Level ###\n",
    "cad_emp_model_reg = build_linear_seasonal_regression_model(\n",
    "                    cad_emp_level[:-num_forecast_steps], cad_emp_level_est, \n",
    "                    steps_per_season=3)\n",
    "(cad_emp_var_post_reg, \n",
    " cad_emp_forecast_dist_reg) = fit_model_generate_forecast(cad_emp_model_reg, \n",
    "                        cad_emp_level[:-num_forecast_steps], num_forecast_steps, \n",
    "                        num_variational_steps=200)\n",
    "\n",
    "plot_forecast_results(cad_emp_forecast_dist_reg, trunc_df_years, cad_emp_level, \n",
    "                      'CAD Employment Level', num_samples=10)\n",
    "\n",
    "### BHD Employment Level ###\n",
    "bhd_emp_model_reg = build_linear_seasonal_regression_model(\n",
    "                    bhd_emp_level[:-num_forecast_steps], bhd_emp_level_est, \n",
    "                    steps_per_season=4)\n",
    "(bhd_emp_var_post_reg, \n",
    " bhd_emp_forecast_dist_reg) = fit_model_generate_forecast(bhd_emp_model_reg, \n",
    "                        bhd_emp_level[:-num_forecast_steps], num_forecast_steps, \n",
    "                        num_variational_steps=200)\n",
    "\n",
    "plot_forecast_results(bhd_emp_forecast_dist_reg, trunc_df_years, bhd_emp_level, \n",
    "                      'BHD Employment Level', num_samples=10)"
   ]
  },
  {
   "cell_type": "markdown",
   "metadata": {},
   "source": [
    "We see a significantly improved forecast for the BHD employment level, but do not see a  significant improvement for the other category-wise employment level forecasts.\n",
    "\n",
    "This suggests using the regressor models only for the BHD employment levels. \n",
    "\n",
    "We will now perform the same analysis for the category-wise Labor Force Participation Rates."
   ]
  },
  {
   "cell_type": "code",
   "execution_count": 34,
   "metadata": {
    "execution": {
     "iopub.execute_input": "2021-11-22T05:14:47.990850Z",
     "iopub.status.busy": "2021-11-22T05:14:47.990619Z",
     "iopub.status.idle": "2021-11-22T05:14:50.784726Z",
     "shell.execute_reply": "2021-11-22T05:14:50.783853Z",
     "shell.execute_reply.started": "2021-11-22T05:14:47.990822Z"
    }
   },
   "outputs": [],
   "source": [
    "### To estimate the seasonal/oscillating component of the variable ###\n",
    "num_forecast_steps = 6\n",
    "\n",
    "### plotting Labor Force Levels ###\n",
    "plt.plot(truncated_df['YEAR'], truncated_df['LHS LABOR FORCE PARTICIPATION RATE (IN PERCENT)'],\n",
    "         marker='o',linestyle=':', color=color_dict['LHS'], label='LHS')\n",
    "plt.plot(truncated_df['YEAR'], truncated_df['HSG LABOR FORCE PARTICIPATION RATE (IN PERCENT)'],\n",
    "         marker='o',linestyle=':', color=color_dict['HSG'], label='HSG')\n",
    "plt.plot(truncated_df['YEAR'], truncated_df['CAD LABOR FORCE PARTICIPATION RATE (IN PERCENT)'],\n",
    "         marker='o',linestyle=':', color=color_dict['CAD'], label='CAD')\n",
    "plt.plot(truncated_df['YEAR'], truncated_df['BHD LABOR FORCE PARTICIPATION RATE (IN PERCENT)'],\n",
    "         marker='o',linestyle=':', color=color_dict['BHD'], label='BHD')\n",
    "plt.legend()\n",
    "plt.ylabel('Employment Level (in Thousands)')\n",
    "plt.xlabel('Year')\n",
    "plt.show()\n",
    "\n",
    "plot_periodogram(lhs_lf_pr[:-num_forecast_steps], \n",
    "                 title_str='LHS LF PR')\n",
    "plot_periodogram(hsg_lf_pr[:-num_forecast_steps], \n",
    "                 title_str='HSG LF PR')\n",
    "plot_periodogram(cad_lf_pr[:-num_forecast_steps], \n",
    "                 title_str='CAD LF PR')\n",
    "plot_periodogram(bhd_lf_pr[:-num_forecast_steps], \n",
    "                 title_str='BHD LF PR')"
   ]
  },
  {
   "cell_type": "markdown",
   "metadata": {},
   "source": [
    "Neglecting the peak at ~1/20 years, we see peaks at 1/5, 1/12, 1/12, and 1/12 years for the LHS, HSG, CAD and BHD Labor Force Participation rates. This suggests using a seasonal trend with two seasons and season duration set to 2, 6, 6, and 6 years for the LHS, HSG, CAD and BHD Labor Force Participation rates."
   ]
  },
  {
   "cell_type": "code",
   "execution_count": 35,
   "metadata": {
    "execution": {
     "iopub.execute_input": "2021-11-22T05:14:50.786350Z",
     "iopub.status.busy": "2021-11-22T05:14:50.786056Z",
     "iopub.status.idle": "2021-11-22T05:16:20.001351Z",
     "shell.execute_reply": "2021-11-22T05:16:19.998240Z",
     "shell.execute_reply.started": "2021-11-22T05:14:50.786319Z"
    }
   },
   "outputs": [],
   "source": [
    "### since we have a smaller dataset for the category-wise variables ###\n",
    "### LHS Labor Force Participation Rate ###\n",
    "lhs_lf_pr_model = build_linear_trend_seasonal_model(lhs_lf_pr[:-num_forecast_steps],\n",
    "                                                steps_per_season=2)\n",
    "(lhs_lf_pr_var_post, \n",
    " lhs_lf_pr_forecast_dist) = fit_model_generate_forecast(lhs_lf_pr_model, \n",
    "                        lhs_lf_pr[:-num_forecast_steps], num_forecast_steps, \n",
    "                        num_variational_steps=200)\n",
    "\n",
    "plot_forecast_results(lhs_lf_pr_forecast_dist, trunc_df_years, lhs_lf_pr, \n",
    "                      'LHS LF Participation Rate', num_samples=10)\n",
    "\n",
    "### HSG Labor Force Participation Rate ###\n",
    "hsg_lf_pr_model = build_linear_trend_seasonal_model(hsg_lf_pr[:-num_forecast_steps],\n",
    "                                                steps_per_season=6)\n",
    "(hsg_lf_pr_var_post, \n",
    " hsg_lf_pr_forecast_dist) = fit_model_generate_forecast(hsg_lf_pr_model, \n",
    "                        hsg_lf_pr[:-num_forecast_steps], num_forecast_steps, \n",
    "                        num_variational_steps=200)\n",
    "\n",
    "plot_forecast_results(hsg_lf_pr_forecast_dist, trunc_df_years, hsg_lf_pr, \n",
    "                      'HSG LF Participation Rate', num_samples=10)\n",
    "\n",
    "### CAD Labor Force Participation Rate ###\n",
    "cad_lf_pr_model = build_linear_trend_seasonal_model(cad_lf_pr[:-num_forecast_steps],\n",
    "                                                steps_per_season=6)\n",
    "(cad_lf_pr_var_post, \n",
    " cad_lf_pr_forecast_dist) = fit_model_generate_forecast(cad_lf_pr_model, \n",
    "                        cad_lf_pr[:-num_forecast_steps], num_forecast_steps, \n",
    "                        num_variational_steps=200)\n",
    "\n",
    "plot_forecast_results(cad_lf_pr_forecast_dist, trunc_df_years, cad_lf_pr, \n",
    "                      'CAD LF Participation Rate', num_samples=10)\n",
    "\n",
    "### BHD Labor Force Participation Rate ###\n",
    "bhd_lf_pr_model = build_linear_trend_seasonal_model(bhd_lf_pr[:-num_forecast_steps],\n",
    "                                                steps_per_season=6)\n",
    "(bhd_lf_pr_var_post, \n",
    " bhd_lf_pr_forecast_dist) = fit_model_generate_forecast(bhd_lf_pr_model, \n",
    "                        bhd_lf_pr[:-num_forecast_steps], num_forecast_steps, \n",
    "                        num_variational_steps=200)\n",
    "\n",
    "plot_forecast_results(bhd_lf_pr_forecast_dist, trunc_df_years, bhd_lf_pr, \n",
    "                      'BHD LF Participation Rate', num_samples=10)"
   ]
  },
  {
   "cell_type": "markdown",
   "metadata": {},
   "source": [
    "The past data appears to provide a good forecast for the future participation rates. We will now use an estimate of the labor force participation rates from the overall data as a regressor in our models."
   ]
  },
  {
   "cell_type": "code",
   "execution_count": 36,
   "metadata": {
    "execution": {
     "iopub.execute_input": "2021-11-22T05:16:20.003068Z",
     "iopub.status.busy": "2021-11-22T05:16:20.002474Z",
     "iopub.status.idle": "2021-11-22T05:16:20.012391Z",
     "shell.execute_reply": "2021-11-22T05:16:20.011886Z",
     "shell.execute_reply.started": "2021-11-22T05:16:20.003030Z"
    }
   },
   "outputs": [],
   "source": [
    "lhs_lf_pr_est = (1-hsg_percent_forecast/100.)*lf_pr_forecast\n",
    "lhs_lf_pr_est = np.round(\n",
    "    lhs_lf_pr_est[overall_lf_pr.size-lhs_lf_pr.size:])\n",
    "\n",
    "hsg_lf_pr_est = ((hsg_percent_forecast - bhd_percent_forecast)/100.\n",
    "                   )*lf_pr_forecast\n",
    "hsg_lf_pr_est = np.round(\n",
    "    hsg_lf_pr_est[overall_lf_pr.size-lhs_lf_pr.size:])\n",
    "\n",
    "bhd_lf_pr_est = (bhd_percent_forecast/100.)*lf_pr_forecast\n",
    "bhd_lf_pr_est = np.round(\n",
    "    bhd_lf_pr_est[overall_lf_pr.size-lhs_lf_pr.size:])\n",
    "\n",
    "### for the cad level est, we will use a linear combination of \n",
    "### hsg_lf_level_est and bhd_lf_level_est. we will use the same for hsg.\n",
    "cad_lf_pr_est = np.transpose(np.vstack((lhs_lf_pr_est, \n",
    "                                            hsg_lf_pr_est, \n",
    "                                            bhd_lf_pr_est)))\n",
    "\n",
    "lhs_lf_pr_est = tf.reshape(lhs_lf_pr_est, (-1,1))\n",
    "hsg_lf_pr_est = tf.reshape(cad_lf_pr_est, (-1, 3))\n",
    "cad_lf_pr_est = tf.reshape(cad_lf_pr_est, (-1, 3))\n",
    "bhd_lf_pr_est = tf.reshape(bhd_lf_pr_est, (-1,1))"
   ]
  },
  {
   "cell_type": "code",
   "execution_count": 37,
   "metadata": {
    "execution": {
     "iopub.execute_input": "2021-11-22T05:16:20.013995Z",
     "iopub.status.busy": "2021-11-22T05:16:20.013619Z",
     "iopub.status.idle": "2021-11-22T05:18:10.205141Z",
     "shell.execute_reply": "2021-11-22T05:18:10.204553Z",
     "shell.execute_reply.started": "2021-11-22T05:16:20.013962Z"
    }
   },
   "outputs": [],
   "source": [
    " ### since we have a smaller dataset for the category-wise variables ###\n",
    "### LHS Labor Force Participation Rate ###\n",
    "lhs_lf_pr_model_reg = build_linear_seasonal_regression_model(\n",
    "                    lhs_lf_pr[:-num_forecast_steps], lhs_lf_pr_est, \n",
    "                    steps_per_season=2)\n",
    "(lhs_lf_pr_var_post_reg, \n",
    " lhs_lf_pr_forecast_dist_reg) = fit_model_generate_forecast(lhs_lf_pr_model_reg, \n",
    "                        lhs_lf_pr[:-num_forecast_steps], num_forecast_steps, \n",
    "                        num_variational_steps=200)\n",
    "\n",
    "plot_forecast_results(lhs_lf_pr_forecast_dist_reg, trunc_df_years, lhs_lf_pr, \n",
    "                      'LHS LF Participation Rate', num_samples=10)\n",
    "\n",
    "### HSG Labor Force Participation Rate ###\n",
    "hsg_lf_pr_model_reg = build_linear_seasonal_regression_model(\n",
    "                    hsg_lf_pr[:-num_forecast_steps], hsg_lf_pr_est, \n",
    "                    steps_per_season=6)\n",
    "(hsg_lf_pr_var_post_reg, \n",
    " hsg_lf_pr_forecast_dist_reg) = fit_model_generate_forecast(hsg_lf_pr_model_reg, \n",
    "                        hsg_lf_pr[:-num_forecast_steps], num_forecast_steps, \n",
    "                        num_variational_steps=200)\n",
    "\n",
    "plot_forecast_results(hsg_lf_pr_forecast_dist_reg, trunc_df_years, hsg_lf_pr, \n",
    "                      'HSG LF Participation Rate', num_samples=10)\n",
    "\n",
    "### CAD Labor Force Participation Rate ###\n",
    "cad_lf_pr_model_reg = build_linear_seasonal_regression_model(\n",
    "                    cad_lf_pr[:-num_forecast_steps], cad_lf_pr_est, \n",
    "                    steps_per_season=6)\n",
    "(cad_lf_pr_var_post_reg, \n",
    " cad_lf_pr_forecast_dist_reg) = fit_model_generate_forecast(cad_lf_pr_model_reg, \n",
    "                        cad_lf_pr[:-num_forecast_steps], num_forecast_steps, \n",
    "                        num_variational_steps=200)\n",
    "\n",
    "plot_forecast_results(cad_lf_pr_forecast_dist_reg, trunc_df_years, cad_lf_pr, \n",
    "                      'CAD LF Participation Rate', num_samples=10)\n",
    "\n",
    "### BHD Labor Force Participation Rate ###\n",
    "bhd_lf_pr_model_reg = build_linear_seasonal_regression_model(\n",
    "                    bhd_lf_pr[:-num_forecast_steps], bhd_lf_pr_est, \n",
    "                    steps_per_season=6)\n",
    "(bhd_lf_pr_var_post_reg, \n",
    " bhd_lf_pr_forecast_dist_reg) = fit_model_generate_forecast(bhd_lf_pr_model_reg, \n",
    "                        bhd_lf_pr[:-num_forecast_steps], num_forecast_steps, \n",
    "                        num_variational_steps=200)\n",
    "\n",
    "plot_forecast_results(bhd_lf_pr_forecast_dist_reg, trunc_df_years, bhd_lf_pr, \n",
    "                      'BHD LF Participation Rate', num_samples=10)"
   ]
  },
  {
   "cell_type": "markdown",
   "metadata": {},
   "source": [
    "We see that none of the forecasts have improved significantly by using the regression variables. This suggests using the models based on only the past data for all the category-wise Labor force participation rate forecasts. \n",
    "\n",
    "***We will now use the above defined models to generate forecasts for the years 2021-2030 for the category-wise labor force variables. Finally we will use the category-wise labor force data forecasts and the past data to generate forecasts for the category-wise median weekly incomes.***"
   ]
  },
  {
   "cell_type": "code",
   "execution_count": 38,
   "metadata": {
    "execution": {
     "iopub.execute_input": "2021-11-22T05:18:10.206696Z",
     "iopub.status.busy": "2021-11-22T05:18:10.206153Z",
     "iopub.status.idle": "2021-11-22T05:18:30.014270Z",
     "shell.execute_reply": "2021-11-22T05:18:30.013415Z",
     "shell.execute_reply.started": "2021-11-22T05:18:10.206637Z"
    }
   },
   "outputs": [],
   "source": [
    "forecast_years = np.array(range(2021,2031))\n",
    "trunc_df_forecast_yrs = np.hstack((trunc_df_years, forecast_years))\n",
    "num_forecast_steps = 10\n",
    "\n",
    "lhs_lf_level_mean, lhs_lf_level_dist = generate_forecast(lhs_lf_model, \n",
    "                                                       lhs_lf_var_post,\n",
    "                                                       lhs_lf_level,\n",
    "                                                       num_forecast_steps)\n",
    "plot_forecast_future(lhs_lf_level_dist, trunc_df_forecast_yrs, lhs_lf_level, \n",
    "                     'LHS LF Level')\n",
    "lhs_lf_level_forecast = np.hstack((lhs_lf_level, lhs_lf_level_mean))\n",
    "\n",
    "\n",
    "hsg_lf_level_mean, hsg_lf_level_dist = generate_forecast(hsg_lf_model, \n",
    "                                                       hsg_lf_var_post,\n",
    "                                                       hsg_lf_level,\n",
    "                                                       num_forecast_steps)\n",
    "plot_forecast_future(hsg_lf_level_dist, trunc_df_forecast_yrs, hsg_lf_level, \n",
    "                     'HSG LF Level')\n",
    "hsg_lf_level_forecast = np.hstack((hsg_lf_level, hsg_lf_level_mean))\n",
    "\n",
    "\n",
    "cad_lf_level_mean, cad_lf_level_dist = generate_forecast(cad_lf_model_reg, \n",
    "                                                       cad_lf_var_post_reg,\n",
    "                                                       cad_lf_level,\n",
    "                                                       num_forecast_steps)\n",
    "\n",
    "plot_forecast_future(cad_lf_level_dist, trunc_df_forecast_yrs, cad_lf_level, \n",
    "                     'CAD LF Level')\n",
    "cad_lf_level_forecast = np.hstack((cad_lf_level, cad_lf_level_mean))\n",
    "\n",
    "\n",
    "bhd_lf_level_mean, bhd_lf_level_dist = generate_forecast(bhd_lf_model_reg, \n",
    "                                                       bhd_lf_var_post_reg,\n",
    "                                                       bhd_lf_level,\n",
    "                                                       num_forecast_steps)\n",
    "\n",
    "plot_forecast_future(bhd_lf_level_dist, trunc_df_forecast_yrs, bhd_lf_level, \n",
    "                     'BHD LF Level')\n",
    "bhd_lf_level_forecast = np.hstack((bhd_lf_level, bhd_lf_level_mean))"
   ]
  },
  {
   "cell_type": "markdown",
   "metadata": {},
   "source": [
    "While the LHS and HSG Labor Force Levels are predicted to go down, the CAD and BHD Labor Force Levels are predicted to increase. This is in keeping with the rising percentages of high school graduation, and college attendance. "
   ]
  },
  {
   "cell_type": "code",
   "execution_count": 39,
   "metadata": {
    "execution": {
     "iopub.execute_input": "2021-11-22T05:18:30.016655Z",
     "iopub.status.busy": "2021-11-22T05:18:30.015870Z",
     "iopub.status.idle": "2021-11-22T05:18:46.822347Z",
     "shell.execute_reply": "2021-11-22T05:18:46.821764Z",
     "shell.execute_reply.started": "2021-11-22T05:18:30.016611Z"
    }
   },
   "outputs": [],
   "source": [
    "lhs_emp_level_mean, lhs_emp_level_dist = generate_forecast(lhs_emp_model, \n",
    "                                                       lhs_emp_var_post,\n",
    "                                                       lhs_emp_level,\n",
    "                                                       num_forecast_steps)\n",
    "plot_forecast_future(lhs_emp_level_dist, trunc_df_forecast_yrs, lhs_emp_level, \n",
    "                     'LHS Employment Level')\n",
    "lhs_emp_level_forecast = np.hstack((lhs_emp_level, lhs_emp_level_mean))\n",
    "\n",
    "\n",
    "hsg_emp_level_mean, hsg_emp_level_dist = generate_forecast(hsg_emp_model, \n",
    "                                                       hsg_emp_var_post,\n",
    "                                                       hsg_emp_level,\n",
    "                                                       num_forecast_steps)\n",
    "plot_forecast_future(hsg_emp_level_dist, trunc_df_forecast_yrs, hsg_emp_level, \n",
    "                     'HSG Employment Level')\n",
    "hsg_emp_level_forecast = np.hstack((hsg_emp_level, hsg_emp_level_mean))\n",
    "\n",
    "\n",
    "cad_emp_level_mean, cad_emp_level_dist = generate_forecast(cad_emp_model, \n",
    "                                                       cad_emp_var_post,\n",
    "                                                       cad_emp_level,\n",
    "                                                       num_forecast_steps)\n",
    "plot_forecast_future(cad_emp_level_dist, trunc_df_forecast_yrs, cad_emp_level, \n",
    "                     'CAD Employment Level')\n",
    "cad_emp_level_forecast = np.hstack((cad_emp_level, cad_emp_level_mean))\n",
    "\n",
    "\n",
    "bhd_emp_level_mean, bhd_emp_level_dist = generate_forecast(bhd_emp_model_reg, \n",
    "                                                       bhd_emp_var_post_reg,\n",
    "                                                       bhd_emp_level,\n",
    "                                                       num_forecast_steps)\n",
    "plot_forecast_future(bhd_emp_level_dist, trunc_df_forecast_yrs, bhd_emp_level, \n",
    "                     'BHD Employment Level')\n",
    "bhd_emp_level_forecast = np.hstack((bhd_emp_level, bhd_emp_level_mean))"
   ]
  },
  {
   "cell_type": "markdown",
   "metadata": {},
   "source": [
    "The LHS and HSG employment levels are predicted to either stagnate or decrease, while the CAD and BHD employment levels are predicted to steadily increase."
   ]
  },
  {
   "cell_type": "code",
   "execution_count": 40,
   "metadata": {
    "execution": {
     "iopub.execute_input": "2021-11-22T05:18:46.823836Z",
     "iopub.status.busy": "2021-11-22T05:18:46.823332Z",
     "iopub.status.idle": "2021-11-22T05:19:02.656365Z",
     "shell.execute_reply": "2021-11-22T05:19:02.655792Z",
     "shell.execute_reply.started": "2021-11-22T05:18:46.823794Z"
    }
   },
   "outputs": [],
   "source": [
    "lhs_lf_pr_mean, lhs_lf_pr_dist = generate_forecast(lhs_lf_pr_model, \n",
    "                                                       lhs_lf_pr_var_post,\n",
    "                                                       lhs_lf_pr,\n",
    "                                                       num_forecast_steps)\n",
    "plot_forecast_future(lhs_lf_pr_dist, trunc_df_forecast_yrs, lhs_lf_pr, \n",
    "                     'LHS LF Participation Rate')\n",
    "lhs_lf_pr_forecast = np.hstack((lhs_lf_pr, lhs_lf_pr_mean))\n",
    "\n",
    "\n",
    "hsg_lf_pr_mean, hsg_lf_pr_dist = generate_forecast(hsg_lf_pr_model, \n",
    "                                                       hsg_lf_pr_var_post,\n",
    "                                                       hsg_lf_pr,\n",
    "                                                       num_forecast_steps)\n",
    "plot_forecast_future(hsg_lf_pr_dist, trunc_df_forecast_yrs, hsg_lf_pr, \n",
    "                     'HSG LF Participation Rate')\n",
    "hsg_lf_pr_forecast = np.hstack((hsg_lf_pr, hsg_lf_pr_mean))\n",
    "\n",
    "\n",
    "cad_lf_pr_mean, cad_lf_pr_dist = generate_forecast(cad_lf_pr_model, \n",
    "                                                       cad_lf_pr_var_post,\n",
    "                                                       cad_lf_pr,\n",
    "                                                       num_forecast_steps)\n",
    "plot_forecast_future(cad_lf_pr_dist, trunc_df_forecast_yrs, cad_lf_pr, \n",
    "                     'CAD LF Participation Rate')\n",
    "cad_lf_pr_forecast = np.hstack((cad_lf_pr, cad_lf_pr_mean))\n",
    "\n",
    "\n",
    "bhd_lf_pr_mean, bhd_lf_pr_dist = generate_forecast(bhd_lf_pr_model, \n",
    "                                                       bhd_lf_pr_var_post,\n",
    "                                                       bhd_lf_pr,\n",
    "                                                       num_forecast_steps)\n",
    "plot_forecast_future(bhd_lf_pr_dist, trunc_df_forecast_yrs, bhd_lf_pr, \n",
    "                     'BHD LF Participation Rate')\n",
    "bhd_lf_pr_forecast = np.hstack((bhd_lf_pr, bhd_lf_pr_mean))"
   ]
  },
  {
   "cell_type": "markdown",
   "metadata": {},
   "source": [
    "Except for the LHS category, the Labor Force participation rates for all other categories have been decreasing steadily, without a significant change due to the pandemic, and the trend is predicted to continue.\n",
    "\n",
    "We are now ready to forecast the category-wise median weekly earnings using the past median weekly earnings data and the labor force data forecasts. We begin by replotting the forecasts of the median weekly earnings based only on the past median weekly earnings data:"
   ]
  },
  {
   "cell_type": "code",
   "execution_count": 45,
   "metadata": {
    "execution": {
     "iopub.execute_input": "2021-11-22T05:21:16.886961Z",
     "iopub.status.busy": "2021-11-22T05:21:16.886607Z",
     "iopub.status.idle": "2021-11-22T05:21:33.621246Z",
     "shell.execute_reply": "2021-11-22T05:21:33.620633Z",
     "shell.execute_reply.started": "2021-11-22T05:21:16.886927Z"
    }
   },
   "outputs": [],
   "source": [
    "#### METHOD (I) ####\n",
    "\n",
    "plot_forecast_future(lhs_mwe_dist, mwe_forecast_yrs, lhs_mwe_full, \n",
    "                     'LHS Median Weekly Earnings')\n",
    "\n",
    "plot_forecast_future(hsg_mwe_dist, mwe_forecast_yrs, hsg_mwe_full, \n",
    "                     'HSG Median Weekly Earnings')\n",
    "\n",
    "plot_forecast_future(cad_mwe_dist, mwe_forecast_yrs, cad_mwe_full, \n",
    "                     'CAD Median Weekly Earnings')\n",
    "\n",
    "plot_forecast_future(bhd_mwe_dist, mwe_forecast_yrs, bhd_mwe_full, \n",
    "                     'BHD Median Weekly Earnings')"
   ]
  },
  {
   "cell_type": "markdown",
   "metadata": {},
   "source": [
    "We will now estimate the median weekly earnings (MWE) for each educational attainment category by using the historical MWE data for that category (1992 onwards) and the labor force data for that category as regression variables, since the category-wise labor force data is available only for years 1992 onwards."
   ]
  },
  {
   "cell_type": "code",
   "execution_count": 41,
   "metadata": {
    "execution": {
     "iopub.execute_input": "2021-11-22T05:19:02.660927Z",
     "iopub.status.busy": "2021-11-22T05:19:02.660360Z",
     "iopub.status.idle": "2021-11-22T05:19:02.671785Z",
     "shell.execute_reply": "2021-11-22T05:19:02.671157Z",
     "shell.execute_reply.started": "2021-11-22T05:19:02.660890Z"
    }
   },
   "outputs": [],
   "source": [
    "#### normalize the labor force variables #### to make them within 0-10\n",
    "lf_level_normalization = 1./10000.\n",
    "emp_level_normalization = 1./10000.\n",
    "lf_pr_normalization = 1./10.\n",
    "\n",
    "lhs_lf_level_reg = lhs_lf_level_forecast*lf_level_normalization\n",
    "hsg_lf_level_reg = hsg_lf_level_forecast*lf_level_normalization\n",
    "cad_lf_level_reg = cad_lf_level_forecast*lf_level_normalization\n",
    "bhd_lf_level_reg = bhd_lf_level_forecast*lf_level_normalization\n",
    "\n",
    "lhs_emp_level_reg = lhs_emp_level_forecast*emp_level_normalization\n",
    "hsg_emp_level_reg = hsg_emp_level_forecast*emp_level_normalization\n",
    "cad_emp_level_reg = cad_emp_level_forecast*emp_level_normalization\n",
    "bhd_emp_level_reg = bhd_emp_level_forecast*emp_level_normalization\n",
    "\n",
    "lhs_lf_pr_reg = lhs_lf_pr_forecast*lf_pr_normalization\n",
    "hsg_lf_pr_reg = hsg_lf_pr_forecast*lf_pr_normalization\n",
    "cad_lf_pr_reg = cad_lf_pr_forecast*lf_pr_normalization\n",
    "bhd_lf_pr_reg = bhd_lf_pr_forecast*lf_pr_normalization\n",
    "\n",
    "lhs_mwe_est = np.transpose(np.vstack((lhs_lf_level_reg, \n",
    "                                    lhs_emp_level_reg, \n",
    "                                    lhs_lf_pr_reg)))\n",
    "hsg_mwe_est = np.transpose(np.vstack((hsg_lf_level_reg, \n",
    "                                    hsg_emp_level_reg, \n",
    "                                    hsg_lf_pr_reg)))\n",
    "cad_mwe_est = np.transpose(np.vstack((cad_lf_level_reg, \n",
    "                                    cad_emp_level_reg, \n",
    "                                    cad_lf_pr_reg)))\n",
    "bhd_mwe_est = np.transpose(np.vstack((bhd_lf_level_reg, \n",
    "                                    bhd_emp_level_reg, \n",
    "                                    bhd_lf_pr_reg)))\n",
    "\n",
    "lhs_mwe_est = tf.reshape(lhs_mwe_est, (-1,3))\n",
    "hsg_mwe_est = tf.reshape(cad_mwe_est, (-1,3))\n",
    "cad_mwe_est = tf.reshape(cad_mwe_est, (-1,3))\n",
    "bhd_mwe_est = tf.reshape(bhd_mwe_est, (-1,3))"
   ]
  },
  {
   "cell_type": "markdown",
   "metadata": {},
   "source": [
    "Replotting the periodogram for the category-wise median weekly earnings data:"
   ]
  },
  {
   "cell_type": "code",
   "execution_count": 44,
   "metadata": {
    "execution": {
     "iopub.execute_input": "2021-11-22T05:21:15.522446Z",
     "iopub.status.busy": "2021-11-22T05:21:15.521975Z",
     "iopub.status.idle": "2021-11-22T05:21:16.884895Z",
     "shell.execute_reply": "2021-11-22T05:21:16.883703Z",
     "shell.execute_reply.started": "2021-11-22T05:21:15.522399Z"
    }
   },
   "outputs": [],
   "source": [
    "plot_periodogram(full_df['LHS MEDIAN WEEKLY EARNING (IN 2020 DOLLARS)'][19:-10],\n",
    "                title_str='LHS MWE')\n",
    "plot_periodogram(full_df['HSG MEDIAN WEEKLY EARNING (IN 2020 DOLLARS)'][19:-10],\n",
    "                title_str='HSG MWE')\n",
    "plot_periodogram(full_df['CAD MEDIAN WEEKLY EARNING (IN 2020 DOLLARS)'][19:-10],\n",
    "                title_str='CAD MWE')\n",
    "plot_periodogram(full_df['BHD MEDIAN WEEKLY EARNING (IN 2020 DOLLARS)'][19:-10],\n",
    "                title_str='BHD MWE')"
   ]
  },
  {
   "cell_type": "code",
   "execution_count": 46,
   "metadata": {
    "execution": {
     "iopub.execute_input": "2021-11-22T05:24:37.407245Z",
     "iopub.status.busy": "2021-11-22T05:24:37.406514Z",
     "iopub.status.idle": "2021-11-22T05:26:34.363537Z",
     "shell.execute_reply": "2021-11-22T05:26:34.362468Z",
     "shell.execute_reply.started": "2021-11-22T05:24:37.407204Z"
    }
   },
   "outputs": [],
   "source": [
    "### Since we use a shorter dataset, we pick the season duration \n",
    "### informed by the periodogram plotted earlier, neglecting the peaks at\n",
    "### frequencies close to 1/20.\n",
    "num_forecast_steps = 6 ### since we have less data ###\n",
    "lhs_mwe_model_reg = build_linear_seasonal_regression_model(\n",
    "                            lhs_mwe_trunc[:-num_forecast_steps],\n",
    "                            lhs_mwe_est, steps_per_season=5)\n",
    "(lhs_mwe_var_post_reg, \n",
    " lhs_mwe_forecast_dist_reg) = fit_model_generate_forecast(lhs_mwe_model_reg, \n",
    "                        lhs_mwe_trunc[:-num_forecast_steps], num_forecast_steps, \n",
    "                        num_variational_steps=200)\n",
    "plot_forecast_results(lhs_mwe_forecast_dist_reg, trunc_df_years, lhs_mwe_trunc, \n",
    "                      'LHS MWE', num_samples=10)\n",
    "\n",
    "\n",
    "hsg_mwe_model_reg = build_linear_seasonal_regression_model(\n",
    "                            hsg_mwe_trunc[:-num_forecast_steps],\n",
    "                            hsg_mwe_est, steps_per_season=4)\n",
    "(hsg_mwe_var_post_reg, \n",
    " hsg_mwe_forecast_dist_reg) = fit_model_generate_forecast(hsg_mwe_model_reg, \n",
    "                        hsg_mwe_trunc[:-num_forecast_steps], num_forecast_steps, \n",
    "                        num_variational_steps=200)\n",
    "plot_forecast_results(hsg_mwe_forecast_dist_reg, trunc_df_years, hsg_mwe_trunc, \n",
    "                      'HSG MWE', num_samples=10)\n",
    "\n",
    "\n",
    "cad_mwe_model_reg = build_linear_seasonal_regression_model(\n",
    "                            cad_mwe_trunc[:-num_forecast_steps],\n",
    "                            cad_mwe_est, steps_per_season=5)\n",
    "(cad_mwe_var_post_reg, \n",
    " cad_mwe_forecast_dist_reg) = fit_model_generate_forecast(cad_mwe_model_reg, \n",
    "                        cad_mwe_trunc[:-num_forecast_steps], num_forecast_steps, \n",
    "                        num_variational_steps=200)\n",
    "plot_forecast_results(cad_mwe_forecast_dist_reg, trunc_df_years, cad_mwe_trunc, \n",
    "                      'CAD MWE', num_samples=10)\n",
    "\n",
    "\n",
    "bhd_mwe_model_reg = build_linear_seasonal_regression_model(\n",
    "                            bhd_mwe_trunc[:-num_forecast_steps],\n",
    "                            bhd_mwe_est, steps_per_season=5)\n",
    "(bhd_mwe_var_post_reg, \n",
    " bhd_mwe_forecast_dist_reg) = fit_model_generate_forecast(bhd_mwe_model_reg, \n",
    "                        bhd_mwe_trunc[:-num_forecast_steps], num_forecast_steps, \n",
    "                        num_variational_steps=200)\n",
    "plot_forecast_results(bhd_mwe_forecast_dist_reg, trunc_df_years, bhd_mwe_trunc, \n",
    "                      'BHD MWE', num_samples=10)"
   ]
  },
  {
   "cell_type": "markdown",
   "metadata": {},
   "source": [
    "We see that using the regressor variables leads to roughly the same performance for all categories.\n",
    "\n",
    "We will now generate forecasts for the category-wise median weekly earnings using the labor force data forecasts for each category in addition to the historical median weekly earnings data."
   ]
  },
  {
   "cell_type": "code",
   "execution_count": 47,
   "metadata": {
    "execution": {
     "iopub.execute_input": "2021-11-22T05:26:34.366356Z",
     "iopub.status.busy": "2021-11-22T05:26:34.366023Z",
     "iopub.status.idle": "2021-11-22T05:26:56.455549Z",
     "shell.execute_reply": "2021-11-22T05:26:56.454750Z",
     "shell.execute_reply.started": "2021-11-22T05:26:34.366317Z"
    }
   },
   "outputs": [],
   "source": [
    "#### METHOD (II) ####\n",
    "forecast_years = np.array(range(2021,2031))\n",
    "mwe_forecast_yrs = np.hstack((full_mwe_years, forecast_years))\n",
    "num_forecast_steps = 10\n",
    "\n",
    "lhs_mwe_mean, lhs_mwe_dist = generate_forecast(lhs_mwe_model_reg, \n",
    "                                                       lhs_mwe_var_post_reg,\n",
    "                                                       lhs_mwe_trunc,\n",
    "                                                       num_forecast_steps)\n",
    "plot_forecast_future(lhs_mwe_dist, mwe_forecast_yrs, lhs_mwe_full, \n",
    "                     'LHS Median Weekly Earnings')\n",
    "\n",
    "\n",
    "hsg_mwe_mean, hsg_mwe_dist = generate_forecast(hsg_mwe_model_reg, \n",
    "                                                       hsg_mwe_var_post_reg,\n",
    "                                                       hsg_mwe_trunc,\n",
    "                                                       num_forecast_steps)\n",
    "plot_forecast_future(hsg_mwe_dist, mwe_forecast_yrs, hsg_mwe_full, \n",
    "                     'HSG Median Weekly Earnings')\n",
    "\n",
    "\n",
    "cad_mwe_mean, cad_mwe_dist = generate_forecast(cad_mwe_model_reg, \n",
    "                                                       cad_mwe_var_post_reg,\n",
    "                                                       cad_mwe_trunc,\n",
    "                                                       num_forecast_steps)\n",
    "plot_forecast_future(cad_mwe_dist, mwe_forecast_yrs, cad_mwe_full, \n",
    "                     'CAD Median Weekly Earnings')\n",
    "\n",
    "\n",
    "bhd_mwe_mean, bhd_mwe_dist = generate_forecast(bhd_mwe_model_reg, \n",
    "                                                       bhd_mwe_var_post_reg,\n",
    "                                                       bhd_mwe_trunc,\n",
    "                                                       num_forecast_steps)\n",
    "plot_forecast_future(bhd_mwe_dist, mwe_forecast_yrs, bhd_mwe_full, \n",
    "                     'BHD Median Weekly Earnings')"
   ]
  },
  {
   "cell_type": "markdown",
   "metadata": {},
   "source": [
    "Using the Labor force data forecasts, we see a stagnation for the median weekly earnings for all categories except BHD (persons with Bachelors or Higher Degree), similar to the forecasts based only on past median weekly earnings data. \n",
    "\n",
    "Our conclusion is that for persons without a bachelors degree, earnings are going to stagnate or decrease in the coming years. This suggests that we must strive to make college education accessible to all."
   ]
  }
 ],
 "metadata": {
  "kernelspec": {
   "display_name": "Python 2",
   "language": "python",
   "name": "python2"
  },
  "language_info": {
   "codemirror_mode": {
    "name": "ipython",
    "version": 2
   },
   "file_extension": ".py",
   "mimetype": "text/x-python",
   "name": "python",
   "nbconvert_exporter": "python",
   "pygments_lexer": "ipython2",
   "version": "2.7.10"
  }
 },
 "nbformat": 4,
 "nbformat_minor": 4
}
