{
 "cells": [
  {
   "cell_type": "code",
   "execution_count": 1,
   "metadata": {
    "_cell_guid": "b1076dfc-b9ad-4769-8c92-a6c4dae69d19",
    "_uuid": "8f2839f25d086af736a60e9eeb907d3b93b6e0e5",
    "execution": {
     "iopub.execute_input": "2021-11-19T18:01:05.354947Z",
     "iopub.status.busy": "2021-11-19T18:01:05.354300Z",
     "iopub.status.idle": "2021-11-19T18:01:05.413024Z",
     "shell.execute_reply": "2021-11-19T18:01:05.411771Z",
     "shell.execute_reply.started": "2021-11-19T18:01:05.354808Z"
    }
   },
   "outputs": [],
   "source": [
    "# This Python 3 environment comes with many helpful analytics libraries installed\n",
    "# It is defined by the kaggle/python Docker image: https://github.com/kaggle/docker-python\n",
    "\n",
    "import numpy as np # linear algebra\n",
    "import pandas as pd # data processing, CSV file I/O (e.g. pd.read_csv)\n",
    "\n",
    "import os\n",
    "for dirname, _, filenames in os.walk(os.path.expanduser('~/Documents/GitHub/Earnings-by-Educational-Attainment')):\n",
    "    for filename in filenames:\n",
    "        if '.csv' in filename:\n",
    "            print(os.path.join(dirname, filename))        \n",
    "            full_df = pd.read_csv(os.path.join(dirname, filename))"
   ]
  },
  {
   "cell_type": "markdown",
   "metadata": {},
   "source": [
    "A look at the columns of the data set:"
   ]
  },
  {
   "cell_type": "code",
   "execution_count": 2,
   "metadata": {
    "execution": {
     "iopub.execute_input": "2021-11-19T18:01:05.415390Z",
     "iopub.status.busy": "2021-11-19T18:01:05.414619Z",
     "iopub.status.idle": "2021-11-19T18:01:05.455003Z",
     "shell.execute_reply": "2021-11-19T18:01:05.454072Z",
     "shell.execute_reply.started": "2021-11-19T18:01:05.415346Z"
    }
   },
   "outputs": [],
   "source": [
    "full_df.head()"
   ]
  },
  {
   "cell_type": "code",
   "execution_count": 3,
   "metadata": {
    "execution": {
     "iopub.execute_input": "2021-11-19T18:01:05.457249Z",
     "iopub.status.busy": "2021-11-19T18:01:05.456368Z",
     "iopub.status.idle": "2021-11-19T18:01:05.482517Z",
     "shell.execute_reply": "2021-11-19T18:01:05.481347Z",
     "shell.execute_reply.started": "2021-11-19T18:01:05.457208Z"
    }
   },
   "outputs": [],
   "source": [
    "print(full_df.info())"
   ]
  },
  {
   "cell_type": "markdown",
   "metadata": {},
   "source": [
    "As described in the dataset,\n",
    "\n",
    "> This is data collated from the Bureau of Labor Statistics and Census websites, about the labor force levels and median weekly earnings in constant 2020 dollars, for persons aged 25 and higher, from 1960 onwards.\n",
    "> \n",
    "> Educational attainment levels are categorized as follows: \n",
    ">\n",
    "> LHS: Less than a High School Diploma, \n",
    "> \n",
    "> HSG: High School Graduation or passing GED or equivalent, \n",
    "> \n",
    "> CAD: Some College or Associates Degree, \n",
    "> \n",
    "> BHD: Bachelors or Higher Degree.\n",
    "> \n",
    "> The median weekly earnings data by educational attainment is available from 1979 onwards, while the labor force data by educational attainment is available from 1992 onwards. However, the overall labor force and median weekly earnings data, and the percentage of population with high school graduation and with a bachelors degree or higher is available from 1960 onwards.\n",
    "\n",
    "The rows for labor force data are unavailable for years 1960-1991, while the median weekly earnings data are unavailable for years 1960-1978, as stated above. However, overall labor force data and overall median weekly earnings (for ages 15 and above) are available."
   ]
  },
  {
   "cell_type": "code",
   "execution_count": 4,
   "metadata": {
    "execution": {
     "iopub.execute_input": "2021-11-19T18:01:05.484538Z",
     "iopub.status.busy": "2021-11-19T18:01:05.484106Z",
     "iopub.status.idle": "2021-11-19T18:01:05.515053Z",
     "shell.execute_reply": "2021-11-19T18:01:05.514374Z",
     "shell.execute_reply.started": "2021-11-19T18:01:05.484504Z"
    }
   },
   "outputs": [],
   "source": [
    "truncated_df = full_df.dropna()\n",
    "truncated_df.head()"
   ]
  },
  {
   "cell_type": "code",
   "execution_count": 5,
   "metadata": {
    "execution": {
     "iopub.execute_input": "2021-11-19T18:01:05.516707Z",
     "iopub.status.busy": "2021-11-19T18:01:05.516249Z",
     "iopub.status.idle": "2021-11-19T18:01:06.425319Z",
     "shell.execute_reply": "2021-11-19T18:01:06.424435Z",
     "shell.execute_reply.started": "2021-11-19T18:01:05.516670Z"
    }
   },
   "outputs": [],
   "source": [
    "%matplotlib inline  \n",
    "\n",
    "# some imports to set up plotting\n",
    "import matplotlib.pyplot as plt\n",
    "# pip install seaborn\n",
    "import seaborn as sns\n",
    "# Graphics in retina format are more sharp and legible\n",
    "%config InlineBackend.figure_format = 'retina'"
   ]
  },
  {
   "cell_type": "code",
   "execution_count": 6,
   "metadata": {
    "execution": {
     "iopub.execute_input": "2021-11-19T18:01:06.426729Z",
     "iopub.status.busy": "2021-11-19T18:01:06.426482Z",
     "iopub.status.idle": "2021-11-19T18:01:07.148282Z",
     "shell.execute_reply": "2021-11-19T18:01:07.147244Z",
     "shell.execute_reply.started": "2021-11-19T18:01:06.426701Z"
    }
   },
   "outputs": [],
   "source": [
    "color_dict = {'LHS': 'peru', 'HSG': 'darkorange', 'CAD': 'olivedrab', 'BHD': 'teal', 'overall': 'grey'}\n",
    "### plotting Median Weekly Earnings ###\n",
    "# plt.plot(full_df['YEAR'], full_df['OVERALL WEEKLY MEDIAN EARNINGS (AGES 15 AND ABOVE)'],\n",
    "#          marker='o',linestyle='None', color=color_dict['overall'], label='overall')\n",
    "plt.plot(full_df['YEAR'], full_df['LHS MEDIAN WEEKLY EARNING (IN 2020 DOLLARS)'],\n",
    "         marker='o',linestyle='None', color=color_dict['LHS'], label='LHS')\n",
    "plt.hlines(full_df['LHS MEDIAN WEEKLY EARNING (IN 2020 DOLLARS)'].to_numpy()[19],\n",
    "           full_df['YEAR'].to_numpy()[19], full_df['YEAR'].to_numpy()[-1], linestyle='dashed', \n",
    "           color=color_dict['LHS'])\n",
    "plt.plot(full_df['YEAR'], full_df['HSG MEDIAN WEEKLY EARNING (IN 2020 DOLLARS)'],\n",
    "         marker='o',linestyle='None', color=color_dict['HSG'], label='HSG')\n",
    "plt.hlines(full_df['HSG MEDIAN WEEKLY EARNING (IN 2020 DOLLARS)'].to_numpy()[19],\n",
    "           full_df['YEAR'].to_numpy()[19], full_df['YEAR'].to_numpy()[-1], linestyle='dashed', \n",
    "           color=color_dict['HSG'])\n",
    "plt.plot(full_df['YEAR'], full_df['CAD MEDIAN WEEKLY EARNING (IN 2020 DOLLARS)'],\n",
    "         marker='o',linestyle='None', color=color_dict['CAD'], label='CAD')\n",
    "plt.hlines(full_df['CAD MEDIAN WEEKLY EARNING (IN 2020 DOLLARS)'].to_numpy()[19],\n",
    "           full_df['YEAR'].to_numpy()[19], full_df['YEAR'].to_numpy()[-1], linestyle='dashed', \n",
    "           color=color_dict['CAD'])\n",
    "\n",
    "plt.plot(full_df['YEAR'], full_df['BHD MEDIAN WEEKLY EARNING (IN 2020 DOLLARS)'],\n",
    "         marker='o',linestyle='None', color=color_dict['BHD'], label='BHD')\n",
    "plt.hlines(full_df['BHD MEDIAN WEEKLY EARNING (IN 2020 DOLLARS)'].to_numpy()[19],\n",
    "           full_df['YEAR'].to_numpy()[19], full_df['YEAR'].to_numpy()[-1], linestyle='dashed', \n",
    "           color=color_dict['BHD'])\n",
    "\n",
    "plt.plot(full_df['YEAR'], full_df['OVERALL WEEKLY MEDIAN EARNINGS (AGES 15 AND ABOVE)'],\n",
    "         marker='o',linestyle='None', color=color_dict['overall'], label='overall')\n",
    "\n",
    "plt.legend()\n",
    "plt.ylabel('Median Weekly Earnings (in 2020 dollars)')\n",
    "plt.xlabel('Year')\n",
    "plt.show()\n",
    "\n",
    "plt.plot(full_df['YEAR'], full_df['OVERALL PERCENT HSG'],          \n",
    "         marker='o',linestyle='None', color=color_dict['overall'], label='overall HSG')\n",
    "plt.plot(full_df['YEAR'], full_df['OVERALL PERCENT BHD'],          \n",
    "         marker='o',linestyle='None', color='c', label='overall BHD')\n",
    "plt.legend()\n",
    "plt.ylabel('Population Level Percentages')\n",
    "plt.xlabel('Year')\n",
    "plt.show()"
   ]
  },
  {
   "cell_type": "markdown",
   "metadata": {},
   "source": [
    "The above plots provide the motivation for the dataset and this notebook.\n",
    "We notice that for almost all educational attainment categories except BHD (Bachelors or Higher Degree), the median weekly income has stayed stagnant or decreased since 1979.\n",
    "\n",
    "The second plot shows the percentage of population that are High School Graduates (HSG), and the percentage of population with a Bachelors or Higher Degree (BHD). Notice the large gap between the HSG percentage and BHD percentage which has widened over the years.\n",
    "\n",
    "Given the low rates of college graduation in the country, the stagnation/decrease of median weekly incomes for people without a Bachelors or Higher Degree is an alarming trend, suggesting that majority of the country's labor force has seen a stagnation or decrease in their weekly incomes since the 1980s.\n",
    "\n",
    "We want to predict the future trend for the labor force statistics and median weekly incomes by educational attainment categories.\n",
    "\n",
    "Our goals are: \n",
    "(i) to estimate the labor force data for the future years 2020 to 2030 from past labor force data\n",
    "(ii) to estimate the median weekly earnings by highest educational attainment for the future years 2020 to 2030 from past earnings data and past and predicted labor force data.\n",
    "\n",
    "We note from the median weekly earnings plot above, that there is a \"seasonal\" trend that aligns with the periodically occuring financial crises, in addition to a local linear trend for each of the categories.\n",
    "\n",
    "We will begin with an exploratory data analysis of this dataset."
   ]
  },
  {
   "cell_type": "code",
   "execution_count": 7,
   "metadata": {
    "execution": {
     "iopub.execute_input": "2021-11-19T18:01:07.149790Z",
     "iopub.status.busy": "2021-11-19T18:01:07.149555Z",
     "iopub.status.idle": "2021-11-19T18:01:07.474612Z",
     "shell.execute_reply": "2021-11-19T18:01:07.473725Z",
     "shell.execute_reply.started": "2021-11-19T18:01:07.149763Z"
    }
   },
   "outputs": [],
   "source": [
    "### plotting Population Percentages & Overall Percentage of HSG & BHD ###\n",
    "plt.plot(truncated_df['YEAR'], \n",
    "      100*(truncated_df['LHS CIVILIAN POPULATION (IN THOUSANDS)']/truncated_df['CIVILIAN NONINSTITUTIONAL POPULATION (IN THOUSANDS)']),\n",
    "         marker='o',linestyle='None', color=color_dict['LHS'], label='LHS')\n",
    "plt.plot(truncated_df['YEAR'],\n",
    "      100*(truncated_df['HSG CIVILIAN POPULATION (IN THOUSANDS)']/truncated_df['CIVILIAN NONINSTITUTIONAL POPULATION (IN THOUSANDS)']),\n",
    "         marker='o',linestyle='None', color=color_dict['HSG'], label='HSG')\n",
    "plt.plot(truncated_df['YEAR'], 100*(truncated_df['CAD CIVILIAN POPULATION (IN THOUSANDS)']/truncated_df['CIVILIAN NONINSTITUTIONAL POPULATION (IN THOUSANDS)']),\n",
    "         marker='o',linestyle='None', color=color_dict['CAD'], label='CAD')\n",
    "plt.plot(truncated_df['YEAR'], \n",
    "      100*(truncated_df['BHD CIVILIAN POPULATION (IN THOUSANDS)']/truncated_df['CIVILIAN NONINSTITUTIONAL POPULATION (IN THOUSANDS)']),\n",
    "         marker='o',linestyle='None', color=color_dict['BHD'], label='BHD')\n",
    "plt.plot(full_df['YEAR'], full_df['OVERALL PERCENT HSG'],          \n",
    "         marker='o',linestyle='None', color=color_dict['overall'], label='overall HSG')\n",
    "plt.plot(full_df['YEAR'], full_df['OVERALL PERCENT BHD'],          \n",
    "         marker='o',linestyle='None', color='c', label='overall BHD')\n",
    "plt.legend()\n",
    "plt.ylabel('Population Level Fractions')\n",
    "plt.xlabel('Year')\n",
    "plt.show()"
   ]
  },
  {
   "cell_type": "markdown",
   "metadata": {},
   "source": [
    "Here we see that the percentage of BHD (black) has the same behavior as the population percent of BHD (teal), and (100 - the percentage of HSG) (cyan) has the same behavior as population fraction of LHS (peru), as we might expect. We also find that the population fraction of CAD (olive) and that of HSG (orange) behaves similar to linear combinations of the overall percentage of BHD and the overall percentage of HSG. We can perform a regression analysis to determine the best estimates of the CAD population fraction and the HSG population fraction from the overall percent of BHD and HSG. "
   ]
  },
  {
   "cell_type": "code",
   "execution_count": 8,
   "metadata": {
    "execution": {
     "iopub.execute_input": "2021-11-19T18:01:07.476844Z",
     "iopub.status.busy": "2021-11-19T18:01:07.475970Z",
     "iopub.status.idle": "2021-11-19T18:01:08.362832Z",
     "shell.execute_reply": "2021-11-19T18:01:08.361835Z",
     "shell.execute_reply.started": "2021-11-19T18:01:07.476768Z"
    }
   },
   "outputs": [],
   "source": [
    "### plotting Labor Force Levels ###\n",
    "plt.plot(truncated_df['YEAR'], truncated_df['LHS LABOR FORCE LEVEL (IN THOUSANDS)'],\n",
    "         marker='o',linestyle='None', color=color_dict['LHS'], label='LHS')\n",
    "plt.plot(truncated_df['YEAR'], truncated_df['HSG LABOR FORCE LEVEL (IN THOUSANDS)'],\n",
    "         marker='o',linestyle='None', color=color_dict['HSG'], label='HSG')\n",
    "plt.plot(truncated_df['YEAR'], truncated_df['CAD LABOR FORCE LEVEL (IN THOUSANDS)'],\n",
    "         marker='o',linestyle='None', color=color_dict['CAD'], label='CAD')\n",
    "plt.plot(truncated_df['YEAR'], truncated_df['BHD LABOR FORCE LEVEL (IN THOUSANDS)'],\n",
    "         marker='o',linestyle='None', color=color_dict['BHD'], label='BHD')\n",
    "plt.plot(full_df['YEAR'], full_df['OVERALL LABOR FORCE LEVEL (IN THOUSANDS)']/4.,\n",
    "         marker='o',linestyle='None', color=color_dict['overall'], label='overall/4')\n",
    "plt.legend()\n",
    "plt.ylabel('Labor Force Level (in Thousands)')\n",
    "plt.xlabel('Year')\n",
    "plt.show()\n",
    "\n",
    "### plotting Labor Force Participation Rates ###\n",
    "plt.plot(truncated_df['YEAR'], truncated_df['LHS LABOR FORCE PARTICIPATION RATE (IN PERCENT)'],\n",
    "         marker='o',linestyle='None', color=color_dict['LHS'], label='LHS')\n",
    "plt.plot(truncated_df['YEAR'], truncated_df['HSG LABOR FORCE PARTICIPATION RATE (IN PERCENT)'],\n",
    "         marker='o',linestyle='None', color=color_dict['HSG'], label='HSG')\n",
    "plt.plot(truncated_df['YEAR'], truncated_df['CAD LABOR FORCE PARTICIPATION RATE (IN PERCENT)'],\n",
    "         marker='o',linestyle='None', color=color_dict['CAD'], label='CAD')\n",
    "plt.plot(truncated_df['YEAR'], truncated_df['BHD LABOR FORCE PARTICIPATION RATE (IN PERCENT)'],\n",
    "         marker='o',linestyle='None', color=color_dict['BHD'], label='BHD')\n",
    "plt.plot(full_df['YEAR'], full_df['OVERALL LABOR FORCE PARTICIPATION RATE (IN PERCENT)'],\n",
    "         marker='o',linestyle='None', color=color_dict['overall'], label='overall')\n",
    "plt.legend()\n",
    "plt.xlabel('Year')\n",
    "plt.ylabel('Labor Force Participation Rate (in Percent)')\n",
    "plt.show()\n",
    "\n",
    "### plotting Employment Levels ###\n",
    "plt.plot(truncated_df['YEAR'], truncated_df['LHS EMPLOYMENT LEVEL (IN THOUSANDS)'],\n",
    "         marker='o',linestyle='None', color=color_dict['LHS'], label='LHS')\n",
    "plt.plot(truncated_df['YEAR'], truncated_df['HSG EMPLOYMENT LEVEL (IN THOUSANDS)'],\n",
    "         marker='o',linestyle='None', color=color_dict['HSG'], label='HSG')\n",
    "plt.plot(truncated_df['YEAR'], truncated_df['CAD EMPLOYMENT LEVEL (IN THOUSANDS)'],\n",
    "         marker='o',linestyle='None', color=color_dict['CAD'], label='CAD')\n",
    "plt.plot(truncated_df['YEAR'], truncated_df['BHD EMPLOYMENT LEVEL (IN THOUSANDS)'],\n",
    "         marker='o',linestyle='None', color=color_dict['BHD'], label='BHD')\n",
    "plt.plot(full_df['YEAR'], full_df['OVERALL EMPLOYMENT LEVEL (IN THOUSANDS)']/4.,\n",
    "         marker='o',linestyle='None', color=color_dict['overall'], label='overall/4')\n",
    "plt.legend()\n",
    "plt.ylabel('Employment Level (in Thousands)')\n",
    "plt.xlabel('Year')\n",
    "plt.show()"
   ]
  },
  {
   "cell_type": "markdown",
   "metadata": {},
   "source": [
    "It looks like for each of plots above, the overall quantity behaves like the sum/average of the corresponding quantity for LHS, HSG, CAD and BHD categories, as it should.\n",
    "\n",
    "Furthermore, we don't see the seasonal trend that was present in the median weekly incomes in any of the above labor force statistics, except perhaps in the employment level."
   ]
  },
  {
   "cell_type": "markdown",
   "metadata": {},
   "source": [
    "We would like to predict for the future years, for each of categories (LHS, HSG, CAD, BHD), the independent Labor force variables: Labor Force Level, Labor Force Participation Rate, and the Labor Force Employment Level. \n",
    "\n",
    "Let us begin by calculating the autocorrelation for the Labor Force levels. This will tell us how predictive past values are for future values, and also how many years into the past are relevant for the current level."
   ]
  },
  {
   "cell_type": "code",
   "execution_count": 9,
   "metadata": {
    "execution": {
     "iopub.execute_input": "2021-11-19T18:01:08.364301Z",
     "iopub.status.busy": "2021-11-19T18:01:08.364043Z",
     "iopub.status.idle": "2021-11-19T18:01:10.325523Z",
     "shell.execute_reply": "2021-11-19T18:01:10.324876Z",
     "shell.execute_reply.started": "2021-11-19T18:01:08.364268Z"
    }
   },
   "outputs": [],
   "source": [
    "import statsmodels.api as sm                    \n",
    "sm.graphics.tsa.plot_acf(full_df['OVERALL LABOR FORCE LEVEL (IN THOUSANDS)'], lags=10, \n",
    "                 alpha=0.05, title='Overall Labor Force Level Autocorrelation')\n",
    "plt.xlabel('Lag')\n",
    "plt.show()\n",
    "\n",
    "sm.graphics.tsa.plot_acf(truncated_df['LHS LABOR FORCE LEVEL (IN THOUSANDS)'], lags=10, alpha=0.05, \n",
    "                         title='LHS Labor Force Level Autocorrelation')\n",
    "plt.xlabel('Lag')\n",
    "plt.show()\n",
    "\n",
    "sm.graphics.tsa.plot_acf(truncated_df['HSG LABOR FORCE LEVEL (IN THOUSANDS)'], lags=10, alpha=0.05, \n",
    "                         title='HSG Labor Force Level Autocorrelation' )\n",
    "plt.xlabel('Lag')\n",
    "plt.show()\n",
    "\n",
    "sm.graphics.tsa.plot_acf(truncated_df['CAD LABOR FORCE LEVEL (IN THOUSANDS)'], lags=10, alpha=0.05, \n",
    "                         title='CAD Labor Force Level Autocorrelation' )\n",
    "plt.xlabel('Lag')\n",
    "plt.show()\n",
    "\n",
    "sm.graphics.tsa.plot_acf(truncated_df['BHD LABOR FORCE LEVEL (IN THOUSANDS)'], lags=10, alpha=0.05, \n",
    "                         title='BHD Labor Force Level Autocorrelation' )\n",
    "plt.xlabel('Lag')\n",
    "plt.show()"
   ]
  },
  {
   "cell_type": "markdown",
   "metadata": {},
   "source": [
    "We see that while the overall labor force level shows history dependence for upto 5 years, the labor force levels for each category show history dependence for only upto 2 years.\n",
    "\n",
    "We will now plot the autocorrelation for the other labor force statistics. "
   ]
  },
  {
   "cell_type": "code",
   "execution_count": 10,
   "metadata": {
    "execution": {
     "iopub.execute_input": "2021-11-19T18:01:10.329208Z",
     "iopub.status.busy": "2021-11-19T18:01:10.328011Z",
     "iopub.status.idle": "2021-11-19T18:01:11.836622Z",
     "shell.execute_reply": "2021-11-19T18:01:11.835692Z",
     "shell.execute_reply.started": "2021-11-19T18:01:10.329139Z"
    }
   },
   "outputs": [],
   "source": [
    "sm.graphics.tsa.plot_acf(full_df['OVERALL LABOR FORCE PARTICIPATION RATE (IN PERCENT)'], lags=10, alpha=0.05, \n",
    "                         title='Overall Labor Force Participation Rate Autocorrelation' )\n",
    "plt.xlabel('Lag')\n",
    "plt.show()\n",
    "\n",
    "sm.graphics.tsa.plot_acf(truncated_df['LHS LABOR FORCE PARTICIPATION RATE (IN PERCENT)'], lags=10, alpha=0.05, \n",
    "                         title='LHS LF Participation Rate Autocorrelation' )\n",
    "plt.xlabel('Lag')\n",
    "plt.show()\n",
    "\n",
    "sm.graphics.tsa.plot_acf(truncated_df['HSG LABOR FORCE PARTICIPATION RATE (IN PERCENT)'], lags=10, alpha=0.05, \n",
    "                         title='HSG LF Participation Rate Autocorrelation' )\n",
    "plt.xlabel('Lag')\n",
    "plt.show()\n",
    "\n",
    "sm.graphics.tsa.plot_acf(truncated_df['CAD LABOR FORCE PARTICIPATION RATE (IN PERCENT)'], lags=10, alpha=0.05, \n",
    "                         title='CAD LF Participation Rate Autocorrelation' )\n",
    "plt.xlabel('Lag')\n",
    "plt.show()\n",
    "\n",
    "sm.graphics.tsa.plot_acf(truncated_df['BHD LABOR FORCE PARTICIPATION RATE (IN PERCENT)'], lags=10, alpha=0.05, \n",
    "                         title='BHD LF Participation Rate Autocorrelation' )\n",
    "plt.xlabel('Lag')\n",
    "plt.show()"
   ]
  },
  {
   "cell_type": "markdown",
   "metadata": {},
   "source": [
    "The autocorrelation for the Labor Force Participation Rate also suggests a maximum history dependence for upto 2 years for the category-wise data. \n",
    "\n",
    "We will now look at the autocorrelation for the Employment Level."
   ]
  },
  {
   "cell_type": "code",
   "execution_count": 11,
   "metadata": {
    "execution": {
     "iopub.execute_input": "2021-11-19T18:01:11.838099Z",
     "iopub.status.busy": "2021-11-19T18:01:11.837863Z",
     "iopub.status.idle": "2021-11-19T18:01:13.167935Z",
     "shell.execute_reply": "2021-11-19T18:01:13.167056Z",
     "shell.execute_reply.started": "2021-11-19T18:01:11.838068Z"
    }
   },
   "outputs": [],
   "source": [
    "sm.graphics.tsa.plot_acf(full_df['OVERALL EMPLOYMENT LEVEL (IN THOUSANDS)'], lags=10, \n",
    "                 alpha=0.05, title='Overall Employment Level Autocorrelation')\n",
    "plt.xlabel('Lag')\n",
    "plt.show()\n",
    "\n",
    "sm.graphics.tsa.plot_acf(truncated_df['LHS EMPLOYMENT LEVEL (IN THOUSANDS)'], lags=10, alpha=0.05, \n",
    "                         title='LHS Employment Level Autocorrelation')\n",
    "plt.xlabel('Lag')\n",
    "plt.show()\n",
    "\n",
    "sm.graphics.tsa.plot_acf(truncated_df['HSG EMPLOYMENT LEVEL (IN THOUSANDS)'], lags=10, alpha=0.05, \n",
    "                         title='HSG Employment Level Autocorrelation' )\n",
    "plt.xlabel('Lag')\n",
    "plt.show()\n",
    "\n",
    "sm.graphics.tsa.plot_acf(truncated_df['CAD EMPLOYMENT LEVEL (IN THOUSANDS)'], lags=10, alpha=0.05, \n",
    "                         title='CAD Employment Level Autocorrelation' )\n",
    "plt.xlabel('Lag')\n",
    "plt.show()\n",
    "\n",
    "sm.graphics.tsa.plot_acf(truncated_df['BHD EMPLOYMENT LEVEL (IN THOUSANDS)'], lags=10, alpha=0.05, \n",
    "                         title='BHD Employment Level Autocorrelation' )\n",
    "plt.xlabel('Lag')\n",
    "plt.show()"
   ]
  },
  {
   "cell_type": "markdown",
   "metadata": {},
   "source": [
    "The autocorrelation for the Employment also suggests a maximum history dependence for upto 2 years for the category-wise data.\n",
    "\n",
    "Since we want to forecast values of the labor force variables and the median earnings for a decade into the future and not just one year into the future, we  will use a Bayesian Structural Time Series model from the Tensor Flow Probability package instead of other machine learning methods which require much more data to fit, and often involve errors that accumulate for future predictions. We will use [this fantastic example notebook from TensorFlow Probability](https://colab.research.google.com/github/tensorflow/probability/blob/main/tensorflow_probability/examples/jupyter_notebooks/Structural_Time_Series_Modeling_Case_Studies_Atmospheric_CO2_and_Electricity_Demand.ipynb#scrollTo=ULm_Z8Oe0Lhd) as our guide.\n",
    "\n",
    "The plots above suggest that the there is a local linear trend with a small seasonal component. \n",
    "We now embark on the estimation of the past labor force statistics, beginning with importing the necessary packages and writing some plotting functions."
   ]
  },
  {
   "cell_type": "code",
   "execution_count": 12,
   "metadata": {
    "execution": {
     "iopub.execute_input": "2021-11-19T18:01:13.169902Z",
     "iopub.status.busy": "2021-11-19T18:01:13.169465Z",
     "iopub.status.idle": "2021-11-19T18:01:21.336193Z",
     "shell.execute_reply": "2021-11-19T18:01:21.334982Z",
     "shell.execute_reply.started": "2021-11-19T18:01:13.169866Z"
    }
   },
   "outputs": [],
   "source": [
    "import collections\n",
    "\n",
    "import tensorflow.compat.v2 as tf\n",
    "import tensorflow_probability as tfp\n",
    "\n",
    "from tensorflow_probability import distributions as tfd\n",
    "from tensorflow_probability import sts\n",
    "\n",
    "tf.enable_v2_behavior()\n",
    "\n",
    "def plot_forecast(x, y,\n",
    "                  forecast_mean, forecast_scale, forecast_samples,\n",
    "                  title):\n",
    "    colors = sns.color_palette()\n",
    "    c1, c2 = colors[0], colors[1]\n",
    "    fig = plt.figure(figsize=(12, 6))\n",
    "    ax = fig.add_subplot(1, 1, 1)\n",
    "\n",
    "    num_steps = len(y)\n",
    "    num_steps_forecast = forecast_mean.shape[-1]\n",
    "    num_steps_train = num_steps - num_steps_forecast\n",
    "        \n",
    "    ax.plot(x, y, lw=2, color=c1, label='ground truth')\n",
    "\n",
    "    forecast_steps = np.arange(\n",
    "      x[num_steps_train],\n",
    "      x[num_steps_train]+num_steps_forecast,\n",
    "      dtype=x.dtype)\n",
    "    \n",
    "    mape = 100.*np.mean(np.abs(forecast_mean - \n",
    "                         y[-num_steps_forecast:])/y[-num_steps_forecast:])\n",
    "    print(f\"MAPE is {mape:.2f}%\")\n",
    "    ax.plot(forecast_steps, (forecast_samples.T), lw=1, color=c2, alpha=0.4)\n",
    "    \n",
    "    ax.plot(forecast_steps, forecast_mean, lw=2, ls='--', color=c2,\n",
    "           label='forecast')\n",
    "    ax.fill_between(forecast_steps,\n",
    "                   forecast_mean-2*forecast_scale,\n",
    "                   forecast_mean+2*forecast_scale, color=c2, alpha=0.2)\n",
    "\n",
    "    ymin, ymax = min(np.min(forecast_samples), np.min(y)), max(np.max(forecast_samples), np.max(y))\n",
    "    yrange = ymax-ymin\n",
    "    ax.set_ylim([ymin - yrange*0.1, ymax + yrange*0.1])\n",
    "    ax.set_title(\"{}\".format(title))\n",
    "    ax.legend()\n",
    "\n",
    "    return fig, ax\n",
    "\n",
    "def plot_components(dates,\n",
    "                    component_means_dict,\n",
    "                    component_stddevs_dict):\n",
    "    colors = sns.color_palette()\n",
    "    c1, c2 = colors[0], colors[1]\n",
    "\n",
    "    axes_dict = collections.OrderedDict()\n",
    "    num_components = len(component_means_dict)\n",
    "    fig = plt.figure(figsize=(12, 2.5 * num_components))\n",
    "    for i, component_name in enumerate(component_means_dict.keys()):\n",
    "        component_mean = component_means_dict[component_name]\n",
    "        component_stddev = component_stddevs_dict[component_name]\n",
    "\n",
    "    ax = fig.add_subplot(num_components,1,1+i)\n",
    "    ax.plot(dates, component_mean, lw=2)\n",
    "    ax.fill_between(dates,\n",
    "                     component_mean-2*component_stddev,\n",
    "                     component_mean+2*component_stddev,\n",
    "                     color=c2, alpha=0.5)\n",
    "    ax.set_title(component_name)\n",
    "    axes_dict[component_name] = ax\n",
    "    fig.tight_layout()\n",
    "    return fig, axes_dict"
   ]
  },
  {
   "cell_type": "markdown",
   "metadata": {},
   "source": [
    "For each category and the labor force variables, we will now build a BSTS model that has a seasonal component and a semi-local linear trend component, to estimate the values for the years 2021-2030.\n",
    "\n",
    "Moreover, since we have more data for the overall labor force variables (1960 onwards) which also have a higher autocorrelation, and since we have the population fractions for persons with a High School Graduation and persons with a Bachelors Degree or Higher, we will forecast values of these variables first, and use these variables to forecast the future values of the category-wise labor force variables. We begin by collating the overall and category-wise data, and writing the model-building functions.\n",
    "\n",
    "We will use a semi-local (to keep the variance from getting too large) linear trend model, and a combination of the semi-local linear trend with a seasonal trend component for modeling the roughly periodically occurring financial crises."
   ]
  },
  {
   "cell_type": "code",
   "execution_count": 13,
   "metadata": {
    "execution": {
     "iopub.execute_input": "2021-11-19T18:01:21.338151Z",
     "iopub.status.busy": "2021-11-19T18:01:21.337834Z",
     "iopub.status.idle": "2021-11-19T18:01:21.360012Z",
     "shell.execute_reply": "2021-11-19T18:01:21.359189Z",
     "shell.execute_reply.started": "2021-11-19T18:01:21.338111Z"
    }
   },
   "outputs": [],
   "source": [
    "overall_hsg_percent = full_df['OVERALL PERCENT HSG'][4:].to_numpy()\n",
    "overall_bhd_percent = full_df['OVERALL PERCENT BHD'][4:].to_numpy()\n",
    "\n",
    "### [4:] since elements 1 and 3 are missing. ###\n",
    "### We will use [4:] for all the overall labor force variables ### \n",
    "\n",
    "overall_lf_level = 1.*full_df['OVERALL LABOR FORCE LEVEL (IN THOUSANDS)'][4:].to_numpy()\n",
    "lhs_lf_level = 1.*truncated_df['LHS LABOR FORCE LEVEL (IN THOUSANDS)'].to_numpy()\n",
    "hsg_lf_level = 1.*truncated_df['HSG LABOR FORCE LEVEL (IN THOUSANDS)'].to_numpy()\n",
    "cad_lf_level = 1.*truncated_df['CAD LABOR FORCE LEVEL (IN THOUSANDS)'].to_numpy()\n",
    "bhd_lf_level = 1.*truncated_df['BHD LABOR FORCE LEVEL (IN THOUSANDS)'].to_numpy()\n",
    "\n",
    "overall_emp_level = 1.*full_df['OVERALL EMPLOYMENT LEVEL (IN THOUSANDS)'][4:].to_numpy()\n",
    "lhs_emp_level = 1.*truncated_df['LHS EMPLOYMENT LEVEL (IN THOUSANDS)'].to_numpy()\n",
    "hsg_emp_level = 1.*truncated_df['HSG EMPLOYMENT LEVEL (IN THOUSANDS)'].to_numpy()\n",
    "cad_emp_level = 1.*truncated_df['CAD EMPLOYMENT LEVEL (IN THOUSANDS)'].to_numpy()\n",
    "bhd_emp_level = 1.*truncated_df['BHD EMPLOYMENT LEVEL (IN THOUSANDS)'].to_numpy()\n",
    "\n",
    "lhs_lf_pr = 1.*truncated_df['LHS LABOR FORCE PARTICIPATION RATE (IN PERCENT)'].to_numpy()\n",
    "hsg_lf_pr = 1.*truncated_df['HSG LABOR FORCE PARTICIPATION RATE (IN PERCENT)'].to_numpy()\n",
    "cad_lf_pr = 1.*truncated_df['CAD LABOR FORCE PARTICIPATION RATE (IN PERCENT)'].to_numpy()\n",
    "bhd_lf_pr = 1.*truncated_df['BHD LABOR FORCE PARTICIPATION RATE (IN PERCENT)'].to_numpy()\n",
    "overall_lf_pr = 1.*full_df['OVERALL LABOR FORCE PARTICIPATION RATE (IN PERCENT)'][4:].to_numpy()\n",
    "\n",
    "full_df_years = 1.*full_df['YEAR'][4:].to_numpy()\n",
    "trunc_df_years = 1.*truncated_df['YEAR'].to_numpy()\n",
    "num_forecast_steps = 10 ### since we want to forecast 10 years into the future ###\n",
    "\n",
    "def build_linear_trend_seasonal_model(observed_time_series, steps_per_season=1):\n",
    "    semilocal_linear_trend = sts.SemiLocalLinearTrend(\n",
    "                                observed_time_series=observed_time_series,\n",
    "                                name='semilocal_linear_trend')    \n",
    "\n",
    "    seasonal_trend = sts.Seasonal(\n",
    "            num_seasons=2, num_steps_per_season=steps_per_season, \n",
    "            observed_time_series=observed_time_series)\n",
    "\n",
    "    model = sts.Sum([semilocal_linear_trend, seasonal_trend],\n",
    "                   observed_time_series=observed_time_series)\n",
    "\n",
    "    return model\n",
    "\n",
    "def build_linear_trend_model(observed_time_series):\n",
    "    semilocal_linear_trend = sts.SemiLocalLinearTrend(\n",
    "                                observed_time_series=observed_time_series,\n",
    "                                name='semilocal_linear_trend')    \n",
    "\n",
    "    model = sts.Sum([semilocal_linear_trend],\n",
    "                   observed_time_series=observed_time_series)\n",
    "\n",
    "    return model"
   ]
  },
  {
   "cell_type": "markdown",
   "metadata": {},
   "source": [
    "Functions for fitting the model and generating the forecast:"
   ]
  },
  {
   "cell_type": "code",
   "execution_count": 14,
   "metadata": {
    "execution": {
     "iopub.execute_input": "2021-11-19T18:01:21.362916Z",
     "iopub.status.busy": "2021-11-19T18:01:21.362566Z",
     "iopub.status.idle": "2021-11-19T18:01:21.386255Z",
     "shell.execute_reply": "2021-11-19T18:01:21.385560Z",
     "shell.execute_reply.started": "2021-11-19T18:01:21.362871Z"
    }
   },
   "outputs": [],
   "source": [
    "def fit_model_generate_forecast(model, train_time_series, num_forecast_steps, \n",
    "                                num_variational_steps=200):\n",
    "# Build the variational surrogate posteriors `qs`.\n",
    "    np.random.seed(101)\n",
    "    high = np.iinfo(np.int32).max\n",
    "    seed = np.random.randint(high)\n",
    "    variational_posteriors = tfp.sts.build_factored_surrogate_posterior(model=model, \n",
    "                                                                        seed=seed)\n",
    "\n",
    "# Build and optimize the variational loss function.\n",
    "    elbo_loss_curve = tfp.vi.fit_surrogate_posterior(\n",
    "        target_log_prob_fn=model.joint_log_prob(\n",
    "            observed_time_series=train_time_series),\n",
    "        surrogate_posterior=variational_posteriors,\n",
    "        optimizer=tf.optimizers.Adam(learning_rate=0.1),\n",
    "        num_steps=num_variational_steps,\n",
    "        jit_compile=True, seed=seed)\n",
    "    plt.plot(elbo_loss_curve)\n",
    "    plt.show()\n",
    "\n",
    "    q_samples_ = variational_posteriors.sample(100)\n",
    "    forecast_dist = tfp.sts.forecast(\n",
    "        model=model,\n",
    "        observed_time_series=train_time_series,\n",
    "        parameter_samples=q_samples_,\n",
    "        num_steps_forecast=num_forecast_steps)\n",
    "    \n",
    "    return (variational_posteriors, forecast_dist)\n",
    "\n",
    "def print_fit_params(variational_posteriors, model):\n",
    "        # # Draw samples from the variational posterior.\n",
    "    q_samples_ = variational_posteriors.sample(100)\n",
    "\n",
    "    print(\"Inferred parameters:\")\n",
    "    for param in model.parameters:\n",
    "      print(\"{}: {} +- {}\".format(param.name,\n",
    "                                  np.mean(q_samples_[param.name], axis=0),\n",
    "                                  np.std(q_samples_[param.name], axis=0)))\n",
    "\n",
    "def plot_forecast_results(forecast_dist, x_axis_data, train_data, title_str, \n",
    "                          num_samples=10):\n",
    "    (\n",
    "        forecast_mean,\n",
    "        forecast_scale,\n",
    "        forecast_samples\n",
    "    ) = (\n",
    "        forecast_dist.mean().numpy()[..., 0],\n",
    "        forecast_dist.stddev().numpy()[..., 0],\n",
    "        forecast_dist.sample(num_samples).numpy()[..., 0]\n",
    "        )\n",
    "\n",
    "    fig, ax = plot_forecast(x_axis_data, train_data,\n",
    "                        forecast_mean,\n",
    "                        forecast_scale,\n",
    "                        forecast_samples,\n",
    "                        title=title_str)\n",
    "    \n",
    "    \n",
    "    fig.tight_layout()\n",
    "    plt.show()"
   ]
  },
  {
   "cell_type": "markdown",
   "metadata": {},
   "source": [
    "Applying the above machinery to forecast values of Overall HSG percent, Overall BHD percent, Overall Labor Force Level, Overall Labor Force Participation Rate, and the Overall Employment Level. "
   ]
  },
  {
   "cell_type": "code",
   "execution_count": 15,
   "metadata": {
    "execution": {
     "iopub.execute_input": "2021-11-19T18:01:21.388466Z",
     "iopub.status.busy": "2021-11-19T18:01:21.387918Z",
     "iopub.status.idle": "2021-11-19T18:01:22.610950Z",
     "shell.execute_reply": "2021-11-19T18:01:22.609727Z",
     "shell.execute_reply.started": "2021-11-19T18:01:21.388422Z"
    }
   },
   "outputs": [],
   "source": [
    "### To estimate the seasonal/oscillating component of the variables ###\n",
    "from scipy.fft import fft\n",
    "\n",
    "num_forecast_steps = 10\n",
    "\n",
    "hsg_percent_fft = fft(overall_hsg_percent[:-num_forecast_steps]-\n",
    "                 np.mean(overall_hsg_percent[:-num_forecast_steps]))\n",
    "plt.plot(np.abs(hsg_percent_fft))\n",
    "plt.grid()\n",
    "plt.title('Overall HSG Percent FFT')\n",
    "plt.show()\n",
    "\n",
    "bhd_percent_fft = fft(overall_bhd_percent[:-num_forecast_steps]-\n",
    "                 np.mean(overall_bhd_percent[:-num_forecast_steps]))\n",
    "plt.plot(np.abs(bhd_percent_fft))\n",
    "plt.grid()\n",
    "plt.title('Overall BHD Percent FFT')\n",
    "plt.show()\n",
    "\n",
    "overall_lf_fft = fft(overall_lf_level[:-num_forecast_steps]-\n",
    "                np.mean(overall_lf_level[:-num_forecast_steps]))\n",
    "plt.plot(np.abs(overall_lf_fft))\n",
    "plt.grid()\n",
    "plt.title('Overall Labor Force Level FFT')\n",
    "plt.show()\n",
    "\n",
    "overall_emp_fft = fft(overall_emp_level[:-num_forecast_steps]-\n",
    "                np.mean(overall_emp_level[:-num_forecast_steps]))\n",
    "plt.plot(np.abs(overall_emp_fft))\n",
    "plt.grid()\n",
    "plt.title('Overall Employment Level FFT')\n",
    "plt.show()\n",
    "\n",
    "overall_lf_pr_fft = fft(overall_lf_pr[:-num_forecast_steps]-\n",
    "                np.mean(overall_lf_pr[:-num_forecast_steps]))\n",
    "plt.plot(np.abs(overall_lf_pr_fft))\n",
    "plt.grid()\n",
    "plt.title('Overall Labor Force Participation Rate FFT')\n",
    "plt.show()"
   ]
  },
  {
   "cell_type": "markdown",
   "metadata": {},
   "source": [
    "The FFT peaks at 1 year, which could could simply be the high frequency noise. We will set the number of steps per season to the shortest possible value: 1, to account for this \"periodic\" variation."
   ]
  },
  {
   "cell_type": "code",
   "execution_count": 16,
   "metadata": {
    "execution": {
     "iopub.execute_input": "2021-11-19T18:01:22.612781Z",
     "iopub.status.busy": "2021-11-19T18:01:22.612507Z",
     "iopub.status.idle": "2021-11-19T18:01:42.567863Z",
     "shell.execute_reply": "2021-11-19T18:01:42.567122Z",
     "shell.execute_reply.started": "2021-11-19T18:01:22.612735Z"
    }
   },
   "outputs": [],
   "source": [
    "### Overall HSG percent ###\n",
    "hsg_percent_model = build_linear_trend_model(overall_hsg_percent[:-num_forecast_steps])\n",
    "(hsg_percent_var_post, \n",
    " hsg_percent_forecast_dist) = fit_model_generate_forecast(hsg_percent_model,\n",
    "                                overall_hsg_percent[:-num_forecast_steps], \n",
    "                                num_forecast_steps)\n",
    "\n",
    "# print_fit_params(hsg_percent_var_post, hsg_percent_model)\n",
    "\n",
    "plot_forecast_results(hsg_percent_forecast_dist, full_df_years, overall_hsg_percent, \n",
    "                      'Overall HSG percent', num_samples=10)"
   ]
  },
  {
   "cell_type": "markdown",
   "metadata": {},
   "source": [
    "It looks like the Semi-local linear trend model does a good job of forecasting the percent of persons with high school graduation over the last decade. "
   ]
  },
  {
   "cell_type": "code",
   "execution_count": 17,
   "metadata": {
    "execution": {
     "iopub.execute_input": "2021-11-19T18:01:42.569719Z",
     "iopub.status.busy": "2021-11-19T18:01:42.569284Z",
     "iopub.status.idle": "2021-11-19T18:02:02.443249Z",
     "shell.execute_reply": "2021-11-19T18:02:02.442545Z",
     "shell.execute_reply.started": "2021-11-19T18:01:42.569640Z"
    }
   },
   "outputs": [],
   "source": [
    "### Overall BHD percent ###\n",
    "bhd_percent_model = build_linear_trend_model(overall_bhd_percent[:-num_forecast_steps])\n",
    "(bhd_percent_var_post, \n",
    " bhd_percent_forecast_dist) = fit_model_generate_forecast( bhd_percent_model,\n",
    "                overall_bhd_percent[:-num_forecast_steps], num_forecast_steps)\n",
    "\n",
    "# print_fit_params(bhd_percent_var_post, bhd_percent_model)\n",
    "\n",
    "plot_forecast_results(bhd_percent_forecast_dist, full_df_years, overall_bhd_percent, \n",
    "                      'Overall BHD percent', num_samples=10)"
   ]
  },
  {
   "cell_type": "markdown",
   "metadata": {},
   "source": [
    "It looks like the percentage of persons with a Bachelors Degree or Higher has increased considerably in the last decade compared to past decades, and the model is unable to forecast that.\n",
    "\n",
    "So far we have used only a semilocal (to keep the variance bounded) linear trend model, but for the labor force variables, we will also use a seasonal trend in addition to the linear trend, to account for the bumpiness of the data. "
   ]
  },
  {
   "cell_type": "code",
   "execution_count": 18,
   "metadata": {
    "execution": {
     "iopub.execute_input": "2021-11-19T18:02:02.444932Z",
     "iopub.status.busy": "2021-11-19T18:02:02.444387Z",
     "iopub.status.idle": "2021-11-19T18:02:27.907598Z",
     "shell.execute_reply": "2021-11-19T18:02:27.906438Z",
     "shell.execute_reply.started": "2021-11-19T18:02:02.444894Z"
    }
   },
   "outputs": [],
   "source": [
    "### Overall Labor Force Level ###\n",
    "### We use a linear trend combined with a seasonal trend here ###\n",
    "lf_level_model = build_linear_trend_seasonal_model(overall_lf_level[:-num_forecast_steps])\n",
    "(lf_level_var_post, \n",
    " lf_level_forecast_dist) = fit_model_generate_forecast( lf_level_model,\n",
    "                        overall_lf_level[:-num_forecast_steps], num_forecast_steps)\n",
    "\n",
    "# print_fit_params(lf_level_var_post, lf_level_model)\n",
    "\n",
    "plot_forecast_results(lf_level_forecast_dist, full_df_years, overall_lf_level, \n",
    "                      'Overall Labor Force Level', num_samples=10)"
   ]
  },
  {
   "cell_type": "markdown",
   "metadata": {},
   "source": [
    "It appears that the labor force levels have also shown an uptick that may be correlated with the uptick the BHD percentage of the population, which the forecast is unable to predict. The dip at the end is probably because of Covid, and is again absent in the forecast. Yet, the forecast is only a few percent off from the actual statistics."
   ]
  },
  {
   "cell_type": "code",
   "execution_count": 19,
   "metadata": {
    "execution": {
     "iopub.execute_input": "2021-11-19T18:02:27.910997Z",
     "iopub.status.busy": "2021-11-19T18:02:27.909409Z",
     "iopub.status.idle": "2021-11-19T18:02:54.009128Z",
     "shell.execute_reply": "2021-11-19T18:02:54.008251Z",
     "shell.execute_reply.started": "2021-11-19T18:02:27.910923Z"
    }
   },
   "outputs": [],
   "source": [
    "### Overall Employment Level ###\n",
    "### We use a linear trend \n",
    "emp_level_model = build_linear_trend_seasonal_model(overall_emp_level[:-num_forecast_steps])\n",
    "(emp_level_var_post, \n",
    " emp_level_forecast_dist) = fit_model_generate_forecast(emp_level_model,\n",
    "                        overall_emp_level[:-num_forecast_steps], num_forecast_steps)\n",
    "\n",
    "# print_fit_params(emp_level_var_post, emp_level_model)\n",
    "\n",
    "plot_forecast_results(emp_level_forecast_dist, full_df_years, overall_emp_level, \n",
    "                      'Overall Employment Level', num_samples=10)"
   ]
  },
  {
   "cell_type": "markdown",
   "metadata": {},
   "source": [
    "Here again, the forecast is unable to account for initial uptick and the dip likely due to Covid. Yet, it does a reasonably good job, with an error of within a few percent."
   ]
  },
  {
   "cell_type": "code",
   "execution_count": 20,
   "metadata": {
    "execution": {
     "iopub.execute_input": "2021-11-19T18:02:54.011248Z",
     "iopub.status.busy": "2021-11-19T18:02:54.010734Z",
     "iopub.status.idle": "2021-11-19T18:03:20.586944Z",
     "shell.execute_reply": "2021-11-19T18:03:20.586231Z",
     "shell.execute_reply.started": "2021-11-19T18:02:54.011201Z"
    }
   },
   "outputs": [],
   "source": [
    "### Overall Labor Force Participation Rate ###\n",
    "lf_pr_model = build_linear_trend_seasonal_model(overall_lf_pr[:-num_forecast_steps])  \n",
    "(lf_pr_var_post, \n",
    " lf_pr_forecast_dist) = fit_model_generate_forecast( lf_pr_model,\n",
    "                            overall_lf_pr[:-num_forecast_steps], num_forecast_steps)\n",
    "\n",
    "# print_fit_params(lf_pr_var_post, lf_pr_model)\n",
    "\n",
    "plot_forecast_results(lf_pr_forecast_dist, full_df_years, overall_lf_pr, \n",
    "                      'Overall Labor Force Participation Rate', num_samples=10)"
   ]
  },
  {
   "cell_type": "markdown",
   "metadata": {},
   "source": [
    "The late resurgence and eventual dip due to Covid is not captured by the forecast, yet the mean absolute error is within a percent of the actual the Labor Force Participation rate.\n",
    "\n",
    "We will now use the above models to forecast the Overall Labor Force Variables: HSG Percent, BHD Percent, Labor Force Level, Employment Level, Labor Force Participation Rate, for the years 2021-2030."
   ]
  },
  {
   "cell_type": "code",
   "execution_count": 21,
   "metadata": {
    "execution": {
     "iopub.execute_input": "2021-11-19T18:03:20.588641Z",
     "iopub.status.busy": "2021-11-19T18:03:20.587996Z",
     "iopub.status.idle": "2021-11-19T18:03:20.603875Z",
     "shell.execute_reply": "2021-11-19T18:03:20.602749Z",
     "shell.execute_reply.started": "2021-11-19T18:03:20.588601Z"
    }
   },
   "outputs": [],
   "source": [
    "#### Functions for generating forecasts from predefined models \n",
    "#### and variational posteriors\n",
    "\n",
    "def generate_forecast(model, var_post, observed_time_series, num_forecast_steps):\n",
    "    q_samples_ = var_post.sample(100)\n",
    "    forecast_dist = tfp.sts.forecast(\n",
    "        model=model,\n",
    "        observed_time_series=observed_time_series,\n",
    "        parameter_samples=q_samples_,\n",
    "        num_steps_forecast=num_forecast_steps)\n",
    "    forecast_mean = forecast_dist.mean().numpy()[..., 0]\n",
    "    \n",
    "    return (forecast_mean, forecast_dist)\n",
    "\n",
    "def plot_forecast_future(forecast_dist, x, y, title_str, \n",
    "                          num_samples=10):\n",
    "    (\n",
    "        forecast_mean,\n",
    "        forecast_scale,\n",
    "        forecast_samples\n",
    "    ) = (\n",
    "        forecast_dist.mean().numpy()[..., 0],\n",
    "        forecast_dist.stddev().numpy()[..., 0],\n",
    "        forecast_dist.sample(num_samples).numpy()[..., 0]\n",
    "        )\n",
    "\n",
    "    colors = sns.color_palette()\n",
    "    c1, c2 = colors[0], colors[1]\n",
    "    fig = plt.figure(figsize=(12, 6))\n",
    "    ax = fig.add_subplot(1, 1, 1)\n",
    "\n",
    "    num_steps_train = len(y)\n",
    "    num_steps_forecast = forecast_mean.shape[-1]\n",
    "\n",
    "    ax.plot(x[:num_steps_train], y, lw=2, color=c1, label='observed')\n",
    "\n",
    "    forecast_steps = np.arange(\n",
    "      x[num_steps_train],\n",
    "      x[num_steps_train]+num_steps_forecast,\n",
    "      dtype=x.dtype)\n",
    "    \n",
    "    ax.plot(forecast_steps, (forecast_samples.T), lw=1, color=c2, alpha=0.4)\n",
    "    \n",
    "    ax.plot(forecast_steps, forecast_mean, lw=2, ls='--', color=c2,\n",
    "           label='forecast')\n",
    "    ax.plot(x[num_steps_train-1:num_steps_train+1], np.array([y[-1],forecast_mean[0]]), \n",
    "            lw=2, ls='--', color=c1)\n",
    "    \n",
    "    ax.fill_between(forecast_steps,\n",
    "                   forecast_mean-2*forecast_scale,\n",
    "                   forecast_mean+2*forecast_scale, color=c2, alpha=0.2)\n",
    "\n",
    "    ymin, ymax = min(np.min(forecast_samples), np.min(y)), max(np.max(forecast_samples), np.max(y))\n",
    "    yrange = ymax-ymin\n",
    "    ax.set_ylim([ymin - yrange*0.1, ymax + yrange*0.1])\n",
    "    ax.set_title(\"{}\".format(title_str))\n",
    "    ax.legend()\n",
    "    \n",
    "    fig.tight_layout()\n",
    "    plt.show()"
   ]
  },
  {
   "cell_type": "markdown",
   "metadata": {},
   "source": [
    "We begin with the overall data variables: HSG percent, BHD percent, LF Level, Emp Level, LF Participation Rate."
   ]
  },
  {
   "cell_type": "code",
   "execution_count": 22,
   "metadata": {
    "execution": {
     "iopub.execute_input": "2021-11-19T18:03:20.605938Z",
     "iopub.status.busy": "2021-11-19T18:03:20.605371Z",
     "iopub.status.idle": "2021-11-19T18:03:24.046789Z",
     "shell.execute_reply": "2021-11-19T18:03:24.045786Z",
     "shell.execute_reply.started": "2021-11-19T18:03:20.605887Z"
    }
   },
   "outputs": [],
   "source": [
    "forecast_years = np.array(range(2021,2031))\n",
    "num_forecast_steps = 10\n",
    "hsg_percent_mean, hsg_percent_dist = generate_forecast(hsg_percent_model, \n",
    "                                                       hsg_percent_var_post,\n",
    "                                                       overall_hsg_percent,\n",
    "                                                       num_forecast_steps)\n",
    "\n",
    "full_df_forecast_yrs = np.hstack((full_df_years, forecast_years))\n",
    "plot_forecast_future(hsg_percent_dist, full_df_forecast_yrs, overall_hsg_percent, \n",
    "                     'HSG percent')\n",
    "hsg_percent_forecast = np.hstack((overall_hsg_percent, hsg_percent_mean))"
   ]
  },
  {
   "cell_type": "code",
   "execution_count": 23,
   "metadata": {
    "execution": {
     "iopub.execute_input": "2021-11-19T18:03:24.048256Z",
     "iopub.status.busy": "2021-11-19T18:03:24.048041Z",
     "iopub.status.idle": "2021-11-19T18:03:27.430243Z",
     "shell.execute_reply": "2021-11-19T18:03:27.429223Z",
     "shell.execute_reply.started": "2021-11-19T18:03:24.048230Z"
    }
   },
   "outputs": [],
   "source": [
    "bhd_percent_mean, bhd_percent_dist = generate_forecast(bhd_percent_model, \n",
    "                                                       bhd_percent_var_post,\n",
    "                                                       overall_bhd_percent,\n",
    "                                                       num_forecast_steps)\n",
    "plot_forecast_future(bhd_percent_dist, full_df_forecast_yrs, overall_bhd_percent, \n",
    "                     'BHD percent')\n",
    "bhd_percent_forecast = np.hstack((overall_bhd_percent, bhd_percent_mean))"
   ]
  },
  {
   "cell_type": "markdown",
   "metadata": {},
   "source": [
    "We see that while the model predicts a continuing growth in the population percentage of high school graduates (HSG), it predicts a saturation in the population percentage of persons with a bachelors or higher degree (BHD)."
   ]
  },
  {
   "cell_type": "code",
   "execution_count": 24,
   "metadata": {
    "execution": {
     "iopub.execute_input": "2021-11-19T18:03:27.431881Z",
     "iopub.status.busy": "2021-11-19T18:03:27.431613Z",
     "iopub.status.idle": "2021-11-19T18:03:31.832156Z",
     "shell.execute_reply": "2021-11-19T18:03:31.830588Z",
     "shell.execute_reply.started": "2021-11-19T18:03:27.431850Z"
    }
   },
   "outputs": [],
   "source": [
    "lf_level_mean, lf_level_dist = generate_forecast(lf_level_model, \n",
    "                                               lf_level_var_post,\n",
    "                                               overall_lf_level,\n",
    "                                               num_forecast_steps)\n",
    "plot_forecast_future(lf_level_dist, full_df_forecast_yrs, overall_lf_level, \n",
    "                     'Overall LF Level')\n",
    "lf_level_forecast = np.hstack((overall_lf_level, lf_level_mean))"
   ]
  },
  {
   "cell_type": "code",
   "execution_count": 25,
   "metadata": {
    "execution": {
     "iopub.execute_input": "2021-11-19T18:03:31.834298Z",
     "iopub.status.busy": "2021-11-19T18:03:31.833960Z",
     "iopub.status.idle": "2021-11-19T18:03:36.114926Z",
     "shell.execute_reply": "2021-11-19T18:03:36.113270Z",
     "shell.execute_reply.started": "2021-11-19T18:03:31.834252Z"
    }
   },
   "outputs": [],
   "source": [
    "emp_level_mean, emp_level_dist = generate_forecast(emp_level_model, \n",
    "                                               emp_level_var_post,\n",
    "                                               overall_emp_level,\n",
    "                                               num_forecast_steps)\n",
    "plot_forecast_future(emp_level_dist, full_df_forecast_yrs, overall_emp_level, \n",
    "                     'Overall Employment Level')\n",
    "emp_level_forecast = np.hstack((overall_emp_level, emp_level_mean))"
   ]
  },
  {
   "cell_type": "code",
   "execution_count": 26,
   "metadata": {
    "execution": {
     "iopub.execute_input": "2021-11-19T18:03:36.117031Z",
     "iopub.status.busy": "2021-11-19T18:03:36.116692Z",
     "iopub.status.idle": "2021-11-19T18:03:40.909900Z",
     "shell.execute_reply": "2021-11-19T18:03:40.908915Z",
     "shell.execute_reply.started": "2021-11-19T18:03:36.116990Z"
    }
   },
   "outputs": [],
   "source": [
    "lf_pr_mean, lf_pr_dist = generate_forecast(lf_pr_model, \n",
    "                                               lf_pr_var_post,\n",
    "                                               overall_lf_pr,\n",
    "                                               num_forecast_steps)\n",
    "plot_forecast_future(lf_pr_dist, full_df_forecast_yrs, overall_lf_pr, \n",
    "                     'Overall LF Participation Rate')\n",
    "lf_pr_forecast = np.hstack((overall_lf_pr, lf_pr_mean))"
   ]
  },
  {
   "cell_type": "markdown",
   "metadata": {},
   "source": [
    "While the HSG percent and BHD percent forecasts show an upward trend, all the Labor Force variables show a downward trend especially because of the impact of Covid in the year 2020."
   ]
  },
  {
   "cell_type": "markdown",
   "metadata": {},
   "source": [
    "We are interested in forecasting the educational category-wise labor force variables and the educational category-wise median weekly earnings. For this, we will forecast the category-wise data for the labor force variables in two ways: (i) using only the past category-wise data for that variable, and (ii) using the past category-wise data and the overall data along with the population fractions of HSG and BHD multipied with the overall data for that variable as a regression variable. We will use a semilocal linear trend and a seasonal trend with a seasonal duration determined by calculating a Fourier Transform. \n",
    "\n",
    "Finally we will use these forecasts of the category-wise labor force variables and the past data for the category-wise median weekly earnings to forecast the category-wise median weekly earnings."
   ]
  },
  {
   "cell_type": "code",
   "execution_count": 27,
   "metadata": {
    "execution": {
     "iopub.execute_input": "2021-11-19T18:03:40.912024Z",
     "iopub.status.busy": "2021-11-19T18:03:40.911661Z",
     "iopub.status.idle": "2021-11-19T18:03:41.763249Z",
     "shell.execute_reply": "2021-11-19T18:03:41.762229Z",
     "shell.execute_reply.started": "2021-11-19T18:03:40.911986Z"
    }
   },
   "outputs": [],
   "source": [
    "### To estimate the seasonal/oscillating component of the variable ###\n",
    "num_forecast_steps = 6\n",
    "\n",
    "lhs_lf_fft = fft(lhs_lf_level[:-num_forecast_steps]-\n",
    "                 np.mean(lhs_lf_level[:-num_forecast_steps]))\n",
    "plt.plot(np.abs(lhs_lf_fft))\n",
    "plt.grid()\n",
    "plt.title('LHS LF Level FFT')\n",
    "plt.show()\n",
    "\n",
    "hsg_lf_fft = fft(hsg_lf_level[:-num_forecast_steps]-\n",
    "                np.mean(hsg_lf_level[:-num_forecast_steps]))\n",
    "plt.plot(np.abs(hsg_lf_fft))\n",
    "plt.grid()\n",
    "plt.title('HSG LF Level FFT')\n",
    "plt.show()\n",
    "\n",
    "cad_lf_fft = fft(cad_lf_level[:-num_forecast_steps]-\n",
    "                np.mean(cad_lf_level[:-num_forecast_steps]))\n",
    "plt.plot(np.abs(cad_lf_fft))\n",
    "plt.grid()\n",
    "plt.title('CAD LF Level FFT')\n",
    "plt.show()\n",
    "\n",
    "bhd_lf_fft = fft(bhd_lf_level[:-num_forecast_steps]-\n",
    "                np.mean(bhd_lf_level[:-num_forecast_steps]))\n",
    "plt.plot(np.abs(bhd_lf_fft))\n",
    "plt.grid()\n",
    "plt.title('BHD LF Level FFT')\n",
    "plt.show()"
   ]
  },
  {
   "cell_type": "markdown",
   "metadata": {},
   "source": [
    "The above Fourier Transforms show peaks at 5 years for the LHS and HSG, at 4 years for the CAD LF Level, and only the usual peak at 1 year for the BHD LF Level. We will set the number of steps per season accordingly. "
   ]
  },
  {
   "cell_type": "code",
   "execution_count": 45,
   "metadata": {
    "execution": {
     "iopub.execute_input": "2021-11-19T18:30:13.022149Z",
     "iopub.status.busy": "2021-11-19T18:30:13.021662Z",
     "iopub.status.idle": "2021-11-19T18:30:13.713727Z",
     "shell.execute_reply": "2021-11-19T18:30:13.712745Z",
     "shell.execute_reply.started": "2021-11-19T18:30:13.022111Z"
    }
   },
   "outputs": [],
   "source": [
    "### To estimate the seasonal/oscillating component of the variable ###\n",
    "num_forecast_steps = 6\n",
    "\n",
    "lhs_emp_fft = fft(lhs_emp_level[:-num_forecast_steps]-\n",
    "                 np.mean(lhs_emp_level[:-num_forecast_steps]))\n",
    "plt.plot(np.abs(lhs_emp_fft))\n",
    "plt.grid()\n",
    "plt.title('LHS Emp Level FFT')\n",
    "plt.show()\n",
    "\n",
    "hsg_emp_fft = fft(hsg_emp_level[:-num_forecast_steps]-\n",
    "                np.mean(hsg_emp_level[:-num_forecast_steps]))\n",
    "plt.plot(np.abs(hsg_emp_fft))\n",
    "plt.grid()\n",
    "plt.title('HSG Emp Level FFT')\n",
    "plt.show()\n",
    "\n",
    "cad_emp_fft = fft(cad_emp_level[:-num_forecast_steps]-\n",
    "                np.mean(cad_emp_level[:-num_forecast_steps]))\n",
    "plt.plot(np.abs(cad_emp_fft))\n",
    "plt.grid()\n",
    "plt.title('CAD Emp Level FFT')\n",
    "plt.show()\n",
    "\n",
    "bhd_emp_fft = fft(bhd_emp_level[:-num_forecast_steps]-\n",
    "                np.mean(bhd_emp_level[:-num_forecast_steps]))\n",
    "plt.plot(np.abs(bhd_emp_fft))\n",
    "plt.grid()\n",
    "plt.title('BHD Emp Level FFT')\n",
    "plt.show()"
   ]
  },
  {
   "cell_type": "markdown",
   "metadata": {},
   "source": [
    "Once again, the above Fourier Transforms show peaks at 5 years for the LHS and HSG, at 4 years for the CAD Emp Levels, and only the usual peak at 1 year for the BHD Emp Level. We will set the number of steps per season accordingly. "
   ]
  },
  {
   "cell_type": "code",
   "execution_count": 29,
   "metadata": {
    "execution": {
     "iopub.execute_input": "2021-11-19T18:03:42.724619Z",
     "iopub.status.busy": "2021-11-19T18:03:42.724380Z",
     "iopub.status.idle": "2021-11-19T18:03:43.626681Z",
     "shell.execute_reply": "2021-11-19T18:03:43.625848Z",
     "shell.execute_reply.started": "2021-11-19T18:03:42.724589Z"
    }
   },
   "outputs": [],
   "source": [
    "### To estimate the seasonal/oscillating component of the variable ###\n",
    "lhs_lf_pr_fft = fft(lhs_lf_pr[:-num_forecast_steps]-\n",
    "                 np.mean(lhs_lf_pr[:-num_forecast_steps]))\n",
    "plt.plot(np.abs(lhs_lf_pr_fft))\n",
    "plt.grid()\n",
    "plt.title('LHS LF PR FFT')\n",
    "plt.show()\n",
    "\n",
    "hsg_lf_pr_fft = fft(hsg_lf_pr[:-num_forecast_steps]-\n",
    "                np.mean(hsg_lf_pr[:-num_forecast_steps]))\n",
    "plt.plot(np.abs(hsg_lf_pr_fft))\n",
    "plt.grid()\n",
    "plt.title('HSG LF PR FFT')\n",
    "plt.show()\n",
    "\n",
    "cad_lf_pr_fft = fft(cad_lf_pr[:-num_forecast_steps]-\n",
    "                np.mean(cad_lf_pr[:-num_forecast_steps]))\n",
    "plt.plot(np.abs(cad_lf_pr_fft))\n",
    "plt.grid()\n",
    "plt.title('CAD LF PR FFT')\n",
    "plt.show()\n",
    "\n",
    "bhd_lf_pr_fft = fft(bhd_lf_pr[:-num_forecast_steps]-\n",
    "                np.mean(bhd_lf_pr[:-num_forecast_steps]))\n",
    "plt.plot(np.abs(bhd_lf_pr_fft))\n",
    "plt.grid()\n",
    "plt.title('BHD LF PR FFT')\n",
    "plt.show()"
   ]
  },
  {
   "cell_type": "markdown",
   "metadata": {},
   "source": [
    "The above Fourier Transforms also shows the highest peak at 1 year. This suggests setting the number of steps per season to 1."
   ]
  },
  {
   "cell_type": "code",
   "execution_count": 30,
   "metadata": {
    "execution": {
     "iopub.execute_input": "2021-11-19T18:03:43.628143Z",
     "iopub.status.busy": "2021-11-19T18:03:43.627906Z",
     "iopub.status.idle": "2021-11-19T18:05:26.429215Z",
     "shell.execute_reply": "2021-11-19T18:05:26.428366Z",
     "shell.execute_reply.started": "2021-11-19T18:03:43.628115Z"
    }
   },
   "outputs": [],
   "source": [
    " ### since we have a smaller dataset for the category-wise variables ###\n",
    "### LHS Labor Force Level ###\n",
    "lhs_lf_model = build_linear_trend_seasonal_model(lhs_lf_level[:-num_forecast_steps],\n",
    "                                                steps_per_season=2)\n",
    "\n",
    "(lhs_lf_var_post, \n",
    " lhs_lf_forecast_dist) = fit_model_generate_forecast(lhs_lf_model, \n",
    "                        lhs_lf_level[:-num_forecast_steps], num_forecast_steps, \n",
    "                        num_variational_steps=200)\n",
    "\n",
    "plot_forecast_results(lhs_lf_forecast_dist, trunc_df_years, lhs_lf_level, \n",
    "                      'LHS LF Level', num_samples=10)\n",
    "\n",
    "### HSG Labor Force Level ###\n",
    "hsg_lf_model = build_linear_trend_seasonal_model(hsg_lf_level[:-num_forecast_steps],\n",
    "                                                steps_per_season=2)\n",
    "\n",
    "(hsg_lf_var_post, \n",
    " hsg_lf_forecast_dist) = fit_model_generate_forecast(hsg_lf_model, \n",
    "                        hsg_lf_level[:-num_forecast_steps], num_forecast_steps, \n",
    "                        num_variational_steps=200)\n",
    "\n",
    "plot_forecast_results(hsg_lf_forecast_dist, trunc_df_years, hsg_lf_level, \n",
    "                      'HSG LF Level', num_samples=10)\n",
    "\n",
    "### CAD Labor Force Level ###\n",
    "cad_lf_model = build_linear_trend_seasonal_model(cad_lf_level[:-num_forecast_steps],\n",
    "                                                steps_per_season=2)\n",
    "(cad_lf_var_post, \n",
    " cad_lf_forecast_dist) = fit_model_generate_forecast(cad_lf_model, \n",
    "                        cad_lf_level[:-num_forecast_steps], num_forecast_steps, \n",
    "                        num_variational_steps=200)\n",
    "\n",
    "plot_forecast_results(cad_lf_forecast_dist, trunc_df_years, cad_lf_level, \n",
    "                      'CAD LF Level', num_samples=10)\n",
    "\n",
    "### BHD Labor Force Level ###\n",
    "bhd_lf_model = build_linear_trend_seasonal_model(bhd_lf_level[:-num_forecast_steps])\n",
    "(bhd_lf_var_post, \n",
    " bhd_lf_forecast_dist) = fit_model_generate_forecast(bhd_lf_model, \n",
    "                        bhd_lf_level[:-num_forecast_steps], num_forecast_steps, \n",
    "                        num_variational_steps=200)\n",
    "\n",
    "plot_forecast_results(bhd_lf_forecast_dist, trunc_df_years, bhd_lf_level, \n",
    "                      'BHD LF Level', num_samples=10)"
   ]
  },
  {
   "cell_type": "markdown",
   "metadata": {},
   "source": [
    "We will now try the other more involved method, using past category-wise data, along with overall data. For this we will construct an estimate of the category-wise data using the overall data for the concerned variable and multiplying it with the population fractions for HSG and BHD, which are known."
   ]
  },
  {
   "cell_type": "code",
   "execution_count": 31,
   "metadata": {
    "execution": {
     "iopub.execute_input": "2021-11-19T18:05:26.431690Z",
     "iopub.status.busy": "2021-11-19T18:05:26.431086Z",
     "iopub.status.idle": "2021-11-19T18:05:26.444467Z",
     "shell.execute_reply": "2021-11-19T18:05:26.443453Z",
     "shell.execute_reply.started": "2021-11-19T18:05:26.431644Z"
    }
   },
   "outputs": [],
   "source": [
    "lhs_lf_level_est = (1-hsg_percent_forecast/100.)*lf_level_forecast\n",
    "lhs_lf_level_est = np.round(\n",
    "    lhs_lf_level_est[overall_lf_level.size-lhs_lf_level.size:])\n",
    "\n",
    "hsg_lf_level_est = ((hsg_percent_forecast - bhd_percent_forecast)/100.\n",
    "                   )*lf_level_forecast\n",
    "hsg_lf_level_est = np.round(\n",
    "    hsg_lf_level_est[overall_lf_level.size-lhs_lf_level.size:])\n",
    "\n",
    "bhd_lf_level_est = (bhd_percent_forecast/100.)*lf_level_forecast\n",
    "bhd_lf_level_est = np.round(\n",
    "    bhd_lf_level_est[overall_lf_level.size-lhs_lf_level.size:])\n",
    "\n",
    "### for the cad level est, we will use a linear combination of \n",
    "### hsg_lf_level_est and bhd_lf_level_est. we will use the same for hsg.\n",
    "cad_lf_level_est = np.transpose(np.vstack((lhs_lf_level_est, \n",
    "                                            hsg_lf_level_est, \n",
    "                                            bhd_lf_level_est)))\n",
    "\n",
    "lhs_lf_level_est = tf.reshape(lhs_lf_level_est, (-1,1))\n",
    "hsg_lf_level_est = tf.reshape(cad_lf_level_est, (-1, 3))\n",
    "cad_lf_level_est = tf.reshape(cad_lf_level_est, (-1, 3))\n",
    "bhd_lf_level_est = tf.reshape(bhd_lf_level_est, (-1,1))\n",
    "\n",
    "def build_linear_seasonal_regression_model(observed_time_series, \n",
    "                                           auxilliary_time_series,\n",
    "                                           steps_per_season=1):\n",
    "\n",
    "    local_linear_trend = sts.SemiLocalLinearTrend(\n",
    "                                observed_time_series=observed_time_series)    \n",
    "\n",
    "    seasonal_trend = sts.Seasonal(\n",
    "            num_seasons=2, num_steps_per_season=steps_per_season, \n",
    "            observed_time_series=observed_time_series)    \n",
    "    \n",
    "    regression_effect = sts.LinearRegression(\n",
    "      design_matrix=auxilliary_time_series, name='regression_effect')\n",
    "\n",
    "    model = sts.Sum([local_linear_trend, seasonal_trend, regression_effect],\n",
    "                   observed_time_series=observed_time_series)\n",
    "    return model"
   ]
  },
  {
   "cell_type": "markdown",
   "metadata": {},
   "source": [
    "While the LHS and BHD population fractions are accurately determined by 1 - HSG and BHD population fractions, the HSG and CAD (as highest educational attainment) population fractions are not so clear. So we use both multiplied by the Overall Labor Force Level along with the BHD - HSG population fraction multiplied by the Overall Labor Force Level as regression variables for the HSG and CAD data."
   ]
  },
  {
   "cell_type": "code",
   "execution_count": 32,
   "metadata": {
    "execution": {
     "iopub.execute_input": "2021-11-19T18:05:26.446745Z",
     "iopub.status.busy": "2021-11-19T18:05:26.446177Z",
     "iopub.status.idle": "2021-11-19T18:07:38.049241Z",
     "shell.execute_reply": "2021-11-19T18:07:38.048216Z",
     "shell.execute_reply.started": "2021-11-19T18:05:26.446709Z"
    }
   },
   "outputs": [],
   "source": [
    " ### since we have a smaller dataset for the category-wise variables ###\n",
    "### LHS Labor Force Level ###\n",
    "lhs_lf_model_reg = build_linear_seasonal_regression_model(\n",
    "                    lhs_lf_level[:-num_forecast_steps], lhs_lf_level_est, \n",
    "                    steps_per_season=2)\n",
    "(lhs_lf_var_post_reg, \n",
    " lhs_lf_forecast_dist_reg) = fit_model_generate_forecast(lhs_lf_model_reg, \n",
    "                        lhs_lf_level[:-num_forecast_steps], num_forecast_steps, \n",
    "                        num_variational_steps=200)\n",
    "\n",
    "plot_forecast_results(lhs_lf_forecast_dist_reg, trunc_df_years, lhs_lf_level, \n",
    "                      'LHS LF Level', num_samples=10)\n",
    "\n",
    "### HSG Labor Force Level ###\n",
    "hsg_lf_model_reg = build_linear_seasonal_regression_model(\n",
    "                    hsg_lf_level[:-num_forecast_steps], hsg_lf_level_est, \n",
    "                    steps_per_season=2)\n",
    "(hsg_lf_var_post_reg, \n",
    " hsg_lf_forecast_dist_reg) = fit_model_generate_forecast(hsg_lf_model_reg, \n",
    "                        hsg_lf_level[:-num_forecast_steps], num_forecast_steps, \n",
    "                        num_variational_steps=200)\n",
    "\n",
    "plot_forecast_results(hsg_lf_forecast_dist_reg, trunc_df_years, hsg_lf_level, \n",
    "                      'HSG LF Level', num_samples=10)\n",
    "\n",
    "### CAD Labor Force Level ###\n",
    "cad_lf_model_reg = build_linear_seasonal_regression_model(\n",
    "                    cad_lf_level[:-num_forecast_steps], cad_lf_level_est, \n",
    "                    steps_per_season=2)\n",
    "(cad_lf_var_post_reg, \n",
    " cad_lf_forecast_dist_reg) = fit_model_generate_forecast(cad_lf_model_reg, \n",
    "                        cad_lf_level[:-num_forecast_steps], num_forecast_steps, \n",
    "                        num_variational_steps=200)\n",
    "\n",
    "plot_forecast_results(cad_lf_forecast_dist_reg, trunc_df_years, cad_lf_level, \n",
    "                      'CAD LF Level', num_samples=10)\n",
    "\n",
    "### BHD Labor Force Level ###\n",
    "bhd_lf_model_reg = build_linear_seasonal_regression_model(\n",
    "                    bhd_lf_level[:-num_forecast_steps], bhd_lf_level_est, \n",
    "                    steps_per_season=1)\n",
    "(bhd_lf_var_post_reg, \n",
    " bhd_lf_forecast_dist_reg) = fit_model_generate_forecast(bhd_lf_model_reg, \n",
    "                        bhd_lf_level[:-num_forecast_steps], num_forecast_steps, \n",
    "                        num_variational_steps=200)\n",
    "\n",
    "plot_forecast_results(bhd_lf_forecast_dist_reg, trunc_df_years, bhd_lf_level, \n",
    "                      'BHD LF Level', num_samples=10)"
   ]
  },
  {
   "cell_type": "markdown",
   "metadata": {},
   "source": [
    "We see that while the forecasts for the BHD Labor Force Level is significantly improved, and the forecasts for the LHS and CAD Labor Force Levels is slightly improved by the regressor variables, the forecasts for the rest have either deteriorated or stayed the same. This suggests using the regressor variables for the LHS, CAD and BHD LF Level forecast, and using only the past data for the HSG LF Level forecasts.\n",
    "\n",
    "We will now compare these two methods for the Employment Levels."
   ]
  },
  {
   "cell_type": "code",
   "execution_count": 33,
   "metadata": {
    "execution": {
     "iopub.execute_input": "2021-11-19T18:07:38.051177Z",
     "iopub.status.busy": "2021-11-19T18:07:38.050847Z",
     "iopub.status.idle": "2021-11-19T18:09:22.341742Z",
     "shell.execute_reply": "2021-11-19T18:09:22.341068Z",
     "shell.execute_reply.started": "2021-11-19T18:07:38.051133Z"
    }
   },
   "outputs": [],
   "source": [
    "### since we have a smaller dataset for the category-wise variables ###\n",
    "### LHS Employment Level ###\n",
    "lhs_emp_model = build_linear_trend_seasonal_model(lhs_emp_level[:-num_forecast_steps],\n",
    "                                                steps_per_season=2)\n",
    "(lhs_emp_var_post, \n",
    " lhs_emp_forecast_dist) = fit_model_generate_forecast(lhs_emp_model, \n",
    "                        lhs_emp_level[:-num_forecast_steps], num_forecast_steps, \n",
    "                        num_variational_steps=200)\n",
    "\n",
    "plot_forecast_results(lhs_emp_forecast_dist, trunc_df_years, lhs_emp_level, \n",
    "                      'LHS Employment Level', num_samples=10)\n",
    "\n",
    "### HSG Employment Level ###\n",
    "hsg_emp_model = build_linear_trend_seasonal_model(hsg_emp_level[:-num_forecast_steps],\n",
    "                                                steps_per_season=2)\n",
    "(hsg_emp_var_post, \n",
    " hsg_emp_forecast_dist) = fit_model_generate_forecast(hsg_emp_model, \n",
    "                        hsg_emp_level[:-num_forecast_steps], num_forecast_steps, \n",
    "                        num_variational_steps=200)\n",
    "\n",
    "plot_forecast_results(hsg_emp_forecast_dist, trunc_df_years, hsg_emp_level, \n",
    "                      'HSG Employment Level', num_samples=10)\n",
    "\n",
    "### CAD Employment Level ###\n",
    "cad_emp_model = build_linear_trend_seasonal_model(cad_emp_level[:-num_forecast_steps],\n",
    "                                                steps_per_season=2)\n",
    "(cad_emp_var_post, \n",
    " cad_emp_forecast_dist) = fit_model_generate_forecast(cad_emp_model, \n",
    "                        cad_emp_level[:-num_forecast_steps], num_forecast_steps, \n",
    "                        num_variational_steps=200)\n",
    "\n",
    "plot_forecast_results(cad_emp_forecast_dist, trunc_df_years, cad_emp_level, \n",
    "                      'CAD Employment Level', num_samples=10)\n",
    "\n",
    "### BHD Employment Level ###\n",
    "bhd_emp_model = build_linear_trend_seasonal_model(bhd_emp_level[:-num_forecast_steps],\n",
    "                                                steps_per_season=1)\n",
    "(bhd_emp_var_post, \n",
    " bhd_emp_forecast_dist) = fit_model_generate_forecast(bhd_emp_model, \n",
    "                        bhd_emp_level[:-num_forecast_steps], num_forecast_steps, \n",
    "                        num_variational_steps=200)\n",
    "\n",
    "plot_forecast_results(bhd_emp_forecast_dist, trunc_df_years, bhd_emp_level, \n",
    "                      'BHD Employment Level', num_samples=10)"
   ]
  },
  {
   "cell_type": "markdown",
   "metadata": {},
   "source": [
    "We now try using the overall data as regressors in addition to the past data trends for the employment level. "
   ]
  },
  {
   "cell_type": "code",
   "execution_count": 34,
   "metadata": {
    "execution": {
     "iopub.execute_input": "2021-11-19T18:09:22.343408Z",
     "iopub.status.busy": "2021-11-19T18:09:22.343045Z",
     "iopub.status.idle": "2021-11-19T18:09:22.351484Z",
     "shell.execute_reply": "2021-11-19T18:09:22.350879Z",
     "shell.execute_reply.started": "2021-11-19T18:09:22.343376Z"
    }
   },
   "outputs": [],
   "source": [
    "lhs_emp_level_est = (1-hsg_percent_forecast/100.)*emp_level_forecast\n",
    "lhs_emp_level_est = np.round(\n",
    "    lhs_emp_level_est[overall_emp_level.size-lhs_emp_level.size:])\n",
    "\n",
    "hsg_emp_level_est = ((hsg_percent_forecast - bhd_percent_forecast)/100.\n",
    "                   )*emp_level_forecast\n",
    "hsg_emp_level_est = np.round(\n",
    "    hsg_emp_level_est[overall_emp_level.size-lhs_emp_level.size:])\n",
    "\n",
    "bhd_emp_level_est = (bhd_percent_forecast/100.)*emp_level_forecast\n",
    "bhd_emp_level_est = np.round(\n",
    "    bhd_emp_level_est[overall_emp_level.size-lhs_emp_level.size:])\n",
    "\n",
    "### for the cad level est, we will use a linear combination of \n",
    "### hsg_lf_level_est and bhd_lf_level_est. we will use the same for hsg.\n",
    "cad_emp_level_est = np.transpose(np.vstack((lhs_emp_level_est, \n",
    "                                            hsg_emp_level_est, \n",
    "                                            bhd_emp_level_est)))\n",
    "\n",
    "lhs_emp_level_est = tf.reshape(lhs_emp_level_est, (-1,1))\n",
    "hsg_emp_level_est = tf.reshape(cad_emp_level_est, (-1, 3))\n",
    "cad_emp_level_est = tf.reshape(cad_emp_level_est, (-1, 3))\n",
    "bhd_emp_level_est = tf.reshape(bhd_emp_level_est, (-1,1))"
   ]
  },
  {
   "cell_type": "code",
   "execution_count": 35,
   "metadata": {
    "execution": {
     "iopub.execute_input": "2021-11-19T18:09:22.352943Z",
     "iopub.status.busy": "2021-11-19T18:09:22.352578Z",
     "iopub.status.idle": "2021-11-19T18:11:32.926768Z",
     "shell.execute_reply": "2021-11-19T18:11:32.926031Z",
     "shell.execute_reply.started": "2021-11-19T18:09:22.352912Z"
    }
   },
   "outputs": [],
   "source": [
    " ### since we have a smaller dataset for the category-wise variables ###\n",
    "### LHS Employment Level ###\n",
    "lhs_emp_model_reg = build_linear_seasonal_regression_model(\n",
    "                    lhs_emp_level[:-num_forecast_steps], lhs_emp_level_est, \n",
    "                    steps_per_season=2)\n",
    "(lhs_emp_var_post_reg, \n",
    " lhs_emp_forecast_dist_reg) = fit_model_generate_forecast(lhs_emp_model_reg, \n",
    "                        lhs_emp_level[:-num_forecast_steps], num_forecast_steps, \n",
    "                        num_variational_steps=200)\n",
    "\n",
    "plot_forecast_results(lhs_emp_forecast_dist_reg, trunc_df_years, lhs_emp_level, \n",
    "                      'LHS Employment Level', num_samples=10)\n",
    "\n",
    "### HSG Employment Level ###\n",
    "hsg_emp_model_reg = build_linear_seasonal_regression_model(\n",
    "                    hsg_emp_level[:-num_forecast_steps], hsg_emp_level_est, \n",
    "                    steps_per_season=2)\n",
    "(hsg_emp_var_post_reg, \n",
    " hsg_emp_forecast_dist_reg) = fit_model_generate_forecast(hsg_emp_model_reg, \n",
    "                        hsg_emp_level[:-num_forecast_steps], num_forecast_steps, \n",
    "                        num_variational_steps=200)\n",
    "\n",
    "plot_forecast_results(hsg_emp_forecast_dist_reg, trunc_df_years, hsg_emp_level, \n",
    "                      'HSG Employment Level', num_samples=10)\n",
    "\n",
    "### CAD Employment Level ###\n",
    "cad_emp_model_reg = build_linear_seasonal_regression_model(\n",
    "                    cad_emp_level[:-num_forecast_steps], cad_emp_level_est, \n",
    "                    steps_per_season=2)\n",
    "(cad_emp_var_post_reg, \n",
    " cad_emp_forecast_dist_reg) = fit_model_generate_forecast(cad_emp_model_reg, \n",
    "                        cad_emp_level[:-num_forecast_steps], num_forecast_steps, \n",
    "                        num_variational_steps=200)\n",
    "\n",
    "plot_forecast_results(cad_emp_forecast_dist_reg, trunc_df_years, cad_emp_level, \n",
    "                      'CAD Employment Level', num_samples=10)\n",
    "\n",
    "### BHD Employment Level ###\n",
    "bhd_emp_model_reg = build_linear_seasonal_regression_model(\n",
    "                    bhd_emp_level[:-num_forecast_steps], bhd_emp_level_est, \n",
    "                    steps_per_season=1)\n",
    "(bhd_emp_var_post_reg, \n",
    " bhd_emp_forecast_dist_reg) = fit_model_generate_forecast(bhd_emp_model_reg, \n",
    "                        bhd_emp_level[:-num_forecast_steps], num_forecast_steps, \n",
    "                        num_variational_steps=200)\n",
    "\n",
    "plot_forecast_results(bhd_emp_forecast_dist_reg, trunc_df_years, bhd_emp_level, \n",
    "                      'BHD Employment Level', num_samples=10)"
   ]
  },
  {
   "cell_type": "markdown",
   "metadata": {},
   "source": [
    "We again see a significant improvement in the forecasts for the BHD employment levels, a slight improvement in the variance and for the CAD employment level and in the mean for the LHS employment level, and a deterioration in the forecast for the HSG employment levels. \n",
    "\n",
    "This suggests using the regressor models for the LHS, CAD and BHD employment levels, and only the past data for the HSG employment level. \n",
    "\n",
    "We will now perform the same analysis for the category-wise Labor Force Participation Rate."
   ]
  },
  {
   "cell_type": "code",
   "execution_count": 36,
   "metadata": {
    "execution": {
     "iopub.execute_input": "2021-11-19T18:11:32.928345Z",
     "iopub.status.busy": "2021-11-19T18:11:32.928002Z",
     "iopub.status.idle": "2021-11-19T18:13:17.364646Z",
     "shell.execute_reply": "2021-11-19T18:13:17.363688Z",
     "shell.execute_reply.started": "2021-11-19T18:11:32.928316Z"
    }
   },
   "outputs": [],
   "source": [
    "### since we have a smaller dataset for the category-wise variables ###\n",
    "### LHS Labor Force Participation Rate ###\n",
    "lhs_lf_pr_model = build_linear_trend_seasonal_model(lhs_lf_pr[:-num_forecast_steps],\n",
    "                                                steps_per_season=1)\n",
    "(lhs_lf_pr_var_post, \n",
    " lhs_lf_pr_forecast_dist) = fit_model_generate_forecast(lhs_lf_pr_model, \n",
    "                        lhs_lf_pr[:-num_forecast_steps], num_forecast_steps, \n",
    "                        num_variational_steps=200)\n",
    "\n",
    "plot_forecast_results(lhs_lf_pr_forecast_dist, trunc_df_years, lhs_lf_pr, \n",
    "                      'LHS LF Participation Rate', num_samples=10)\n",
    "\n",
    "### HSG Labor Force Participation Rate ###\n",
    "hsg_lf_pr_model = build_linear_trend_seasonal_model(hsg_lf_pr[:-num_forecast_steps],\n",
    "                                                steps_per_season=1)\n",
    "(hsg_lf_pr_var_post, \n",
    " hsg_lf_pr_forecast_dist) = fit_model_generate_forecast(hsg_lf_pr_model, \n",
    "                        hsg_lf_pr[:-num_forecast_steps], num_forecast_steps, \n",
    "                        num_variational_steps=200)\n",
    "\n",
    "plot_forecast_results(hsg_lf_pr_forecast_dist, trunc_df_years, hsg_lf_pr, \n",
    "                      'HSG LF Participation Rate', num_samples=10)\n",
    "\n",
    "### CAD Labor Force Participation Rate ###\n",
    "cad_lf_pr_model = build_linear_trend_seasonal_model(cad_lf_pr[:-num_forecast_steps],\n",
    "                                                steps_per_season=1)\n",
    "(cad_lf_pr_var_post, \n",
    " cad_lf_pr_forecast_dist) = fit_model_generate_forecast(cad_lf_pr_model, \n",
    "                        cad_lf_pr[:-num_forecast_steps], num_forecast_steps, \n",
    "                        num_variational_steps=200)\n",
    "\n",
    "plot_forecast_results(cad_lf_pr_forecast_dist, trunc_df_years, cad_lf_pr, \n",
    "                      'CAD LF Participation Rate', num_samples=10)\n",
    "\n",
    "### BHD Labor Force Participation Rate ###\n",
    "bhd_lf_pr_model = build_linear_trend_seasonal_model(bhd_lf_pr[:-num_forecast_steps],\n",
    "                                                steps_per_season=1)\n",
    "(bhd_lf_pr_var_post, \n",
    " bhd_lf_pr_forecast_dist) = fit_model_generate_forecast(bhd_lf_pr_model, \n",
    "                        bhd_lf_pr[:-num_forecast_steps], num_forecast_steps, \n",
    "                        num_variational_steps=200)\n",
    "\n",
    "plot_forecast_results(bhd_lf_pr_forecast_dist, trunc_df_years, bhd_lf_pr, \n",
    "                      'BHD LF Participation Rate', num_samples=10)"
   ]
  },
  {
   "cell_type": "markdown",
   "metadata": {},
   "source": [
    "The past data appears to provide a good forecast for the future participation rates."
   ]
  },
  {
   "cell_type": "code",
   "execution_count": 37,
   "metadata": {
    "execution": {
     "iopub.execute_input": "2021-11-19T18:13:17.367080Z",
     "iopub.status.busy": "2021-11-19T18:13:17.366162Z",
     "iopub.status.idle": "2021-11-19T18:13:17.378737Z",
     "shell.execute_reply": "2021-11-19T18:13:17.377721Z",
     "shell.execute_reply.started": "2021-11-19T18:13:17.367027Z"
    }
   },
   "outputs": [],
   "source": [
    "lhs_lf_pr_est = (1-hsg_percent_forecast/100.)*lf_pr_forecast\n",
    "lhs_lf_pr_est = np.round(\n",
    "    lhs_lf_pr_est[overall_lf_pr.size-lhs_lf_pr.size:])\n",
    "\n",
    "hsg_lf_pr_est = ((hsg_percent_forecast - bhd_percent_forecast)/100.\n",
    "                   )*lf_pr_forecast\n",
    "hsg_lf_pr_est = np.round(\n",
    "    hsg_lf_pr_est[overall_lf_pr.size-lhs_lf_pr.size:])\n",
    "\n",
    "bhd_lf_pr_est = (bhd_percent_forecast/100.)*lf_pr_forecast\n",
    "bhd_lf_pr_est = np.round(\n",
    "    bhd_lf_pr_est[overall_lf_pr.size-lhs_lf_pr.size:])\n",
    "\n",
    "### for the cad level est, we will use a linear combination of \n",
    "### hsg_lf_level_est and bhd_lf_level_est. we will use the same for hsg.\n",
    "cad_lf_pr_est = np.transpose(np.vstack((lhs_lf_pr_est, \n",
    "                                            hsg_lf_pr_est, \n",
    "                                            bhd_lf_pr_est)))\n",
    "\n",
    "lhs_lf_pr_est = tf.reshape(lhs_lf_pr_est, (-1,1))\n",
    "hsg_lf_pr_est = tf.reshape(cad_lf_pr_est, (-1, 3))\n",
    "cad_lf_pr_est = tf.reshape(cad_lf_pr_est, (-1, 3))\n",
    "bhd_lf_pr_est = tf.reshape(bhd_lf_pr_est, (-1,1))"
   ]
  },
  {
   "cell_type": "code",
   "execution_count": 38,
   "metadata": {
    "execution": {
     "iopub.execute_input": "2021-11-19T18:13:17.380955Z",
     "iopub.status.busy": "2021-11-19T18:13:17.380130Z",
     "iopub.status.idle": "2021-11-19T18:15:28.732446Z",
     "shell.execute_reply": "2021-11-19T18:15:28.731839Z",
     "shell.execute_reply.started": "2021-11-19T18:13:17.380717Z"
    }
   },
   "outputs": [],
   "source": [
    " ### since we have a smaller dataset for the category-wise variables ###\n",
    "### LHS Labor Force Participation Rate ###\n",
    "lhs_lf_pr_model_reg = build_linear_seasonal_regression_model(\n",
    "                    lhs_lf_pr[:-num_forecast_steps], lhs_lf_pr_est, \n",
    "                    steps_per_season=1)\n",
    "(lhs_lf_pr_var_post_reg, \n",
    " lhs_lf_pr_forecast_dist_reg) = fit_model_generate_forecast(lhs_lf_pr_model_reg, \n",
    "                        lhs_lf_pr[:-num_forecast_steps], num_forecast_steps, \n",
    "                        num_variational_steps=200)\n",
    "\n",
    "plot_forecast_results(lhs_lf_pr_forecast_dist_reg, trunc_df_years, lhs_lf_pr, \n",
    "                      'LHS LF Participation Rate', num_samples=10)\n",
    "\n",
    "### HSG Labor Force Participation Rate ###\n",
    "hsg_lf_pr_model_reg = build_linear_seasonal_regression_model(\n",
    "                    hsg_lf_pr[:-num_forecast_steps], hsg_lf_pr_est, \n",
    "                    steps_per_season=1)\n",
    "(hsg_lf_pr_var_post_reg, \n",
    " hsg_lf_pr_forecast_dist_reg) = fit_model_generate_forecast(hsg_lf_pr_model_reg, \n",
    "                        hsg_lf_pr[:-num_forecast_steps], num_forecast_steps, \n",
    "                        num_variational_steps=200)\n",
    "\n",
    "plot_forecast_results(hsg_lf_pr_forecast_dist_reg, trunc_df_years, hsg_lf_pr, \n",
    "                      'HSG LF Participation Rate', num_samples=10)\n",
    "\n",
    "### CAD Labor Force Participation Rate ###\n",
    "cad_lf_pr_model_reg = build_linear_seasonal_regression_model(\n",
    "                    cad_lf_pr[:-num_forecast_steps], cad_lf_pr_est, \n",
    "                    steps_per_season=1)\n",
    "(cad_lf_pr_var_post_reg, \n",
    " cad_lf_pr_forecast_dist_reg) = fit_model_generate_forecast(cad_lf_pr_model_reg, \n",
    "                        cad_lf_pr[:-num_forecast_steps], num_forecast_steps, \n",
    "                        num_variational_steps=200)\n",
    "\n",
    "plot_forecast_results(cad_lf_pr_forecast_dist_reg, trunc_df_years, cad_lf_pr, \n",
    "                      'CAD LF Participation Rate', num_samples=10)\n",
    "\n",
    "### BHD Labor Force Participation Rate ###\n",
    "bhd_lf_pr_model_reg = build_linear_seasonal_regression_model(\n",
    "                    bhd_lf_pr[:-num_forecast_steps], bhd_lf_pr_est, \n",
    "                    steps_per_season=1)\n",
    "(bhd_lf_pr_var_post_reg, \n",
    " bhd_lf_pr_forecast_dist_reg) = fit_model_generate_forecast(bhd_lf_pr_model_reg, \n",
    "                        bhd_lf_pr[:-num_forecast_steps], num_forecast_steps, \n",
    "                        num_variational_steps=200)\n",
    "\n",
    "plot_forecast_results(bhd_lf_pr_forecast_dist_reg, trunc_df_years, bhd_lf_pr, \n",
    "                      'BHD LF Participation Rate', num_samples=10)"
   ]
  },
  {
   "cell_type": "markdown",
   "metadata": {},
   "source": [
    "We see that the LHS and BHD forecasts have improved slightly by using the regression variables, while the HSG and CAD forecasts have deteriorated slightly. This suggests using the regressor variables in addition to the past data for the LHS and BHD Labor Force Participation Rate forecasts, and only the past data for the HSG and CAD forecasts. \n",
    "\n",
    "We will now use the above defined models to generate forecasts for the years 2021-2030 for the category-wise labor force variables. Finally we will use the category-wise labor force data forecasts and the past data to generate forecasts for the category-wise median weekly incomes."
   ]
  },
  {
   "cell_type": "code",
   "execution_count": 46,
   "metadata": {
    "execution": {
     "iopub.execute_input": "2021-11-19T19:25:18.447319Z",
     "iopub.status.busy": "2021-11-19T19:25:18.445036Z",
     "iopub.status.idle": "2021-11-19T19:25:46.529770Z",
     "shell.execute_reply": "2021-11-19T19:25:46.528844Z",
     "shell.execute_reply.started": "2021-11-19T19:25:18.447256Z"
    }
   },
   "outputs": [],
   "source": [
    "forecast_years = np.array(range(2021,2031))\n",
    "trunc_df_forecast_yrs = np.hstack((trunc_df_years, forecast_years))\n",
    "num_forecast_steps = 10\n",
    "\n",
    "lhs_lf_level_mean, lhs_lf_level_dist = generate_forecast(lhs_lf_model_reg, \n",
    "                                                       lhs_lf_var_post_reg,\n",
    "                                                       lhs_lf_level,\n",
    "                                                       num_forecast_steps)\n",
    "plot_forecast_future(lhs_lf_level_dist, trunc_df_forecast_yrs, lhs_lf_level, \n",
    "                     'LHS LF Level')\n",
    "lhs_lf_level_forecast = np.hstack((lhs_lf_level, lhs_lf_level_mean))\n",
    "\n",
    "\n",
    "hsg_lf_level_mean, hsg_lf_level_dist = generate_forecast(hsg_lf_model, \n",
    "                                                       hsg_lf_var_post,\n",
    "                                                       hsg_lf_level,\n",
    "                                                       num_forecast_steps)\n",
    "plot_forecast_future(hsg_lf_level_dist, trunc_df_forecast_yrs, hsg_lf_level, \n",
    "                     'HSG LF Level')\n",
    "hsg_lf_level_forecast = np.hstack((hsg_lf_level, hsg_lf_level_mean))\n",
    "\n",
    "\n",
    "cad_lf_level_mean, cad_lf_level_dist = generate_forecast(cad_lf_model_reg, \n",
    "                                                       cad_lf_var_post_reg,\n",
    "                                                       cad_lf_level,\n",
    "                                                       num_forecast_steps)\n",
    "\n",
    "plot_forecast_future(cad_lf_level_dist, trunc_df_forecast_yrs, cad_lf_level, \n",
    "                     'CAD LF Level')\n",
    "cad_lf_level_forecast = np.hstack((cad_lf_level, cad_lf_level_mean))\n",
    "\n",
    "\n",
    "bhd_lf_level_mean, bhd_lf_level_dist = generate_forecast(bhd_lf_model_reg, \n",
    "                                                       bhd_lf_var_post_reg,\n",
    "                                                       bhd_lf_level,\n",
    "                                                       num_forecast_steps)\n",
    "\n",
    "plot_forecast_future(bhd_lf_level_dist, trunc_df_forecast_yrs, bhd_lf_level, \n",
    "                     'BHD LF Level')\n",
    "bhd_lf_level_forecast = np.hstack((bhd_lf_level, bhd_lf_level_mean))"
   ]
  },
  {
   "cell_type": "markdown",
   "metadata": {},
   "source": [
    "While the LHS and HSG Labor Force Levels are predicted to go down, the CAD and BHD Labor Force Levels are predicted to increase. This is in keeping with the rising percentages of high school graduation, and college attendance. "
   ]
  },
  {
   "cell_type": "code",
   "execution_count": 47,
   "metadata": {
    "execution": {
     "iopub.execute_input": "2021-11-19T19:26:12.476410Z",
     "iopub.status.busy": "2021-11-19T19:26:12.475785Z",
     "iopub.status.idle": "2021-11-19T19:26:35.700573Z",
     "shell.execute_reply": "2021-11-19T19:26:35.699601Z",
     "shell.execute_reply.started": "2021-11-19T19:26:12.476367Z"
    }
   },
   "outputs": [],
   "source": [
    "lhs_emp_level_mean, lhs_emp_level_dist = generate_forecast(lhs_emp_model_reg, \n",
    "                                                       lhs_emp_var_post_reg,\n",
    "                                                       lhs_emp_level,\n",
    "                                                       num_forecast_steps)\n",
    "plot_forecast_future(lhs_emp_level_dist, trunc_df_forecast_yrs, lhs_emp_level, \n",
    "                     'LHS Employment Level')\n",
    "lhs_emp_level_forecast = np.hstack((lhs_emp_level, lhs_emp_level_mean))\n",
    "\n",
    "\n",
    "hsg_emp_level_mean, hsg_emp_level_dist = generate_forecast(hsg_emp_model, \n",
    "                                                       hsg_emp_var_post,\n",
    "                                                       hsg_emp_level,\n",
    "                                                       num_forecast_steps)\n",
    "plot_forecast_future(hsg_emp_level_dist, trunc_df_forecast_yrs, hsg_emp_level, \n",
    "                     'HSG Employment Level')\n",
    "hsg_emp_level_forecast = np.hstack((hsg_emp_level, hsg_emp_level_mean))\n",
    "\n",
    "\n",
    "cad_emp_level_mean, cad_emp_level_dist = generate_forecast(cad_emp_model_reg, \n",
    "                                                       cad_emp_var_post_reg,\n",
    "                                                       cad_emp_level,\n",
    "                                                       num_forecast_steps)\n",
    "plot_forecast_future(cad_emp_level_dist, trunc_df_forecast_yrs, cad_emp_level, \n",
    "                     'CAD Employment Level')\n",
    "cad_emp_level_forecast = np.hstack((cad_emp_level, cad_emp_level_mean))\n",
    "\n",
    "\n",
    "bhd_emp_level_mean, bhd_emp_level_dist = generate_forecast(bhd_emp_model_reg, \n",
    "                                                       bhd_emp_var_post_reg,\n",
    "                                                       bhd_emp_level,\n",
    "                                                       num_forecast_steps)\n",
    "plot_forecast_future(bhd_emp_level_dist, trunc_df_forecast_yrs, bhd_emp_level, \n",
    "                     'BHD Employment Level')\n",
    "bhd_emp_level_forecast = np.hstack((bhd_emp_level, bhd_emp_level_mean))"
   ]
  },
  {
   "cell_type": "markdown",
   "metadata": {},
   "source": [
    "Due the recent setback of the pandemic, most employment levels are predicted to either stagnate or decrease and then stagnate."
   ]
  },
  {
   "cell_type": "code",
   "execution_count": 48,
   "metadata": {
    "execution": {
     "iopub.execute_input": "2021-11-19T19:28:09.015393Z",
     "iopub.status.busy": "2021-11-19T19:28:09.015053Z",
     "iopub.status.idle": "2021-11-19T19:28:29.100493Z",
     "shell.execute_reply": "2021-11-19T19:28:29.099482Z",
     "shell.execute_reply.started": "2021-11-19T19:28:09.015358Z"
    }
   },
   "outputs": [],
   "source": [
    "lhs_lf_pr_mean, lhs_lf_pr_dist = generate_forecast(lhs_lf_pr_model_reg, \n",
    "                                                       lhs_lf_pr_var_post_reg,\n",
    "                                                       lhs_lf_pr,\n",
    "                                                       num_forecast_steps)\n",
    "plot_forecast_future(lhs_lf_pr_dist, trunc_df_forecast_yrs, lhs_lf_pr, \n",
    "                     'LHS LF Participation Rate')\n",
    "lhs_lf_pr_forecast = np.hstack((lhs_lf_pr, lhs_lf_pr_mean))\n",
    "\n",
    "\n",
    "hsg_lf_pr_mean, hsg_lf_pr_dist = generate_forecast(hsg_lf_pr_model, \n",
    "                                                       hsg_lf_pr_var_post,\n",
    "                                                       hsg_lf_pr,\n",
    "                                                       num_forecast_steps)\n",
    "plot_forecast_future(hsg_lf_pr_dist, trunc_df_forecast_yrs, hsg_lf_pr, \n",
    "                     'HSG LF Participation Rate')\n",
    "hsg_lf_pr_forecast = np.hstack((hsg_lf_pr, hsg_lf_pr_mean))\n",
    "\n",
    "\n",
    "cad_lf_pr_mean, cad_lf_pr_dist = generate_forecast(cad_lf_pr_model, \n",
    "                                                       cad_lf_pr_var_post,\n",
    "                                                       cad_lf_pr,\n",
    "                                                       num_forecast_steps)\n",
    "plot_forecast_future(cad_lf_pr_dist, trunc_df_forecast_yrs, cad_lf_pr, \n",
    "                     'CAD LF Participation Rate')\n",
    "cad_lf_pr_forecast = np.hstack((cad_lf_pr, cad_lf_pr_mean))\n",
    "\n",
    "\n",
    "bhd_lf_pr_mean, bhd_lf_pr_dist = generate_forecast(bhd_lf_pr_model_reg, \n",
    "                                                       bhd_lf_pr_var_post_reg,\n",
    "                                                       bhd_lf_pr,\n",
    "                                                       num_forecast_steps)\n",
    "plot_forecast_future(bhd_lf_pr_dist, trunc_df_forecast_yrs, bhd_lf_pr, \n",
    "                     'BHD LF Participation Rate')\n",
    "bhd_lf_pr_forecast = np.hstack((bhd_lf_pr, bhd_lf_pr_mean))"
   ]
  },
  {
   "cell_type": "markdown",
   "metadata": {},
   "source": [
    "Except for the LHS category, the Labor Force participation rates for all other categories have been decreasing steadily, without a significant change due to the pandemic, and the trend is predicted to continue."
   ]
  },
  {
   "cell_type": "markdown",
   "metadata": {},
   "source": [
    "We will now estimate the median weekly earnings (MWE) for each educational attainment category by two methods: (i) using all the historical median weekly earnings data (1979 onwards) for that category, and (ii) using the historical MWE data for that category (1992 onwards) and the labor force data for that category as regression variables, since the category-wise labor force data is available only for years 1992 onwards."
   ]
  },
  {
   "cell_type": "code",
   "execution_count": 52,
   "metadata": {
    "execution": {
     "iopub.execute_input": "2021-11-19T20:17:42.750901Z",
     "iopub.status.busy": "2021-11-19T20:17:42.750563Z",
     "iopub.status.idle": "2021-11-19T20:17:42.761327Z",
     "shell.execute_reply": "2021-11-19T20:17:42.760269Z",
     "shell.execute_reply.started": "2021-11-19T20:17:42.750870Z"
    }
   },
   "outputs": [],
   "source": [
    "lhs_mwe_full = (full_df['LHS MEDIAN WEEKLY EARNING (IN 2020 DOLLARS)'].dropna()\n",
    "               ).to_numpy()\n",
    "hsg_mwe_full = (full_df['HSG MEDIAN WEEKLY EARNING (IN 2020 DOLLARS)'].dropna()\n",
    "               ).to_numpy()\n",
    "cad_mwe_full = (full_df['CAD MEDIAN WEEKLY EARNING (IN 2020 DOLLARS)'].dropna()\n",
    "               ).to_numpy()\n",
    "bhd_mwe_full = (full_df['BHD MEDIAN WEEKLY EARNING (IN 2020 DOLLARS)'].dropna()\n",
    "               ).to_numpy()\n",
    "full_mwe_years = (full_df['YEAR'].to_numpy())[-lhs_mwe_full.size:]\n",
    "\n",
    "\n",
    "lhs_mwe_trunc = (truncated_df['LHS MEDIAN WEEKLY EARNING (IN 2020 DOLLARS)'].dropna()\n",
    "               ).to_numpy()\n",
    "hsg_mwe_trunc = (truncated_df['HSG MEDIAN WEEKLY EARNING (IN 2020 DOLLARS)'].dropna()\n",
    "               ).to_numpy()\n",
    "cad_mwe_trunc = (truncated_df['CAD MEDIAN WEEKLY EARNING (IN 2020 DOLLARS)'].dropna()\n",
    "               ).to_numpy()\n",
    "bhd_mwe_trunc = (truncated_df['BHD MEDIAN WEEKLY EARNING (IN 2020 DOLLARS)'].dropna()\n",
    "               ).to_numpy()"
   ]
  },
  {
   "cell_type": "markdown",
   "metadata": {},
   "source": [
    "(i) Using only the historical MWE data (1979 onwards):"
   ]
  },
  {
   "cell_type": "code",
   "execution_count": 53,
   "metadata": {
    "execution": {
     "iopub.execute_input": "2021-11-19T20:17:45.437999Z",
     "iopub.status.busy": "2021-11-19T20:17:45.437517Z",
     "iopub.status.idle": "2021-11-19T20:17:46.444555Z",
     "shell.execute_reply": "2021-11-19T20:17:46.443293Z",
     "shell.execute_reply.started": "2021-11-19T20:17:45.437958Z"
    }
   },
   "outputs": [],
   "source": [
    "num_forecast_steps = 6\n",
    "### To estimate the seasonal/oscillating component of the MWE ###\n",
    "lhs_mwe_full_fft = fft(lhs_mwe_full[:-num_forecast_steps]-\n",
    "                 np.mean(lhs_mwe_full[:-num_forecast_steps]))\n",
    "plt.plot(np.abs(lhs_mwe_full_fft))\n",
    "plt.grid()\n",
    "plt.title('LHS MWE FFT')\n",
    "plt.show()\n",
    "\n",
    "hsg_mwe_full_fft = fft(hsg_mwe_full[:-num_forecast_steps]-\n",
    "                np.mean(hsg_mwe_full[:-num_forecast_steps]))\n",
    "plt.plot(np.abs(hsg_mwe_full_fft))\n",
    "plt.grid()\n",
    "plt.title('HSG MWE FFT')\n",
    "plt.show()\n",
    "\n",
    "cad_mwe_full_fft = fft(cad_mwe_full[:-num_forecast_steps]-\n",
    "                np.mean(cad_mwe_full[:-num_forecast_steps]))\n",
    "plt.plot(np.abs(cad_mwe_full_fft))\n",
    "plt.grid()\n",
    "plt.title('CAD MWE FFT')\n",
    "plt.show()\n",
    "\n",
    "bhd_mwe_full_fft = fft(bhd_mwe_full[:-num_forecast_steps]-\n",
    "                np.mean(bhd_mwe_full[:-num_forecast_steps]))\n",
    "plt.plot(np.abs(bhd_mwe_full_fft))\n",
    "plt.grid()\n",
    "plt.title('BHD MWE FFT')\n",
    "plt.show()"
   ]
  },
  {
   "cell_type": "markdown",
   "metadata": {},
   "source": [
    "We see that while the LHS and BHD MWE data have FFT peaks at 1 year, the HSG and CAD MWE data have secondary peaks at 4 years."
   ]
  },
  {
   "cell_type": "code",
   "execution_count": 54,
   "metadata": {
    "execution": {
     "iopub.execute_input": "2021-11-19T20:17:54.032755Z",
     "iopub.status.busy": "2021-11-19T20:17:54.032422Z",
     "iopub.status.idle": "2021-11-19T20:19:40.981329Z",
     "shell.execute_reply": "2021-11-19T20:19:40.980014Z",
     "shell.execute_reply.started": "2021-11-19T20:17:54.032720Z"
    }
   },
   "outputs": [],
   "source": [
    "### since we have a smaller dataset for the category-wise variables ###\n",
    "### LHS MWE ###\n",
    "lhs_mwe_model = build_linear_trend_seasonal_model(lhs_mwe_full[:-num_forecast_steps])\n",
    "(lhs_mwe_var_post, \n",
    " lhs_mwe_forecast_dist) = fit_model_generate_forecast(lhs_mwe_model, \n",
    "                        lhs_mwe_full[:-num_forecast_steps], num_forecast_steps, \n",
    "                        num_variational_steps=200)\n",
    "\n",
    "plot_forecast_results(lhs_mwe_forecast_dist, full_mwe_years, lhs_mwe_full, \n",
    "                      'LHS MWE', num_samples=10)\n",
    "\n",
    "### HSG MWE ###\n",
    "hsg_mwe_model = build_linear_trend_seasonal_model(hsg_mwe_full[:-num_forecast_steps],\n",
    "                                                steps_per_season=2)\n",
    "(hsg_mwe_var_post, \n",
    " hsg_mwe_forecast_dist) = fit_model_generate_forecast(hsg_mwe_model, \n",
    "                        hsg_mwe_full[:-num_forecast_steps], num_forecast_steps, \n",
    "                        num_variational_steps=200)\n",
    "\n",
    "plot_forecast_results(hsg_mwe_forecast_dist, full_mwe_years, hsg_mwe_full, \n",
    "                      'HSG MWE', num_samples=10)\n",
    "\n",
    "### CAD MWE ###\n",
    "cad_mwe_model = build_linear_trend_seasonal_model(cad_mwe_full[:-num_forecast_steps],\n",
    "                                                steps_per_season=2)\n",
    "(cad_mwe_var_post, \n",
    " cad_mwe_forecast_dist) = fit_model_generate_forecast(cad_mwe_model, \n",
    "                        cad_mwe_full[:-num_forecast_steps], num_forecast_steps, \n",
    "                        num_variational_steps=200)\n",
    "\n",
    "plot_forecast_results(cad_mwe_forecast_dist, full_mwe_years, cad_mwe_full, \n",
    "                      'CAD MWE', num_samples=10)\n",
    "\n",
    "### BHD MWE ###\n",
    "bhd_mwe_model = build_linear_trend_seasonal_model(bhd_mwe_full[:-num_forecast_steps],\n",
    "                                                steps_per_season=1)\n",
    "(bhd_mwe_var_post, \n",
    " bhd_mwe_forecast_dist) = fit_model_generate_forecast(bhd_mwe_model, \n",
    "                        bhd_mwe_full[:-num_forecast_steps], num_forecast_steps, \n",
    "                        num_variational_steps=200)\n",
    "\n",
    "plot_forecast_results(bhd_mwe_forecast_dist, full_mwe_years, bhd_mwe_full, \n",
    "                      'BHD MWE', num_samples=10)"
   ]
  },
  {
   "cell_type": "markdown",
   "metadata": {},
   "source": [
    "We see that the forecasts based only on historical trends show a downward trend for all but the BHD category.\n",
    "\n",
    "We will now use the labor force variables as regressors in addition to historical data for predicting the category-wise median weekly earnings."
   ]
  },
  {
   "cell_type": "code",
   "execution_count": 55,
   "metadata": {
    "execution": {
     "iopub.execute_input": "2021-11-19T20:19:40.984017Z",
     "iopub.status.busy": "2021-11-19T20:19:40.983643Z",
     "iopub.status.idle": "2021-11-19T20:19:40.996904Z",
     "shell.execute_reply": "2021-11-19T20:19:40.995898Z",
     "shell.execute_reply.started": "2021-11-19T20:19:40.983970Z"
    }
   },
   "outputs": [],
   "source": [
    "#### normalize the labor force variables #### to make them within 0-10\n",
    "lf_level_normalization = 1./10000.\n",
    "emp_level_normalization = 1./10000.\n",
    "lf_pr_normalization = 1./10.\n",
    "\n",
    "lhs_lf_level_reg = lhs_lf_level_forecast*lf_level_normalization\n",
    "hsg_lf_level_reg = hsg_lf_level_forecast*lf_level_normalization\n",
    "cad_lf_level_reg = cad_lf_level_forecast*lf_level_normalization\n",
    "bhd_lf_level_reg = bhd_lf_level_forecast*lf_level_normalization\n",
    "\n",
    "lhs_emp_level_reg = lhs_emp_level_forecast*emp_level_normalization\n",
    "hsg_emp_level_reg = hsg_emp_level_forecast*emp_level_normalization\n",
    "cad_emp_level_reg = cad_emp_level_forecast*emp_level_normalization\n",
    "bhd_emp_level_reg = bhd_emp_level_forecast*emp_level_normalization\n",
    "\n",
    "lhs_lf_pr_reg = lhs_lf_pr_forecast*lf_pr_normalization\n",
    "hsg_lf_pr_reg = hsg_lf_pr_forecast*lf_pr_normalization\n",
    "cad_lf_pr_reg = cad_lf_pr_forecast*lf_pr_normalization\n",
    "bhd_lf_pr_reg = bhd_lf_pr_forecast*lf_pr_normalization\n",
    "\n",
    "lhs_mwe_est = np.transpose(np.vstack((lhs_lf_level_reg, \n",
    "                                    lhs_emp_level_reg, \n",
    "                                    lhs_lf_pr_reg)))\n",
    "hsg_mwe_est = np.transpose(np.vstack((hsg_lf_level_reg, \n",
    "                                    hsg_emp_level_reg, \n",
    "                                    hsg_lf_pr_reg)))\n",
    "cad_mwe_est = np.transpose(np.vstack((cad_lf_level_reg, \n",
    "                                    cad_emp_level_reg, \n",
    "                                    cad_lf_pr_reg)))\n",
    "bhd_mwe_est = np.transpose(np.vstack((bhd_lf_level_reg, \n",
    "                                    bhd_emp_level_reg, \n",
    "                                    bhd_lf_pr_reg)))\n",
    "\n",
    "lhs_mwe_est = tf.reshape(lhs_mwe_est, (-1,3))\n",
    "hsg_mwe_est = tf.reshape(cad_mwe_est, (-1,3))\n",
    "cad_mwe_est = tf.reshape(cad_mwe_est, (-1,3))\n",
    "bhd_mwe_est = tf.reshape(bhd_mwe_est, (-1,3))"
   ]
  },
  {
   "cell_type": "code",
   "execution_count": 56,
   "metadata": {
    "execution": {
     "iopub.execute_input": "2021-11-19T20:19:40.998693Z",
     "iopub.status.busy": "2021-11-19T20:19:40.998346Z",
     "iopub.status.idle": "2021-11-19T20:21:58.451912Z",
     "shell.execute_reply": "2021-11-19T20:21:58.450916Z",
     "shell.execute_reply.started": "2021-11-19T20:19:40.998593Z"
    }
   },
   "outputs": [],
   "source": [
    "lhs_mwe_model_reg = build_linear_seasonal_regression_model(\n",
    "                            lhs_mwe_trunc[:-num_forecast_steps],\n",
    "                            lhs_mwe_est, steps_per_season=1)\n",
    "(lhs_mwe_var_post_reg, \n",
    " lhs_mwe_forecast_dist_reg) = fit_model_generate_forecast(lhs_mwe_model_reg, \n",
    "                        lhs_mwe_trunc[:-num_forecast_steps], num_forecast_steps, \n",
    "                        num_variational_steps=200)\n",
    "plot_forecast_results(lhs_mwe_forecast_dist_reg, trunc_df_years, lhs_mwe_trunc, \n",
    "                      'LHS MWE', num_samples=10)\n",
    "\n",
    "\n",
    "hsg_mwe_model_reg = build_linear_seasonal_regression_model(\n",
    "                            hsg_mwe_trunc[:-num_forecast_steps],\n",
    "                            hsg_mwe_est, steps_per_season=2)\n",
    "(hsg_mwe_var_post_reg, \n",
    " hsg_mwe_forecast_dist_reg) = fit_model_generate_forecast(hsg_mwe_model_reg, \n",
    "                        hsg_mwe_trunc[:-num_forecast_steps], num_forecast_steps, \n",
    "                        num_variational_steps=200)\n",
    "plot_forecast_results(hsg_mwe_forecast_dist_reg, trunc_df_years, hsg_mwe_trunc, \n",
    "                      'HSG MWE', num_samples=10)\n",
    "\n",
    "\n",
    "cad_mwe_model_reg = build_linear_seasonal_regression_model(\n",
    "                            cad_mwe_trunc[:-num_forecast_steps],\n",
    "                            cad_mwe_est, steps_per_season=2)\n",
    "(cad_mwe_var_post_reg, \n",
    " cad_mwe_forecast_dist_reg) = fit_model_generate_forecast(cad_mwe_model_reg, \n",
    "                        cad_mwe_trunc[:-num_forecast_steps], num_forecast_steps, \n",
    "                        num_variational_steps=200)\n",
    "plot_forecast_results(cad_mwe_forecast_dist_reg, trunc_df_years, cad_mwe_trunc, \n",
    "                      'CAD MWE', num_samples=10)\n",
    "\n",
    "\n",
    "bhd_mwe_model_reg = build_linear_seasonal_regression_model(\n",
    "                            bhd_mwe_trunc[:-num_forecast_steps],\n",
    "                            bhd_mwe_est, steps_per_season=1)\n",
    "(bhd_mwe_var_post_reg, \n",
    " bhd_mwe_forecast_dist_reg) = fit_model_generate_forecast(bhd_mwe_model_reg, \n",
    "                        bhd_mwe_trunc[:-num_forecast_steps], num_forecast_steps, \n",
    "                        num_variational_steps=200)\n",
    "plot_forecast_results(bhd_mwe_forecast_dist_reg, trunc_df_years, bhd_mwe_trunc, \n",
    "                      'BHD MWE', num_samples=10)"
   ]
  },
  {
   "cell_type": "markdown",
   "metadata": {},
   "source": [
    "We see that using the regressor variables mitigates the overall downward trend for most of the forecasts of the median weekly earnings. While using the regressor variables does not lead to a significant improvement in performance, it does not cause a significant deterioration either, and leads to a better trend overall. \n",
    "\n",
    "We will generate forecasts for the category-wise median weekly earnings using both methods (i) only the historical median weekly earnings data, and (ii) the labor force data forecasts for each category in addition to the historical median weekly earnings data."
   ]
  },
  {
   "cell_type": "code",
   "execution_count": 61,
   "metadata": {
    "execution": {
     "iopub.execute_input": "2021-11-19T20:42:50.863362Z",
     "iopub.status.busy": "2021-11-19T20:42:50.862463Z",
     "iopub.status.idle": "2021-11-19T20:43:08.910404Z",
     "shell.execute_reply": "2021-11-19T20:43:08.909526Z",
     "shell.execute_reply.started": "2021-11-19T20:42:50.863315Z"
    }
   },
   "outputs": [],
   "source": [
    "#### METHOD (I) ####\n",
    "forecast_years = np.array(range(2021,2031))\n",
    "mwe_forecast_yrs = np.hstack((full_mwe_years, forecast_years))\n",
    "num_forecast_steps = 10\n",
    "\n",
    "lhs_mwe_mean, lhs_mwe_dist = generate_forecast(lhs_mwe_model, \n",
    "                                                       lhs_mwe_var_post,\n",
    "                                                       lhs_mwe_full,\n",
    "                                                       num_forecast_steps)\n",
    "plot_forecast_future(lhs_mwe_dist, mwe_forecast_yrs, lhs_mwe_full, \n",
    "                     'LHS Median Weekly Earnings')\n",
    "\n",
    "\n",
    "hsg_mwe_mean, hsg_mwe_dist = generate_forecast(hsg_mwe_model, \n",
    "                                                       hsg_mwe_var_post,\n",
    "                                                       hsg_mwe_full,\n",
    "                                                       num_forecast_steps)\n",
    "plot_forecast_future(hsg_mwe_dist, mwe_forecast_yrs, hsg_mwe_full, \n",
    "                     'HSG Median Weekly Earnings')\n",
    "\n",
    "\n",
    "cad_mwe_mean, cad_mwe_dist = generate_forecast(cad_mwe_model, \n",
    "                                                       cad_mwe_var_post,\n",
    "                                                       cad_mwe_full,\n",
    "                                                       num_forecast_steps)\n",
    "plot_forecast_future(cad_mwe_dist, mwe_forecast_yrs, cad_mwe_full, \n",
    "                     'CAD Median Weekly Earnings')\n",
    "\n",
    "\n",
    "bhd_mwe_mean, bhd_mwe_dist = generate_forecast(bhd_mwe_model, \n",
    "                                                       bhd_mwe_var_post,\n",
    "                                                       bhd_mwe_full,\n",
    "                                                       num_forecast_steps)\n",
    "plot_forecast_future(bhd_mwe_dist, mwe_forecast_yrs, bhd_mwe_full, \n",
    "                     'BHD Median Weekly Earnings')"
   ]
  },
  {
   "cell_type": "markdown",
   "metadata": {},
   "source": [
    "We see that in keeping with the earlier forecast, using only the historical data suggests a further downward trend for the median weekly earnings for each category except for BHD -- persons with Bachelors or Higher Degree. \n",
    "\n",
    "We will now generate a forecast using both the historical data and forecasts for the labor force data."
   ]
  },
  {
   "cell_type": "code",
   "execution_count": 60,
   "metadata": {
    "execution": {
     "iopub.execute_input": "2021-11-19T20:41:21.425849Z",
     "iopub.status.busy": "2021-11-19T20:41:21.425497Z",
     "iopub.status.idle": "2021-11-19T20:41:44.110650Z",
     "shell.execute_reply": "2021-11-19T20:41:44.109800Z",
     "shell.execute_reply.started": "2021-11-19T20:41:21.425802Z"
    }
   },
   "outputs": [],
   "source": [
    "#### METHOD (II) ####\n",
    "forecast_years = np.array(range(2021,2031))\n",
    "mwe_forecast_yrs = np.hstack((full_mwe_years, forecast_years))\n",
    "num_forecast_steps = 10\n",
    "\n",
    "lhs_mwe_mean, lhs_mwe_dist = generate_forecast(lhs_mwe_model_reg, \n",
    "                                                       lhs_mwe_var_post_reg,\n",
    "                                                       lhs_mwe_trunc,\n",
    "                                                       num_forecast_steps)\n",
    "plot_forecast_future(lhs_mwe_dist, mwe_forecast_yrs, lhs_mwe_full, \n",
    "                     'LHS Median Weekly Earnings')\n",
    "\n",
    "\n",
    "hsg_mwe_mean, hsg_mwe_dist = generate_forecast(hsg_mwe_model_reg, \n",
    "                                                       hsg_mwe_var_post_reg,\n",
    "                                                       hsg_mwe_trunc,\n",
    "                                                       num_forecast_steps)\n",
    "plot_forecast_future(hsg_mwe_dist, mwe_forecast_yrs, hsg_mwe_full, \n",
    "                     'HSG Median Weekly Earnings')\n",
    "\n",
    "\n",
    "cad_mwe_mean, cad_mwe_dist = generate_forecast(cad_mwe_model_reg, \n",
    "                                                       cad_mwe_var_post_reg,\n",
    "                                                       cad_mwe_trunc,\n",
    "                                                       num_forecast_steps)\n",
    "plot_forecast_future(cad_mwe_dist, mwe_forecast_yrs, cad_mwe_full, \n",
    "                     'CAD Median Weekly Earnings')\n",
    "\n",
    "\n",
    "bhd_mwe_mean, bhd_mwe_dist = generate_forecast(bhd_mwe_model_reg, \n",
    "                                                       bhd_mwe_var_post_reg,\n",
    "                                                       bhd_mwe_trunc,\n",
    "                                                       num_forecast_steps)\n",
    "plot_forecast_future(bhd_mwe_dist, mwe_forecast_yrs, bhd_mwe_full, \n",
    "                     'BHD Median Weekly Earnings')"
   ]
  },
  {
   "cell_type": "markdown",
   "metadata": {},
   "source": [
    "Using the Labor force data forecasts, we see an upward trend for the median weekly earnings for all categories except LHS (persons with Less than a High School graduation). However, the HSG and CAD categories show a stagnation of the median weekly earnings after a few years, and it is only the BHD category which shows a continous upward trend for the next decade. \n",
    "\n",
    "The conclusion is that for persons without a bachelors degree, earnings are going to stagnate or decrease in the coming years. This suggests that the government must try to make college education accessible to all."
   ]
  },
  {
   "cell_type": "code",
   "execution_count": null,
   "metadata": {},
   "outputs": [],
   "source": []
  }
 ],
 "metadata": {
  "kernelspec": {
   "display_name": "Python 2",
   "language": "python",
   "name": "python2"
  },
  "language_info": {
   "codemirror_mode": {
    "name": "ipython",
    "version": 2
   },
   "file_extension": ".py",
   "mimetype": "text/x-python",
   "name": "python",
   "nbconvert_exporter": "python",
   "pygments_lexer": "ipython2",
   "version": "2.7.10"
  }
 },
 "nbformat": 4,
 "nbformat_minor": 4
}
